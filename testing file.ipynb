{
 "cells": [
  {
   "cell_type": "code",
   "execution_count": 35,
   "id": "89b4c8ca",
   "metadata": {},
   "outputs": [],
   "source": [
    "import pickle\n",
    "import json\n",
    "import numpy as np"
   ]
  },
  {
   "cell_type": "code",
   "execution_count": 36,
   "id": "b3d1420a",
   "metadata": {},
   "outputs": [],
   "source": [
    "with open(r'artifacts/model.pkl','rb') as file:\n",
    "    model = pickle.load(file)\n",
    "    \n",
    "with open(r'artifacts/scaler.pkl','rb') as file:\n",
    "    scaler = pickle.load(file)\n",
    "    \n",
    "with open(r'artifacts/model_data.json','r') as file:\n",
    "    data = json.load(file)"
   ]
  },
  {
   "cell_type": "code",
   "execution_count": 37,
   "id": "b9542cc8",
   "metadata": {},
   "outputs": [
    {
     "data": {
      "text/plain": [
       "DecisionTreeClassifier(ccp_alpha=9.088086276232383e-05, random_state=7)"
      ]
     },
     "execution_count": 37,
     "metadata": {},
     "output_type": "execute_result"
    }
   ],
   "source": [
    "model"
   ]
  },
  {
   "cell_type": "code",
   "execution_count": 38,
   "id": "a9c2c10f",
   "metadata": {},
   "outputs": [
    {
     "data": {
      "text/plain": [
       "StandardScaler()"
      ]
     },
     "execution_count": 38,
     "metadata": {},
     "output_type": "execute_result"
    }
   ],
   "source": [
    "scaler"
   ]
  },
  {
   "cell_type": "code",
   "execution_count": 39,
   "id": "eb8cbfe2",
   "metadata": {},
   "outputs": [
    {
     "data": {
      "text/plain": [
       "{'features': ['no_of_adults',\n",
       "  'no_of_children',\n",
       "  'no_of_weekend_nights',\n",
       "  'no_of_week_nights',\n",
       "  'type_of_meal_plan',\n",
       "  'required_car_parking_space',\n",
       "  'room_type_reserved',\n",
       "  'lead_time',\n",
       "  'arrival_year',\n",
       "  'arrival_month',\n",
       "  'arrival_date',\n",
       "  'repeated_guest',\n",
       "  'no_of_previous_cancellations',\n",
       "  'no_of_previous_bookings_not_canceled',\n",
       "  'avg_price_per_room',\n",
       "  'no_of_special_requests',\n",
       "  'market_segment_type_Aviation',\n",
       "  'market_segment_type_Complementary',\n",
       "  'market_segment_type_Corporate',\n",
       "  'market_segment_type_Offline',\n",
       "  'market_segment_type_Online'],\n",
       " 'type_of_meal_plan': {'Meal Plan 1': 1,\n",
       "  'Not Selected': 0,\n",
       "  'Meal Plan 2': 2,\n",
       "  'Meal Plan 3': 3},\n",
       " 'room_type_reserved': {'Room_Type 1': 1,\n",
       "  'Room_Type 4': 4,\n",
       "  'Room_Type 6': 6,\n",
       "  'Room_Type 2': 2,\n",
       "  'Room_Type 5': 5,\n",
       "  'Room_Type 7': 7,\n",
       "  'Room_Type 3': 3}}"
      ]
     },
     "execution_count": 39,
     "metadata": {},
     "output_type": "execute_result"
    }
   ],
   "source": [
    "data"
   ]
  },
  {
   "cell_type": "code",
   "execution_count": 40,
   "id": "98e64385",
   "metadata": {},
   "outputs": [
    {
     "data": {
      "text/plain": [
       "array([0., 0., 0., 0., 0., 0., 0., 0., 0., 0., 0., 0., 0., 0., 0., 0., 0.,\n",
       "       0., 0., 0., 0.])"
      ]
     },
     "execution_count": 40,
     "metadata": {},
     "output_type": "execute_result"
    }
   ],
   "source": [
    "test_array = np.zeros(model.n_features_in_)\n",
    "test_array"
   ]
  },
  {
   "cell_type": "markdown",
   "id": "56ba5368",
   "metadata": {},
   "source": [
    "### test data"
   ]
  },
  {
   "cell_type": "code",
   "execution_count": 41,
   "id": "ebb8d0a8",
   "metadata": {},
   "outputs": [],
   "source": [
    "no_of_adults = 2.0\n",
    "no_of_children = 0.0\n",
    "no_of_weekend_nights = 1.0\n",
    "no_of_week_nights = 2.0\n",
    "type_of_meal_plan = 1.0\n",
    "required_car_parking_space = 0.0\n",
    "room_type_reserved = 1.0\n",
    "lead_time = 224.0\n",
    "arrival_year = 2017.0\n",
    "arrival_month = 10.0\n",
    "arrival_date = 2.0\n",
    "repeated_guest = 0.0\n",
    "no_of_previous_cancellations = 0.0\n",
    "no_of_previous_bookings_not_canceled = 0.0\n",
    "avg_price_per_room = 65.0\n",
    "no_of_special_requests = 0.0\n",
    "market_segment_type_Aviation = 0.0\n",
    "market_segment_type_Complementary = 0.0\n",
    "market_segment_type_Corporate = 0.0\n",
    "market_segment_type_Offline = 1.0\n",
    "market_segment_type_Online = 0.0"
   ]
  },
  {
   "cell_type": "code",
   "execution_count": 42,
   "id": "44b468b8",
   "metadata": {},
   "outputs": [
    {
     "ename": "KeyError",
     "evalue": "1.0",
     "output_type": "error",
     "traceback": [
      "\u001b[1;31m---------------------------------------------------------------------------\u001b[0m",
      "\u001b[1;31mKeyError\u001b[0m                                  Traceback (most recent call last)",
      "\u001b[1;32m~\\AppData\\Local\\Temp\\ipykernel_5508\\1681628781.py\u001b[0m in \u001b[0;36m<module>\u001b[1;34m\u001b[0m\n\u001b[0;32m      5\u001b[0m \u001b[0mtest_array\u001b[0m\u001b[1;33m[\u001b[0m\u001b[1;36m4\u001b[0m\u001b[1;33m]\u001b[0m \u001b[1;33m=\u001b[0m \u001b[0mtype_of_meal_plan\u001b[0m\u001b[1;33m\u001b[0m\u001b[1;33m\u001b[0m\u001b[0m\n\u001b[0;32m      6\u001b[0m \u001b[0mtest_array\u001b[0m\u001b[1;33m[\u001b[0m\u001b[1;36m5\u001b[0m\u001b[1;33m]\u001b[0m \u001b[1;33m=\u001b[0m \u001b[0mrequired_car_parking_space\u001b[0m\u001b[1;33m\u001b[0m\u001b[1;33m\u001b[0m\u001b[0m\n\u001b[1;32m----> 7\u001b[1;33m \u001b[0mtest_array\u001b[0m\u001b[1;33m[\u001b[0m\u001b[1;36m6\u001b[0m\u001b[1;33m]\u001b[0m \u001b[1;33m=\u001b[0m \u001b[0mdata\u001b[0m\u001b[1;33m[\u001b[0m\u001b[1;34m'room_type_reserved'\u001b[0m\u001b[1;33m]\u001b[0m\u001b[1;33m[\u001b[0m\u001b[0mroom_type_reserved\u001b[0m\u001b[1;33m]\u001b[0m\u001b[1;33m\u001b[0m\u001b[1;33m\u001b[0m\u001b[0m\n\u001b[0m\u001b[0;32m      8\u001b[0m \u001b[0mtest_array\u001b[0m\u001b[1;33m[\u001b[0m\u001b[1;36m7\u001b[0m\u001b[1;33m]\u001b[0m \u001b[1;33m=\u001b[0m \u001b[0mlead_time\u001b[0m\u001b[1;33m\u001b[0m\u001b[1;33m\u001b[0m\u001b[0m\n\u001b[0;32m      9\u001b[0m \u001b[0mtest_array\u001b[0m\u001b[1;33m[\u001b[0m\u001b[1;36m8\u001b[0m\u001b[1;33m]\u001b[0m \u001b[1;33m=\u001b[0m \u001b[0marrival_year\u001b[0m\u001b[1;33m\u001b[0m\u001b[1;33m\u001b[0m\u001b[0m\n",
      "\u001b[1;31mKeyError\u001b[0m: 1.0"
     ]
    }
   ],
   "source": [
    "test_array[0] = no_of_adults\n",
    "test_array[1] = no_of_children\n",
    "test_array[2] = no_of_weekend_nights\n",
    "test_array[3] = no_of_week_nights\n",
    "test_array[4] = type_of_meal_plan\n",
    "test_array[5] = required_car_parking_space\n",
    "test_array[6] = data['room_type_reserved'][room_type_reserved]\n",
    "test_array[7] = lead_time\n",
    "test_array[8] = arrival_year\n",
    "test_array[9] = arrival_month\n",
    "test_array[10] = arrival_date\n",
    "test_array[11] = repeated_guest\n",
    "test_array[12] = no_of_previous_cancellations\n",
    "test_array[13] = no_of_previous_bookings_not_canceled\n",
    "test_array[14] = avg_price_per_room\n",
    "test_array[15] = no_of_special_requests\n",
    "#index = data['features'].index(data[''])\n"
   ]
  },
  {
   "cell_type": "code",
   "execution_count": 43,
   "id": "ed67940c",
   "metadata": {},
   "outputs": [
    {
     "data": {
      "text/plain": [
       "{'features': ['no_of_adults',\n",
       "  'no_of_children',\n",
       "  'no_of_weekend_nights',\n",
       "  'no_of_week_nights',\n",
       "  'type_of_meal_plan',\n",
       "  'required_car_parking_space',\n",
       "  'room_type_reserved',\n",
       "  'lead_time',\n",
       "  'arrival_year',\n",
       "  'arrival_month',\n",
       "  'arrival_date',\n",
       "  'repeated_guest',\n",
       "  'no_of_previous_cancellations',\n",
       "  'no_of_previous_bookings_not_canceled',\n",
       "  'avg_price_per_room',\n",
       "  'no_of_special_requests',\n",
       "  'market_segment_type_Aviation',\n",
       "  'market_segment_type_Complementary',\n",
       "  'market_segment_type_Corporate',\n",
       "  'market_segment_type_Offline',\n",
       "  'market_segment_type_Online'],\n",
       " 'type_of_meal_plan': {'Meal Plan 1': 1,\n",
       "  'Not Selected': 0,\n",
       "  'Meal Plan 2': 2,\n",
       "  'Meal Plan 3': 3},\n",
       " 'room_type_reserved': {'Room_Type 1': 1,\n",
       "  'Room_Type 4': 4,\n",
       "  'Room_Type 6': 6,\n",
       "  'Room_Type 2': 2,\n",
       "  'Room_Type 5': 5,\n",
       "  'Room_Type 7': 7,\n",
       "  'Room_Type 3': 3}}"
      ]
     },
     "execution_count": 43,
     "metadata": {},
     "output_type": "execute_result"
    }
   ],
   "source": [
    "data"
   ]
  },
  {
   "cell_type": "code",
   "execution_count": 44,
   "id": "de8dddb6",
   "metadata": {},
   "outputs": [
    {
     "data": {
      "text/plain": [
       "array([2., 0., 1., 2., 1., 0., 0., 0., 0., 0., 0., 0., 0., 0., 0., 0., 0.,\n",
       "       0., 0., 0., 0.])"
      ]
     },
     "execution_count": 44,
     "metadata": {},
     "output_type": "execute_result"
    }
   ],
   "source": [
    "test_array"
   ]
  },
  {
   "cell_type": "code",
   "execution_count": 45,
   "id": "18bad22f",
   "metadata": {},
   "outputs": [],
   "source": [
    "no_of_adults = 2\n",
    "no_of_children = 0\n",
    "no_of_weekend_nights = 1\n",
    "no_of_week_nights = 2\n",
    "type_of_meal_plan = 'Meal Plan 2'\n",
    "required_car_parking_space = 0\n",
    "room_type_reserved = 'Room_Type 3'\n",
    "lead_time = 224\n",
    "arrival_year = 2017\n",
    "arrival_month = 10\n",
    "arrival_date = 2\n",
    "market_segment_type = 'Online'\n",
    "repeated_guest = 0\n",
    "no_of_previous_cancellations = 0\n",
    "no_of_previous_bookings_not_canceled = 0\n",
    "avg_price_per_room = 65.0\n",
    "no_of_special_requests = 0"
   ]
  },
  {
   "cell_type": "code",
   "execution_count": 46,
   "id": "5bf2de06",
   "metadata": {},
   "outputs": [],
   "source": [
    "test_array[0] = no_of_adults\n",
    "test_array[1] = no_of_children\n",
    "test_array[2] = no_of_weekend_nights\n",
    "test_array[3] = no_of_week_nights\n",
    "test_array[4] = data['type_of_meal_plan'][type_of_meal_plan]\n",
    "test_array[5] = required_car_parking_space\n",
    "test_array[6] = data['room_type_reserved'][room_type_reserved]\n",
    "test_array[7] = lead_time\n",
    "test_array[8] = arrival_year\n",
    "test_array[9] = arrival_month\n",
    "test_array[10] = arrival_date\n",
    "test_array[11] = repeated_guest\n",
    "test_array[12] = no_of_previous_cancellations\n",
    "test_array[13] = no_of_previous_bookings_not_canceled\n",
    "test_array[14] = avg_price_per_room\n",
    "test_array[15] = no_of_special_requests\n",
    "\n",
    "ind = data['features'].index('market_segment_type_'+market_segment_type)\n",
    "test_array[ind] = 1"
   ]
  },
  {
   "cell_type": "code",
   "execution_count": 47,
   "id": "d3a966a8",
   "metadata": {},
   "outputs": [
    {
     "data": {
      "text/plain": [
       "array([2.000e+00, 0.000e+00, 1.000e+00, 2.000e+00, 2.000e+00, 0.000e+00,\n",
       "       3.000e+00, 2.240e+02, 2.017e+03, 1.000e+01, 2.000e+00, 0.000e+00,\n",
       "       0.000e+00, 0.000e+00, 6.500e+01, 0.000e+00, 0.000e+00, 0.000e+00,\n",
       "       0.000e+00, 0.000e+00, 1.000e+00])"
      ]
     },
     "execution_count": 47,
     "metadata": {},
     "output_type": "execute_result"
    }
   ],
   "source": [
    "test_array"
   ]
  },
  {
   "cell_type": "code",
   "execution_count": 48,
   "id": "8d069913",
   "metadata": {},
   "outputs": [
    {
     "name": "stderr",
     "output_type": "stream",
     "text": [
      "C:\\Users\\Admin\\anaconda3\\lib\\site-packages\\sklearn\\base.py:450: UserWarning: X does not have valid feature names, but StandardScaler was fitted with feature names\n",
      "  warnings.warn(\n"
     ]
    }
   ],
   "source": [
    "scaled_array = scaler.transform([test_array])"
   ]
  },
  {
   "cell_type": "code",
   "execution_count": 49,
   "id": "90aa5e1f",
   "metadata": {},
   "outputs": [
    {
     "data": {
      "text/plain": [
       "array([[ 0.30055965, -0.26543511,  0.22233699, -0.14489385,  2.18673111,\n",
       "        -0.17881927,  0.92233216,  1.62147452, -2.13746929,  0.83924152,\n",
       "        -1.55566209, -0.16220995, -0.09153802, -0.12982006, -1.19852419,\n",
       "        -0.79479096, -0.05880319, -0.10438497, -0.24264534, -0.63945446,\n",
       "         0.75008974]])"
      ]
     },
     "execution_count": 49,
     "metadata": {},
     "output_type": "execute_result"
    }
   ],
   "source": [
    "scaled_array"
   ]
  },
  {
   "cell_type": "code",
   "execution_count": 50,
   "id": "0333f4db",
   "metadata": {},
   "outputs": [
    {
     "name": "stdout",
     "output_type": "stream",
     "text": [
      "Canceled\n"
     ]
    },
    {
     "name": "stderr",
     "output_type": "stream",
     "text": [
      "C:\\Users\\Admin\\anaconda3\\lib\\site-packages\\sklearn\\base.py:450: UserWarning: X does not have valid feature names, but DecisionTreeClassifier was fitted with feature names\n",
      "  warnings.warn(\n"
     ]
    }
   ],
   "source": [
    "if model.predict(scaled_array)[0] == 1:\n",
    "    print(\"Not cancelled\")\n",
    "else:\n",
    "    print(\"Canceled\")"
   ]
  },
  {
   "cell_type": "code",
   "execution_count": null,
   "id": "48584b4d",
   "metadata": {},
   "outputs": [],
   "source": []
  },
  {
   "cell_type": "code",
   "execution_count": null,
   "id": "49d65f3a",
   "metadata": {},
   "outputs": [],
   "source": []
  }
 ],
 "metadata": {
  "kernelspec": {
   "display_name": "Python 3 (ipykernel)",
   "language": "python",
   "name": "python3"
  },
  "language_info": {
   "codemirror_mode": {
    "name": "ipython",
    "version": 3
   },
   "file_extension": ".py",
   "mimetype": "text/x-python",
   "name": "python",
   "nbconvert_exporter": "python",
   "pygments_lexer": "ipython3",
   "version": "3.9.16"
  }
 },
 "nbformat": 4,
 "nbformat_minor": 5
}
