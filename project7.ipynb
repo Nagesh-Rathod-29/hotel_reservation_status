{
 "cells": [
  {
   "cell_type": "code",
   "execution_count": 136,
   "id": "05506de3",
   "metadata": {},
   "outputs": [],
   "source": [
    "import numpy as np\n",
    "import pandas as pd\n",
    "\n",
    "from sklearn.preprocessing import StandardScaler\n",
    "from sklearn.model_selection import train_test_split,GridSearchCV\n",
    "\n",
    "from sklearn.linear_model import LogisticRegression\n",
    "from sklearn.neighbors import KNeighborsClassifier\n",
    "\n",
    "from sklearn.tree import DecisionTreeClassifier\n",
    "from sklearn.ensemble import RandomForestClassifier,AdaBoostClassifier\n",
    "\n",
    "\n",
    "from sklearn.metrics import classification_report,confusion_matrix,accuracy_score,ConfusionMatrixDisplay\n",
    "\n",
    "import matplotlib.pyplot as plt\n",
    "import seaborn as sns\n",
    "import plotly.express as px\n",
    "\n",
    "import warnings\n",
    "warnings.filterwarnings('ignore')"
   ]
  },
  {
   "cell_type": "markdown",
   "id": "89e4f849",
   "metadata": {},
   "source": [
    "### Problem statement"
   ]
  },
  {
   "cell_type": "raw",
   "id": "f442a275",
   "metadata": {},
   "source": [
    "To predict the booking status of hotel booking :\n",
    "       'no_of_adults', 'no_of_children', 'no_of_weekend_nights',\n",
    "       'no_of_week_nights', 'type_of_meal_plan', 'required_car_parking_space',\n",
    "       'room_type_reserved', 'lead_time', 'arrival_year', 'arrival_month',\n",
    "       'arrival_date', 'repeated_guest', 'no_of_previous_cancellations',\n",
    "       'no_of_previous_bookings_not_canceled', 'avg_price_per_room',\n",
    "       'no_of_special_requests', 'booking_status',\n",
    "       'market_segment_type_Aviation', 'market_segment_type_Complementary',\n",
    "       'market_segment_type_Corporate', 'market_segment_type_Offline',\n",
    "       'market_segment_type_Online"
   ]
  },
  {
   "cell_type": "markdown",
   "id": "02e1aa41",
   "metadata": {},
   "source": [
    "### Data Gathering"
   ]
  },
  {
   "cell_type": "code",
   "execution_count": 2,
   "id": "23283b39",
   "metadata": {},
   "outputs": [
    {
     "data": {
      "text/html": [
       "<div>\n",
       "<style scoped>\n",
       "    .dataframe tbody tr th:only-of-type {\n",
       "        vertical-align: middle;\n",
       "    }\n",
       "\n",
       "    .dataframe tbody tr th {\n",
       "        vertical-align: top;\n",
       "    }\n",
       "\n",
       "    .dataframe thead th {\n",
       "        text-align: right;\n",
       "    }\n",
       "</style>\n",
       "<table border=\"1\" class=\"dataframe\">\n",
       "  <thead>\n",
       "    <tr style=\"text-align: right;\">\n",
       "      <th></th>\n",
       "      <th>0</th>\n",
       "      <th>1</th>\n",
       "      <th>2</th>\n",
       "      <th>3</th>\n",
       "      <th>4</th>\n",
       "    </tr>\n",
       "  </thead>\n",
       "  <tbody>\n",
       "    <tr>\n",
       "      <th>Booking_ID</th>\n",
       "      <td>INN00001</td>\n",
       "      <td>INN00002</td>\n",
       "      <td>INN00003</td>\n",
       "      <td>INN00004</td>\n",
       "      <td>INN00005</td>\n",
       "    </tr>\n",
       "    <tr>\n",
       "      <th>no_of_adults</th>\n",
       "      <td>2</td>\n",
       "      <td>2</td>\n",
       "      <td>1</td>\n",
       "      <td>2</td>\n",
       "      <td>2</td>\n",
       "    </tr>\n",
       "    <tr>\n",
       "      <th>no_of_children</th>\n",
       "      <td>0</td>\n",
       "      <td>0</td>\n",
       "      <td>0</td>\n",
       "      <td>0</td>\n",
       "      <td>0</td>\n",
       "    </tr>\n",
       "    <tr>\n",
       "      <th>no_of_weekend_nights</th>\n",
       "      <td>1</td>\n",
       "      <td>2</td>\n",
       "      <td>2</td>\n",
       "      <td>0</td>\n",
       "      <td>1</td>\n",
       "    </tr>\n",
       "    <tr>\n",
       "      <th>no_of_week_nights</th>\n",
       "      <td>2</td>\n",
       "      <td>3</td>\n",
       "      <td>1</td>\n",
       "      <td>2</td>\n",
       "      <td>1</td>\n",
       "    </tr>\n",
       "    <tr>\n",
       "      <th>type_of_meal_plan</th>\n",
       "      <td>Meal Plan 1</td>\n",
       "      <td>Not Selected</td>\n",
       "      <td>Meal Plan 1</td>\n",
       "      <td>Meal Plan 1</td>\n",
       "      <td>Not Selected</td>\n",
       "    </tr>\n",
       "    <tr>\n",
       "      <th>required_car_parking_space</th>\n",
       "      <td>0</td>\n",
       "      <td>0</td>\n",
       "      <td>0</td>\n",
       "      <td>0</td>\n",
       "      <td>0</td>\n",
       "    </tr>\n",
       "    <tr>\n",
       "      <th>room_type_reserved</th>\n",
       "      <td>Room_Type 1</td>\n",
       "      <td>Room_Type 1</td>\n",
       "      <td>Room_Type 1</td>\n",
       "      <td>Room_Type 1</td>\n",
       "      <td>Room_Type 1</td>\n",
       "    </tr>\n",
       "    <tr>\n",
       "      <th>lead_time</th>\n",
       "      <td>224</td>\n",
       "      <td>5</td>\n",
       "      <td>1</td>\n",
       "      <td>211</td>\n",
       "      <td>48</td>\n",
       "    </tr>\n",
       "    <tr>\n",
       "      <th>arrival_year</th>\n",
       "      <td>2017</td>\n",
       "      <td>2018</td>\n",
       "      <td>2018</td>\n",
       "      <td>2018</td>\n",
       "      <td>2018</td>\n",
       "    </tr>\n",
       "    <tr>\n",
       "      <th>arrival_month</th>\n",
       "      <td>10</td>\n",
       "      <td>11</td>\n",
       "      <td>2</td>\n",
       "      <td>5</td>\n",
       "      <td>4</td>\n",
       "    </tr>\n",
       "    <tr>\n",
       "      <th>arrival_date</th>\n",
       "      <td>2</td>\n",
       "      <td>6</td>\n",
       "      <td>28</td>\n",
       "      <td>20</td>\n",
       "      <td>11</td>\n",
       "    </tr>\n",
       "    <tr>\n",
       "      <th>market_segment_type</th>\n",
       "      <td>Offline</td>\n",
       "      <td>Online</td>\n",
       "      <td>Online</td>\n",
       "      <td>Online</td>\n",
       "      <td>Online</td>\n",
       "    </tr>\n",
       "    <tr>\n",
       "      <th>repeated_guest</th>\n",
       "      <td>0</td>\n",
       "      <td>0</td>\n",
       "      <td>0</td>\n",
       "      <td>0</td>\n",
       "      <td>0</td>\n",
       "    </tr>\n",
       "    <tr>\n",
       "      <th>no_of_previous_cancellations</th>\n",
       "      <td>0</td>\n",
       "      <td>0</td>\n",
       "      <td>0</td>\n",
       "      <td>0</td>\n",
       "      <td>0</td>\n",
       "    </tr>\n",
       "    <tr>\n",
       "      <th>no_of_previous_bookings_not_canceled</th>\n",
       "      <td>0</td>\n",
       "      <td>0</td>\n",
       "      <td>0</td>\n",
       "      <td>0</td>\n",
       "      <td>0</td>\n",
       "    </tr>\n",
       "    <tr>\n",
       "      <th>avg_price_per_room</th>\n",
       "      <td>65.0</td>\n",
       "      <td>106.68</td>\n",
       "      <td>60.0</td>\n",
       "      <td>100.0</td>\n",
       "      <td>94.5</td>\n",
       "    </tr>\n",
       "    <tr>\n",
       "      <th>no_of_special_requests</th>\n",
       "      <td>0</td>\n",
       "      <td>1</td>\n",
       "      <td>0</td>\n",
       "      <td>0</td>\n",
       "      <td>0</td>\n",
       "    </tr>\n",
       "    <tr>\n",
       "      <th>booking_status</th>\n",
       "      <td>Not_Canceled</td>\n",
       "      <td>Not_Canceled</td>\n",
       "      <td>Canceled</td>\n",
       "      <td>Canceled</td>\n",
       "      <td>Canceled</td>\n",
       "    </tr>\n",
       "  </tbody>\n",
       "</table>\n",
       "</div>"
      ],
      "text/plain": [
       "                                                 0             1            2  \\\n",
       "Booking_ID                                INN00001      INN00002     INN00003   \n",
       "no_of_adults                                     2             2            1   \n",
       "no_of_children                                   0             0            0   \n",
       "no_of_weekend_nights                             1             2            2   \n",
       "no_of_week_nights                                2             3            1   \n",
       "type_of_meal_plan                      Meal Plan 1  Not Selected  Meal Plan 1   \n",
       "required_car_parking_space                       0             0            0   \n",
       "room_type_reserved                     Room_Type 1   Room_Type 1  Room_Type 1   \n",
       "lead_time                                      224             5            1   \n",
       "arrival_year                                  2017          2018         2018   \n",
       "arrival_month                                   10            11            2   \n",
       "arrival_date                                     2             6           28   \n",
       "market_segment_type                        Offline        Online       Online   \n",
       "repeated_guest                                   0             0            0   \n",
       "no_of_previous_cancellations                     0             0            0   \n",
       "no_of_previous_bookings_not_canceled             0             0            0   \n",
       "avg_price_per_room                            65.0        106.68         60.0   \n",
       "no_of_special_requests                           0             1            0   \n",
       "booking_status                        Not_Canceled  Not_Canceled     Canceled   \n",
       "\n",
       "                                                3             4  \n",
       "Booking_ID                               INN00004      INN00005  \n",
       "no_of_adults                                    2             2  \n",
       "no_of_children                                  0             0  \n",
       "no_of_weekend_nights                            0             1  \n",
       "no_of_week_nights                               2             1  \n",
       "type_of_meal_plan                     Meal Plan 1  Not Selected  \n",
       "required_car_parking_space                      0             0  \n",
       "room_type_reserved                    Room_Type 1   Room_Type 1  \n",
       "lead_time                                     211            48  \n",
       "arrival_year                                 2018          2018  \n",
       "arrival_month                                   5             4  \n",
       "arrival_date                                   20            11  \n",
       "market_segment_type                        Online        Online  \n",
       "repeated_guest                                  0             0  \n",
       "no_of_previous_cancellations                    0             0  \n",
       "no_of_previous_bookings_not_canceled            0             0  \n",
       "avg_price_per_room                          100.0          94.5  \n",
       "no_of_special_requests                          0             0  \n",
       "booking_status                           Canceled      Canceled  "
      ]
     },
     "execution_count": 2,
     "metadata": {},
     "output_type": "execute_result"
    }
   ],
   "source": [
    "df = pd.read_csv(\"Hotel Reservations.csv\")\n",
    "df.head().T"
   ]
  },
  {
   "cell_type": "code",
   "execution_count": 3,
   "id": "d2127068",
   "metadata": {},
   "outputs": [
    {
     "data": {
      "text/plain": [
       "Index(['Booking_ID', 'no_of_adults', 'no_of_children', 'no_of_weekend_nights',\n",
       "       'no_of_week_nights', 'type_of_meal_plan', 'required_car_parking_space',\n",
       "       'room_type_reserved', 'lead_time', 'arrival_year', 'arrival_month',\n",
       "       'arrival_date', 'market_segment_type', 'repeated_guest',\n",
       "       'no_of_previous_cancellations', 'no_of_previous_bookings_not_canceled',\n",
       "       'avg_price_per_room', 'no_of_special_requests', 'booking_status'],\n",
       "      dtype='object')"
      ]
     },
     "execution_count": 3,
     "metadata": {},
     "output_type": "execute_result"
    }
   ],
   "source": [
    "df.columns"
   ]
  },
  {
   "cell_type": "markdown",
   "id": "27e6b3b5",
   "metadata": {},
   "source": [
    "### EDA"
   ]
  },
  {
   "cell_type": "code",
   "execution_count": 4,
   "id": "66970390",
   "metadata": {},
   "outputs": [
    {
     "name": "stdout",
     "output_type": "stream",
     "text": [
      "<class 'pandas.core.frame.DataFrame'>\n",
      "RangeIndex: 36275 entries, 0 to 36274\n",
      "Data columns (total 19 columns):\n",
      " #   Column                                Non-Null Count  Dtype  \n",
      "---  ------                                --------------  -----  \n",
      " 0   Booking_ID                            36275 non-null  object \n",
      " 1   no_of_adults                          36275 non-null  int64  \n",
      " 2   no_of_children                        36275 non-null  int64  \n",
      " 3   no_of_weekend_nights                  36275 non-null  int64  \n",
      " 4   no_of_week_nights                     36275 non-null  int64  \n",
      " 5   type_of_meal_plan                     36275 non-null  object \n",
      " 6   required_car_parking_space            36275 non-null  int64  \n",
      " 7   room_type_reserved                    36275 non-null  object \n",
      " 8   lead_time                             36275 non-null  int64  \n",
      " 9   arrival_year                          36275 non-null  int64  \n",
      " 10  arrival_month                         36275 non-null  int64  \n",
      " 11  arrival_date                          36275 non-null  int64  \n",
      " 12  market_segment_type                   36275 non-null  object \n",
      " 13  repeated_guest                        36275 non-null  int64  \n",
      " 14  no_of_previous_cancellations          36275 non-null  int64  \n",
      " 15  no_of_previous_bookings_not_canceled  36275 non-null  int64  \n",
      " 16  avg_price_per_room                    36275 non-null  float64\n",
      " 17  no_of_special_requests                36275 non-null  int64  \n",
      " 18  booking_status                        36275 non-null  object \n",
      "dtypes: float64(1), int64(13), object(5)\n",
      "memory usage: 5.3+ MB\n"
     ]
    }
   ],
   "source": [
    "df.info()"
   ]
  },
  {
   "cell_type": "code",
   "execution_count": 5,
   "id": "f09c6209",
   "metadata": {
    "scrolled": true
   },
   "outputs": [
    {
     "data": {
      "text/html": [
       "<div>\n",
       "<style scoped>\n",
       "    .dataframe tbody tr th:only-of-type {\n",
       "        vertical-align: middle;\n",
       "    }\n",
       "\n",
       "    .dataframe tbody tr th {\n",
       "        vertical-align: top;\n",
       "    }\n",
       "\n",
       "    .dataframe thead th {\n",
       "        text-align: right;\n",
       "    }\n",
       "</style>\n",
       "<table border=\"1\" class=\"dataframe\">\n",
       "  <thead>\n",
       "    <tr style=\"text-align: right;\">\n",
       "      <th></th>\n",
       "      <th>no_of_adults</th>\n",
       "      <th>no_of_children</th>\n",
       "      <th>no_of_weekend_nights</th>\n",
       "      <th>no_of_week_nights</th>\n",
       "      <th>required_car_parking_space</th>\n",
       "      <th>lead_time</th>\n",
       "      <th>arrival_year</th>\n",
       "      <th>arrival_month</th>\n",
       "      <th>arrival_date</th>\n",
       "      <th>repeated_guest</th>\n",
       "      <th>no_of_previous_cancellations</th>\n",
       "      <th>no_of_previous_bookings_not_canceled</th>\n",
       "      <th>avg_price_per_room</th>\n",
       "      <th>no_of_special_requests</th>\n",
       "    </tr>\n",
       "  </thead>\n",
       "  <tbody>\n",
       "    <tr>\n",
       "      <th>count</th>\n",
       "      <td>36275.000000</td>\n",
       "      <td>36275.000000</td>\n",
       "      <td>36275.000000</td>\n",
       "      <td>36275.000000</td>\n",
       "      <td>36275.000000</td>\n",
       "      <td>36275.000000</td>\n",
       "      <td>36275.000000</td>\n",
       "      <td>36275.000000</td>\n",
       "      <td>36275.000000</td>\n",
       "      <td>36275.000000</td>\n",
       "      <td>36275.000000</td>\n",
       "      <td>36275.000000</td>\n",
       "      <td>36275.000000</td>\n",
       "      <td>36275.000000</td>\n",
       "    </tr>\n",
       "    <tr>\n",
       "      <th>mean</th>\n",
       "      <td>1.844962</td>\n",
       "      <td>0.105279</td>\n",
       "      <td>0.810724</td>\n",
       "      <td>2.204300</td>\n",
       "      <td>0.030986</td>\n",
       "      <td>85.232557</td>\n",
       "      <td>2017.820427</td>\n",
       "      <td>7.423653</td>\n",
       "      <td>15.596995</td>\n",
       "      <td>0.025637</td>\n",
       "      <td>0.023349</td>\n",
       "      <td>0.153411</td>\n",
       "      <td>103.423539</td>\n",
       "      <td>0.619655</td>\n",
       "    </tr>\n",
       "    <tr>\n",
       "      <th>std</th>\n",
       "      <td>0.518715</td>\n",
       "      <td>0.402648</td>\n",
       "      <td>0.870644</td>\n",
       "      <td>1.410905</td>\n",
       "      <td>0.173281</td>\n",
       "      <td>85.930817</td>\n",
       "      <td>0.383836</td>\n",
       "      <td>3.069894</td>\n",
       "      <td>8.740447</td>\n",
       "      <td>0.158053</td>\n",
       "      <td>0.368331</td>\n",
       "      <td>1.754171</td>\n",
       "      <td>35.089424</td>\n",
       "      <td>0.786236</td>\n",
       "    </tr>\n",
       "    <tr>\n",
       "      <th>min</th>\n",
       "      <td>0.000000</td>\n",
       "      <td>0.000000</td>\n",
       "      <td>0.000000</td>\n",
       "      <td>0.000000</td>\n",
       "      <td>0.000000</td>\n",
       "      <td>0.000000</td>\n",
       "      <td>2017.000000</td>\n",
       "      <td>1.000000</td>\n",
       "      <td>1.000000</td>\n",
       "      <td>0.000000</td>\n",
       "      <td>0.000000</td>\n",
       "      <td>0.000000</td>\n",
       "      <td>0.000000</td>\n",
       "      <td>0.000000</td>\n",
       "    </tr>\n",
       "    <tr>\n",
       "      <th>25%</th>\n",
       "      <td>2.000000</td>\n",
       "      <td>0.000000</td>\n",
       "      <td>0.000000</td>\n",
       "      <td>1.000000</td>\n",
       "      <td>0.000000</td>\n",
       "      <td>17.000000</td>\n",
       "      <td>2018.000000</td>\n",
       "      <td>5.000000</td>\n",
       "      <td>8.000000</td>\n",
       "      <td>0.000000</td>\n",
       "      <td>0.000000</td>\n",
       "      <td>0.000000</td>\n",
       "      <td>80.300000</td>\n",
       "      <td>0.000000</td>\n",
       "    </tr>\n",
       "    <tr>\n",
       "      <th>50%</th>\n",
       "      <td>2.000000</td>\n",
       "      <td>0.000000</td>\n",
       "      <td>1.000000</td>\n",
       "      <td>2.000000</td>\n",
       "      <td>0.000000</td>\n",
       "      <td>57.000000</td>\n",
       "      <td>2018.000000</td>\n",
       "      <td>8.000000</td>\n",
       "      <td>16.000000</td>\n",
       "      <td>0.000000</td>\n",
       "      <td>0.000000</td>\n",
       "      <td>0.000000</td>\n",
       "      <td>99.450000</td>\n",
       "      <td>0.000000</td>\n",
       "    </tr>\n",
       "    <tr>\n",
       "      <th>75%</th>\n",
       "      <td>2.000000</td>\n",
       "      <td>0.000000</td>\n",
       "      <td>2.000000</td>\n",
       "      <td>3.000000</td>\n",
       "      <td>0.000000</td>\n",
       "      <td>126.000000</td>\n",
       "      <td>2018.000000</td>\n",
       "      <td>10.000000</td>\n",
       "      <td>23.000000</td>\n",
       "      <td>0.000000</td>\n",
       "      <td>0.000000</td>\n",
       "      <td>0.000000</td>\n",
       "      <td>120.000000</td>\n",
       "      <td>1.000000</td>\n",
       "    </tr>\n",
       "    <tr>\n",
       "      <th>max</th>\n",
       "      <td>4.000000</td>\n",
       "      <td>10.000000</td>\n",
       "      <td>7.000000</td>\n",
       "      <td>17.000000</td>\n",
       "      <td>1.000000</td>\n",
       "      <td>443.000000</td>\n",
       "      <td>2018.000000</td>\n",
       "      <td>12.000000</td>\n",
       "      <td>31.000000</td>\n",
       "      <td>1.000000</td>\n",
       "      <td>13.000000</td>\n",
       "      <td>58.000000</td>\n",
       "      <td>540.000000</td>\n",
       "      <td>5.000000</td>\n",
       "    </tr>\n",
       "  </tbody>\n",
       "</table>\n",
       "</div>"
      ],
      "text/plain": [
       "       no_of_adults  no_of_children  no_of_weekend_nights  no_of_week_nights  \\\n",
       "count  36275.000000    36275.000000          36275.000000       36275.000000   \n",
       "mean       1.844962        0.105279              0.810724           2.204300   \n",
       "std        0.518715        0.402648              0.870644           1.410905   \n",
       "min        0.000000        0.000000              0.000000           0.000000   \n",
       "25%        2.000000        0.000000              0.000000           1.000000   \n",
       "50%        2.000000        0.000000              1.000000           2.000000   \n",
       "75%        2.000000        0.000000              2.000000           3.000000   \n",
       "max        4.000000       10.000000              7.000000          17.000000   \n",
       "\n",
       "       required_car_parking_space     lead_time  arrival_year  arrival_month  \\\n",
       "count                36275.000000  36275.000000  36275.000000   36275.000000   \n",
       "mean                     0.030986     85.232557   2017.820427       7.423653   \n",
       "std                      0.173281     85.930817      0.383836       3.069894   \n",
       "min                      0.000000      0.000000   2017.000000       1.000000   \n",
       "25%                      0.000000     17.000000   2018.000000       5.000000   \n",
       "50%                      0.000000     57.000000   2018.000000       8.000000   \n",
       "75%                      0.000000    126.000000   2018.000000      10.000000   \n",
       "max                      1.000000    443.000000   2018.000000      12.000000   \n",
       "\n",
       "       arrival_date  repeated_guest  no_of_previous_cancellations  \\\n",
       "count  36275.000000    36275.000000                  36275.000000   \n",
       "mean      15.596995        0.025637                      0.023349   \n",
       "std        8.740447        0.158053                      0.368331   \n",
       "min        1.000000        0.000000                      0.000000   \n",
       "25%        8.000000        0.000000                      0.000000   \n",
       "50%       16.000000        0.000000                      0.000000   \n",
       "75%       23.000000        0.000000                      0.000000   \n",
       "max       31.000000        1.000000                     13.000000   \n",
       "\n",
       "       no_of_previous_bookings_not_canceled  avg_price_per_room  \\\n",
       "count                          36275.000000        36275.000000   \n",
       "mean                               0.153411          103.423539   \n",
       "std                                1.754171           35.089424   \n",
       "min                                0.000000            0.000000   \n",
       "25%                                0.000000           80.300000   \n",
       "50%                                0.000000           99.450000   \n",
       "75%                                0.000000          120.000000   \n",
       "max                               58.000000          540.000000   \n",
       "\n",
       "       no_of_special_requests  \n",
       "count            36275.000000  \n",
       "mean                 0.619655  \n",
       "std                  0.786236  \n",
       "min                  0.000000  \n",
       "25%                  0.000000  \n",
       "50%                  0.000000  \n",
       "75%                  1.000000  \n",
       "max                  5.000000  "
      ]
     },
     "execution_count": 5,
     "metadata": {},
     "output_type": "execute_result"
    }
   ],
   "source": [
    "df.describe()"
   ]
  },
  {
   "cell_type": "code",
   "execution_count": 6,
   "id": "8747ab9e",
   "metadata": {},
   "outputs": [
    {
     "data": {
      "text/plain": [
       "Booking_ID                              0\n",
       "no_of_adults                            0\n",
       "no_of_children                          0\n",
       "no_of_weekend_nights                    0\n",
       "no_of_week_nights                       0\n",
       "type_of_meal_plan                       0\n",
       "required_car_parking_space              0\n",
       "room_type_reserved                      0\n",
       "lead_time                               0\n",
       "arrival_year                            0\n",
       "arrival_month                           0\n",
       "arrival_date                            0\n",
       "market_segment_type                     0\n",
       "repeated_guest                          0\n",
       "no_of_previous_cancellations            0\n",
       "no_of_previous_bookings_not_canceled    0\n",
       "avg_price_per_room                      0\n",
       "no_of_special_requests                  0\n",
       "booking_status                          0\n",
       "dtype: int64"
      ]
     },
     "execution_count": 6,
     "metadata": {},
     "output_type": "execute_result"
    }
   ],
   "source": [
    "df.isna().sum()"
   ]
  },
  {
   "cell_type": "code",
   "execution_count": 7,
   "id": "a7e79a58",
   "metadata": {},
   "outputs": [
    {
     "name": "stdout",
     "output_type": "stream",
     "text": [
      "<class 'pandas.core.frame.DataFrame'>\n",
      "RangeIndex: 36275 entries, 0 to 36274\n",
      "Data columns (total 19 columns):\n",
      " #   Column                                Non-Null Count  Dtype  \n",
      "---  ------                                --------------  -----  \n",
      " 0   Booking_ID                            36275 non-null  object \n",
      " 1   no_of_adults                          36275 non-null  int64  \n",
      " 2   no_of_children                        36275 non-null  int64  \n",
      " 3   no_of_weekend_nights                  36275 non-null  int64  \n",
      " 4   no_of_week_nights                     36275 non-null  int64  \n",
      " 5   type_of_meal_plan                     36275 non-null  object \n",
      " 6   required_car_parking_space            36275 non-null  int64  \n",
      " 7   room_type_reserved                    36275 non-null  object \n",
      " 8   lead_time                             36275 non-null  int64  \n",
      " 9   arrival_year                          36275 non-null  int64  \n",
      " 10  arrival_month                         36275 non-null  int64  \n",
      " 11  arrival_date                          36275 non-null  int64  \n",
      " 12  market_segment_type                   36275 non-null  object \n",
      " 13  repeated_guest                        36275 non-null  int64  \n",
      " 14  no_of_previous_cancellations          36275 non-null  int64  \n",
      " 15  no_of_previous_bookings_not_canceled  36275 non-null  int64  \n",
      " 16  avg_price_per_room                    36275 non-null  float64\n",
      " 17  no_of_special_requests                36275 non-null  int64  \n",
      " 18  booking_status                        36275 non-null  object \n",
      "dtypes: float64(1), int64(13), object(5)\n",
      "memory usage: 5.3+ MB\n"
     ]
    }
   ],
   "source": [
    "df.info()"
   ]
  },
  {
   "cell_type": "code",
   "execution_count": 8,
   "id": "02216449",
   "metadata": {},
   "outputs": [
    {
     "data": {
      "text/html": [
       "<div>\n",
       "<style scoped>\n",
       "    .dataframe tbody tr th:only-of-type {\n",
       "        vertical-align: middle;\n",
       "    }\n",
       "\n",
       "    .dataframe tbody tr th {\n",
       "        vertical-align: top;\n",
       "    }\n",
       "\n",
       "    .dataframe thead th {\n",
       "        text-align: right;\n",
       "    }\n",
       "</style>\n",
       "<table border=\"1\" class=\"dataframe\">\n",
       "  <thead>\n",
       "    <tr style=\"text-align: right;\">\n",
       "      <th></th>\n",
       "      <th>no_of_adults</th>\n",
       "      <th>no_of_children</th>\n",
       "      <th>no_of_weekend_nights</th>\n",
       "      <th>no_of_week_nights</th>\n",
       "      <th>type_of_meal_plan</th>\n",
       "      <th>required_car_parking_space</th>\n",
       "      <th>room_type_reserved</th>\n",
       "      <th>lead_time</th>\n",
       "      <th>arrival_year</th>\n",
       "      <th>arrival_month</th>\n",
       "      <th>arrival_date</th>\n",
       "      <th>market_segment_type</th>\n",
       "      <th>repeated_guest</th>\n",
       "      <th>no_of_previous_cancellations</th>\n",
       "      <th>no_of_previous_bookings_not_canceled</th>\n",
       "      <th>avg_price_per_room</th>\n",
       "      <th>no_of_special_requests</th>\n",
       "      <th>booking_status</th>\n",
       "    </tr>\n",
       "  </thead>\n",
       "  <tbody>\n",
       "    <tr>\n",
       "      <th>0</th>\n",
       "      <td>2</td>\n",
       "      <td>0</td>\n",
       "      <td>1</td>\n",
       "      <td>2</td>\n",
       "      <td>Meal Plan 1</td>\n",
       "      <td>0</td>\n",
       "      <td>Room_Type 1</td>\n",
       "      <td>224</td>\n",
       "      <td>2017</td>\n",
       "      <td>10</td>\n",
       "      <td>2</td>\n",
       "      <td>Offline</td>\n",
       "      <td>0</td>\n",
       "      <td>0</td>\n",
       "      <td>0</td>\n",
       "      <td>65.00</td>\n",
       "      <td>0</td>\n",
       "      <td>Not_Canceled</td>\n",
       "    </tr>\n",
       "    <tr>\n",
       "      <th>1</th>\n",
       "      <td>2</td>\n",
       "      <td>0</td>\n",
       "      <td>2</td>\n",
       "      <td>3</td>\n",
       "      <td>Not Selected</td>\n",
       "      <td>0</td>\n",
       "      <td>Room_Type 1</td>\n",
       "      <td>5</td>\n",
       "      <td>2018</td>\n",
       "      <td>11</td>\n",
       "      <td>6</td>\n",
       "      <td>Online</td>\n",
       "      <td>0</td>\n",
       "      <td>0</td>\n",
       "      <td>0</td>\n",
       "      <td>106.68</td>\n",
       "      <td>1</td>\n",
       "      <td>Not_Canceled</td>\n",
       "    </tr>\n",
       "    <tr>\n",
       "      <th>2</th>\n",
       "      <td>1</td>\n",
       "      <td>0</td>\n",
       "      <td>2</td>\n",
       "      <td>1</td>\n",
       "      <td>Meal Plan 1</td>\n",
       "      <td>0</td>\n",
       "      <td>Room_Type 1</td>\n",
       "      <td>1</td>\n",
       "      <td>2018</td>\n",
       "      <td>2</td>\n",
       "      <td>28</td>\n",
       "      <td>Online</td>\n",
       "      <td>0</td>\n",
       "      <td>0</td>\n",
       "      <td>0</td>\n",
       "      <td>60.00</td>\n",
       "      <td>0</td>\n",
       "      <td>Canceled</td>\n",
       "    </tr>\n",
       "    <tr>\n",
       "      <th>3</th>\n",
       "      <td>2</td>\n",
       "      <td>0</td>\n",
       "      <td>0</td>\n",
       "      <td>2</td>\n",
       "      <td>Meal Plan 1</td>\n",
       "      <td>0</td>\n",
       "      <td>Room_Type 1</td>\n",
       "      <td>211</td>\n",
       "      <td>2018</td>\n",
       "      <td>5</td>\n",
       "      <td>20</td>\n",
       "      <td>Online</td>\n",
       "      <td>0</td>\n",
       "      <td>0</td>\n",
       "      <td>0</td>\n",
       "      <td>100.00</td>\n",
       "      <td>0</td>\n",
       "      <td>Canceled</td>\n",
       "    </tr>\n",
       "    <tr>\n",
       "      <th>4</th>\n",
       "      <td>2</td>\n",
       "      <td>0</td>\n",
       "      <td>1</td>\n",
       "      <td>1</td>\n",
       "      <td>Not Selected</td>\n",
       "      <td>0</td>\n",
       "      <td>Room_Type 1</td>\n",
       "      <td>48</td>\n",
       "      <td>2018</td>\n",
       "      <td>4</td>\n",
       "      <td>11</td>\n",
       "      <td>Online</td>\n",
       "      <td>0</td>\n",
       "      <td>0</td>\n",
       "      <td>0</td>\n",
       "      <td>94.50</td>\n",
       "      <td>0</td>\n",
       "      <td>Canceled</td>\n",
       "    </tr>\n",
       "    <tr>\n",
       "      <th>...</th>\n",
       "      <td>...</td>\n",
       "      <td>...</td>\n",
       "      <td>...</td>\n",
       "      <td>...</td>\n",
       "      <td>...</td>\n",
       "      <td>...</td>\n",
       "      <td>...</td>\n",
       "      <td>...</td>\n",
       "      <td>...</td>\n",
       "      <td>...</td>\n",
       "      <td>...</td>\n",
       "      <td>...</td>\n",
       "      <td>...</td>\n",
       "      <td>...</td>\n",
       "      <td>...</td>\n",
       "      <td>...</td>\n",
       "      <td>...</td>\n",
       "      <td>...</td>\n",
       "    </tr>\n",
       "    <tr>\n",
       "      <th>36270</th>\n",
       "      <td>3</td>\n",
       "      <td>0</td>\n",
       "      <td>2</td>\n",
       "      <td>6</td>\n",
       "      <td>Meal Plan 1</td>\n",
       "      <td>0</td>\n",
       "      <td>Room_Type 4</td>\n",
       "      <td>85</td>\n",
       "      <td>2018</td>\n",
       "      <td>8</td>\n",
       "      <td>3</td>\n",
       "      <td>Online</td>\n",
       "      <td>0</td>\n",
       "      <td>0</td>\n",
       "      <td>0</td>\n",
       "      <td>167.80</td>\n",
       "      <td>1</td>\n",
       "      <td>Not_Canceled</td>\n",
       "    </tr>\n",
       "    <tr>\n",
       "      <th>36271</th>\n",
       "      <td>2</td>\n",
       "      <td>0</td>\n",
       "      <td>1</td>\n",
       "      <td>3</td>\n",
       "      <td>Meal Plan 1</td>\n",
       "      <td>0</td>\n",
       "      <td>Room_Type 1</td>\n",
       "      <td>228</td>\n",
       "      <td>2018</td>\n",
       "      <td>10</td>\n",
       "      <td>17</td>\n",
       "      <td>Online</td>\n",
       "      <td>0</td>\n",
       "      <td>0</td>\n",
       "      <td>0</td>\n",
       "      <td>90.95</td>\n",
       "      <td>2</td>\n",
       "      <td>Canceled</td>\n",
       "    </tr>\n",
       "    <tr>\n",
       "      <th>36272</th>\n",
       "      <td>2</td>\n",
       "      <td>0</td>\n",
       "      <td>2</td>\n",
       "      <td>6</td>\n",
       "      <td>Meal Plan 1</td>\n",
       "      <td>0</td>\n",
       "      <td>Room_Type 1</td>\n",
       "      <td>148</td>\n",
       "      <td>2018</td>\n",
       "      <td>7</td>\n",
       "      <td>1</td>\n",
       "      <td>Online</td>\n",
       "      <td>0</td>\n",
       "      <td>0</td>\n",
       "      <td>0</td>\n",
       "      <td>98.39</td>\n",
       "      <td>2</td>\n",
       "      <td>Not_Canceled</td>\n",
       "    </tr>\n",
       "    <tr>\n",
       "      <th>36273</th>\n",
       "      <td>2</td>\n",
       "      <td>0</td>\n",
       "      <td>0</td>\n",
       "      <td>3</td>\n",
       "      <td>Not Selected</td>\n",
       "      <td>0</td>\n",
       "      <td>Room_Type 1</td>\n",
       "      <td>63</td>\n",
       "      <td>2018</td>\n",
       "      <td>4</td>\n",
       "      <td>21</td>\n",
       "      <td>Online</td>\n",
       "      <td>0</td>\n",
       "      <td>0</td>\n",
       "      <td>0</td>\n",
       "      <td>94.50</td>\n",
       "      <td>0</td>\n",
       "      <td>Canceled</td>\n",
       "    </tr>\n",
       "    <tr>\n",
       "      <th>36274</th>\n",
       "      <td>2</td>\n",
       "      <td>0</td>\n",
       "      <td>1</td>\n",
       "      <td>2</td>\n",
       "      <td>Meal Plan 1</td>\n",
       "      <td>0</td>\n",
       "      <td>Room_Type 1</td>\n",
       "      <td>207</td>\n",
       "      <td>2018</td>\n",
       "      <td>12</td>\n",
       "      <td>30</td>\n",
       "      <td>Offline</td>\n",
       "      <td>0</td>\n",
       "      <td>0</td>\n",
       "      <td>0</td>\n",
       "      <td>161.67</td>\n",
       "      <td>0</td>\n",
       "      <td>Not_Canceled</td>\n",
       "    </tr>\n",
       "  </tbody>\n",
       "</table>\n",
       "<p>36275 rows × 18 columns</p>\n",
       "</div>"
      ],
      "text/plain": [
       "       no_of_adults  no_of_children  no_of_weekend_nights  no_of_week_nights  \\\n",
       "0                 2               0                     1                  2   \n",
       "1                 2               0                     2                  3   \n",
       "2                 1               0                     2                  1   \n",
       "3                 2               0                     0                  2   \n",
       "4                 2               0                     1                  1   \n",
       "...             ...             ...                   ...                ...   \n",
       "36270             3               0                     2                  6   \n",
       "36271             2               0                     1                  3   \n",
       "36272             2               0                     2                  6   \n",
       "36273             2               0                     0                  3   \n",
       "36274             2               0                     1                  2   \n",
       "\n",
       "      type_of_meal_plan  required_car_parking_space room_type_reserved  \\\n",
       "0           Meal Plan 1                           0        Room_Type 1   \n",
       "1          Not Selected                           0        Room_Type 1   \n",
       "2           Meal Plan 1                           0        Room_Type 1   \n",
       "3           Meal Plan 1                           0        Room_Type 1   \n",
       "4          Not Selected                           0        Room_Type 1   \n",
       "...                 ...                         ...                ...   \n",
       "36270       Meal Plan 1                           0        Room_Type 4   \n",
       "36271       Meal Plan 1                           0        Room_Type 1   \n",
       "36272       Meal Plan 1                           0        Room_Type 1   \n",
       "36273      Not Selected                           0        Room_Type 1   \n",
       "36274       Meal Plan 1                           0        Room_Type 1   \n",
       "\n",
       "       lead_time  arrival_year  arrival_month  arrival_date  \\\n",
       "0            224          2017             10             2   \n",
       "1              5          2018             11             6   \n",
       "2              1          2018              2            28   \n",
       "3            211          2018              5            20   \n",
       "4             48          2018              4            11   \n",
       "...          ...           ...            ...           ...   \n",
       "36270         85          2018              8             3   \n",
       "36271        228          2018             10            17   \n",
       "36272        148          2018              7             1   \n",
       "36273         63          2018              4            21   \n",
       "36274        207          2018             12            30   \n",
       "\n",
       "      market_segment_type  repeated_guest  no_of_previous_cancellations  \\\n",
       "0                 Offline               0                             0   \n",
       "1                  Online               0                             0   \n",
       "2                  Online               0                             0   \n",
       "3                  Online               0                             0   \n",
       "4                  Online               0                             0   \n",
       "...                   ...             ...                           ...   \n",
       "36270              Online               0                             0   \n",
       "36271              Online               0                             0   \n",
       "36272              Online               0                             0   \n",
       "36273              Online               0                             0   \n",
       "36274             Offline               0                             0   \n",
       "\n",
       "       no_of_previous_bookings_not_canceled  avg_price_per_room  \\\n",
       "0                                         0               65.00   \n",
       "1                                         0              106.68   \n",
       "2                                         0               60.00   \n",
       "3                                         0              100.00   \n",
       "4                                         0               94.50   \n",
       "...                                     ...                 ...   \n",
       "36270                                     0              167.80   \n",
       "36271                                     0               90.95   \n",
       "36272                                     0               98.39   \n",
       "36273                                     0               94.50   \n",
       "36274                                     0              161.67   \n",
       "\n",
       "       no_of_special_requests booking_status  \n",
       "0                           0   Not_Canceled  \n",
       "1                           1   Not_Canceled  \n",
       "2                           0       Canceled  \n",
       "3                           0       Canceled  \n",
       "4                           0       Canceled  \n",
       "...                       ...            ...  \n",
       "36270                       1   Not_Canceled  \n",
       "36271                       2       Canceled  \n",
       "36272                       2   Not_Canceled  \n",
       "36273                       0       Canceled  \n",
       "36274                       0   Not_Canceled  \n",
       "\n",
       "[36275 rows x 18 columns]"
      ]
     },
     "execution_count": 8,
     "metadata": {},
     "output_type": "execute_result"
    }
   ],
   "source": [
    "df.drop('Booking_ID',axis=1,inplace=True)\n",
    "df"
   ]
  },
  {
   "cell_type": "markdown",
   "id": "7f39961a",
   "metadata": {},
   "source": [
    "### 1. no_of_adults"
   ]
  },
  {
   "cell_type": "code",
   "execution_count": 9,
   "id": "5e22be8f",
   "metadata": {},
   "outputs": [
    {
     "data": {
      "text/plain": [
       "2    26108\n",
       "1     7695\n",
       "3     2317\n",
       "0      139\n",
       "4       16\n",
       "Name: no_of_adults, dtype: int64"
      ]
     },
     "execution_count": 9,
     "metadata": {},
     "output_type": "execute_result"
    }
   ],
   "source": [
    "df['no_of_adults'].value_counts()"
   ]
  },
  {
   "cell_type": "code",
   "execution_count": 10,
   "id": "b75b0d57",
   "metadata": {},
   "outputs": [
    {
     "data": {
      "text/plain": [
       "<AxesSubplot: >"
      ]
     },
     "execution_count": 10,
     "metadata": {},
     "output_type": "execute_result"
    },
    {
     "data": {
      "image/png": "[encoded data removed]",
      "text/plain": [
       "<Figure size 640x480 with 1 Axes>"
      ]
     },
     "metadata": {},
     "output_type": "display_data"
    }
   ],
   "source": [
    "sns.boxplot(df['no_of_adults'])"
   ]
  },
  {
   "cell_type": "code",
   "execution_count": 11,
   "id": "58dbd143",
   "metadata": {},
   "outputs": [
    {
     "data": {
      "text/plain": [
       "0        2\n",
       "1        2\n",
       "2        1\n",
       "3        2\n",
       "4        2\n",
       "        ..\n",
       "36270    3\n",
       "36271    2\n",
       "36272    2\n",
       "36273    2\n",
       "36274    2\n",
       "Name: no_of_adults, Length: 36275, dtype: int64"
      ]
     },
     "execution_count": 11,
     "metadata": {},
     "output_type": "execute_result"
    }
   ],
   "source": [
    "df['no_of_adults'] =  np.where(df['no_of_adults'] == 4 , 3, df['no_of_adults'])\n",
    "df['no_of_adults']"
   ]
  },
  {
   "cell_type": "code",
   "execution_count": 12,
   "id": "097be9a5",
   "metadata": {},
   "outputs": [
    {
     "data": {
      "text/plain": [
       "<AxesSubplot: >"
      ]
     },
     "execution_count": 12,
     "metadata": {},
     "output_type": "execute_result"
    },
    {
     "data": {
      "image/png": "[encoded data removed]",
      "text/plain": [
       "<Figure size 640x480 with 1 Axes>"
      ]
     },
     "metadata": {},
     "output_type": "display_data"
    }
   ],
   "source": [
    "sns.boxplot(df['no_of_adults'])"
   ]
  },
  {
   "cell_type": "code",
   "execution_count": 13,
   "id": "daf6b51d",
   "metadata": {},
   "outputs": [
    {
     "data": {
      "text/plain": [
       "2    26108\n",
       "1     7695\n",
       "3     2333\n",
       "0      139\n",
       "Name: no_of_adults, dtype: int64"
      ]
     },
     "execution_count": 13,
     "metadata": {},
     "output_type": "execute_result"
    }
   ],
   "source": [
    "df['no_of_adults'].value_counts()"
   ]
  },
  {
   "cell_type": "code",
   "execution_count": null,
   "id": "695f8931",
   "metadata": {},
   "outputs": [],
   "source": []
  },
  {
   "cell_type": "markdown",
   "id": "cd14893f",
   "metadata": {},
   "source": [
    "### 2.no_of_children"
   ]
  },
  {
   "cell_type": "code",
   "execution_count": 14,
   "id": "da6110d3",
   "metadata": {},
   "outputs": [
    {
     "data": {
      "text/plain": [
       "0     33577\n",
       "1      1618\n",
       "2      1058\n",
       "3        19\n",
       "9         2\n",
       "10        1\n",
       "Name: no_of_children, dtype: int64"
      ]
     },
     "execution_count": 14,
     "metadata": {},
     "output_type": "execute_result"
    }
   ],
   "source": [
    "df['no_of_children'].value_counts()"
   ]
  },
  {
   "cell_type": "code",
   "execution_count": 15,
   "id": "9142fb74",
   "metadata": {},
   "outputs": [
    {
     "data": {
      "text/plain": [
       "<AxesSubplot: xlabel='no_of_children', ylabel='Density'>"
      ]
     },
     "execution_count": 15,
     "metadata": {},
     "output_type": "execute_result"
    },
    {
     "data": {
      "image/png": "[encoded data removed]",
      "text/plain": [
       "<Figure size 640x480 with 1 Axes>"
      ]
     },
     "metadata": {},
     "output_type": "display_data"
    }
   ],
   "source": [
    "sns.kdeplot(x = df['no_of_children'])"
   ]
  },
  {
   "cell_type": "code",
   "execution_count": 16,
   "id": "37bc4cd6",
   "metadata": {},
   "outputs": [
    {
     "data": {
      "text/plain": [
       "<AxesSubplot: >"
      ]
     },
     "execution_count": 16,
     "metadata": {},
     "output_type": "execute_result"
    },
    {
     "data": {
      "image/png": "[encoded data removed]",
      "text/plain": [
       "<Figure size 640x480 with 1 Axes>"
      ]
     },
     "metadata": {},
     "output_type": "display_data"
    }
   ],
   "source": [
    "sns.boxplot(df['no_of_children'])"
   ]
  },
  {
   "cell_type": "code",
   "execution_count": 17,
   "id": "dfb73e55",
   "metadata": {},
   "outputs": [],
   "source": [
    "df['no_of_children'] = np.where(df['no_of_children'] >= 3 , 3 ,df['no_of_children'])"
   ]
  },
  {
   "cell_type": "code",
   "execution_count": 18,
   "id": "a5f30291",
   "metadata": {},
   "outputs": [
    {
     "data": {
      "text/plain": [
       "0    33577\n",
       "1     1618\n",
       "2     1058\n",
       "3       22\n",
       "Name: no_of_children, dtype: int64"
      ]
     },
     "execution_count": 18,
     "metadata": {},
     "output_type": "execute_result"
    }
   ],
   "source": [
    "df['no_of_children'].value_counts()"
   ]
  },
  {
   "cell_type": "code",
   "execution_count": 19,
   "id": "44569f7f",
   "metadata": {},
   "outputs": [
    {
     "name": "stdout",
     "output_type": "stream",
     "text": [
      "<class 'pandas.core.frame.DataFrame'>\n",
      "RangeIndex: 36275 entries, 0 to 36274\n",
      "Data columns (total 18 columns):\n",
      " #   Column                                Non-Null Count  Dtype  \n",
      "---  ------                                --------------  -----  \n",
      " 0   no_of_adults                          36275 non-null  int64  \n",
      " 1   no_of_children                        36275 non-null  int64  \n",
      " 2   no_of_weekend_nights                  36275 non-null  int64  \n",
      " 3   no_of_week_nights                     36275 non-null  int64  \n",
      " 4   type_of_meal_plan                     36275 non-null  object \n",
      " 5   required_car_parking_space            36275 non-null  int64  \n",
      " 6   room_type_reserved                    36275 non-null  object \n",
      " 7   lead_time                             36275 non-null  int64  \n",
      " 8   arrival_year                          36275 non-null  int64  \n",
      " 9   arrival_month                         36275 non-null  int64  \n",
      " 10  arrival_date                          36275 non-null  int64  \n",
      " 11  market_segment_type                   36275 non-null  object \n",
      " 12  repeated_guest                        36275 non-null  int64  \n",
      " 13  no_of_previous_cancellations          36275 non-null  int64  \n",
      " 14  no_of_previous_bookings_not_canceled  36275 non-null  int64  \n",
      " 15  avg_price_per_room                    36275 non-null  float64\n",
      " 16  no_of_special_requests                36275 non-null  int64  \n",
      " 17  booking_status                        36275 non-null  object \n",
      "dtypes: float64(1), int64(13), object(4)\n",
      "memory usage: 5.0+ MB\n"
     ]
    }
   ],
   "source": [
    "df.info()"
   ]
  },
  {
   "cell_type": "markdown",
   "id": "1185dd3b",
   "metadata": {},
   "source": [
    "### 3.no_of_weekend_nights"
   ]
  },
  {
   "cell_type": "code",
   "execution_count": 20,
   "id": "e8254fcf",
   "metadata": {},
   "outputs": [
    {
     "data": {
      "text/plain": [
       "0    16872\n",
       "1     9995\n",
       "2     9071\n",
       "3      153\n",
       "4      129\n",
       "5       34\n",
       "6       20\n",
       "7        1\n",
       "Name: no_of_weekend_nights, dtype: int64"
      ]
     },
     "execution_count": 20,
     "metadata": {},
     "output_type": "execute_result"
    }
   ],
   "source": [
    "df['no_of_weekend_nights'].value_counts()"
   ]
  },
  {
   "cell_type": "code",
   "execution_count": 21,
   "id": "2ff965a3",
   "metadata": {},
   "outputs": [
    {
     "data": {
      "text/plain": [
       "0    16872\n",
       "1     9995\n",
       "2     9071\n",
       "4      184\n",
       "3      153\n",
       "Name: no_of_weekend_nights, dtype: int64"
      ]
     },
     "execution_count": 21,
     "metadata": {},
     "output_type": "execute_result"
    }
   ],
   "source": [
    "df['no_of_weekend_nights'] = np.where(df['no_of_weekend_nights'] >= 4 , 4 ,df['no_of_weekend_nights'])\n",
    "df['no_of_weekend_nights'].value_counts()"
   ]
  },
  {
   "cell_type": "code",
   "execution_count": 22,
   "id": "59bb038e",
   "metadata": {},
   "outputs": [
    {
     "name": "stdout",
     "output_type": "stream",
     "text": [
      "<class 'pandas.core.frame.DataFrame'>\n",
      "RangeIndex: 36275 entries, 0 to 36274\n",
      "Data columns (total 18 columns):\n",
      " #   Column                                Non-Null Count  Dtype  \n",
      "---  ------                                --------------  -----  \n",
      " 0   no_of_adults                          36275 non-null  int64  \n",
      " 1   no_of_children                        36275 non-null  int64  \n",
      " 2   no_of_weekend_nights                  36275 non-null  int64  \n",
      " 3   no_of_week_nights                     36275 non-null  int64  \n",
      " 4   type_of_meal_plan                     36275 non-null  object \n",
      " 5   required_car_parking_space            36275 non-null  int64  \n",
      " 6   room_type_reserved                    36275 non-null  object \n",
      " 7   lead_time                             36275 non-null  int64  \n",
      " 8   arrival_year                          36275 non-null  int64  \n",
      " 9   arrival_month                         36275 non-null  int64  \n",
      " 10  arrival_date                          36275 non-null  int64  \n",
      " 11  market_segment_type                   36275 non-null  object \n",
      " 12  repeated_guest                        36275 non-null  int64  \n",
      " 13  no_of_previous_cancellations          36275 non-null  int64  \n",
      " 14  no_of_previous_bookings_not_canceled  36275 non-null  int64  \n",
      " 15  avg_price_per_room                    36275 non-null  float64\n",
      " 16  no_of_special_requests                36275 non-null  int64  \n",
      " 17  booking_status                        36275 non-null  object \n",
      "dtypes: float64(1), int64(13), object(4)\n",
      "memory usage: 5.0+ MB\n"
     ]
    }
   ],
   "source": [
    "df.info()"
   ]
  },
  {
   "cell_type": "markdown",
   "id": "8d32b220",
   "metadata": {},
   "source": [
    "### 4. no_of_week_nights"
   ]
  },
  {
   "cell_type": "code",
   "execution_count": 23,
   "id": "d3fafa33",
   "metadata": {},
   "outputs": [
    {
     "data": {
      "text/plain": [
       "2     11444\n",
       "1      9488\n",
       "3      7839\n",
       "4      2990\n",
       "0      2387\n",
       "5      1614\n",
       "6       189\n",
       "7       113\n",
       "10       62\n",
       "8        62\n",
       "9        34\n",
       "11       17\n",
       "15       10\n",
       "12        9\n",
       "14        7\n",
       "13        5\n",
       "17        3\n",
       "16        2\n",
       "Name: no_of_week_nights, dtype: int64"
      ]
     },
     "execution_count": 23,
     "metadata": {},
     "output_type": "execute_result"
    }
   ],
   "source": [
    "df['no_of_week_nights'].value_counts()"
   ]
  },
  {
   "cell_type": "code",
   "execution_count": 24,
   "id": "b25df5af",
   "metadata": {},
   "outputs": [
    {
     "data": {
      "text/plain": [
       "2     11444\n",
       "1      9488\n",
       "3      7839\n",
       "4      2990\n",
       "0      2387\n",
       "5      1614\n",
       "6       189\n",
       "10      115\n",
       "7       113\n",
       "8        62\n",
       "9        34\n",
       "Name: no_of_week_nights, dtype: int64"
      ]
     },
     "execution_count": 24,
     "metadata": {},
     "output_type": "execute_result"
    }
   ],
   "source": [
    "df['no_of_week_nights'] = np.where(df['no_of_week_nights'] >= 10 , 10 , df['no_of_week_nights'])\n",
    "df['no_of_week_nights'].value_counts()"
   ]
  },
  {
   "cell_type": "code",
   "execution_count": 25,
   "id": "67ceb2f0",
   "metadata": {},
   "outputs": [
    {
     "name": "stdout",
     "output_type": "stream",
     "text": [
      "<class 'pandas.core.frame.DataFrame'>\n",
      "RangeIndex: 36275 entries, 0 to 36274\n",
      "Data columns (total 18 columns):\n",
      " #   Column                                Non-Null Count  Dtype  \n",
      "---  ------                                --------------  -----  \n",
      " 0   no_of_adults                          36275 non-null  int64  \n",
      " 1   no_of_children                        36275 non-null  int64  \n",
      " 2   no_of_weekend_nights                  36275 non-null  int64  \n",
      " 3   no_of_week_nights                     36275 non-null  int64  \n",
      " 4   type_of_meal_plan                     36275 non-null  object \n",
      " 5   required_car_parking_space            36275 non-null  int64  \n",
      " 6   room_type_reserved                    36275 non-null  object \n",
      " 7   lead_time                             36275 non-null  int64  \n",
      " 8   arrival_year                          36275 non-null  int64  \n",
      " 9   arrival_month                         36275 non-null  int64  \n",
      " 10  arrival_date                          36275 non-null  int64  \n",
      " 11  market_segment_type                   36275 non-null  object \n",
      " 12  repeated_guest                        36275 non-null  int64  \n",
      " 13  no_of_previous_cancellations          36275 non-null  int64  \n",
      " 14  no_of_previous_bookings_not_canceled  36275 non-null  int64  \n",
      " 15  avg_price_per_room                    36275 non-null  float64\n",
      " 16  no_of_special_requests                36275 non-null  int64  \n",
      " 17  booking_status                        36275 non-null  object \n",
      "dtypes: float64(1), int64(13), object(4)\n",
      "memory usage: 5.0+ MB\n"
     ]
    }
   ],
   "source": [
    "df.info()"
   ]
  },
  {
   "cell_type": "markdown",
   "id": "9e3933c0",
   "metadata": {},
   "source": [
    "### 5.type_of_meal_plan"
   ]
  },
  {
   "cell_type": "code",
   "execution_count": 26,
   "id": "d9ffbfec",
   "metadata": {},
   "outputs": [
    {
     "data": {
      "text/plain": [
       "Meal Plan 1     27835\n",
       "Not Selected     5130\n",
       "Meal Plan 2      3305\n",
       "Meal Plan 3         5\n",
       "Name: type_of_meal_plan, dtype: int64"
      ]
     },
     "execution_count": 26,
     "metadata": {},
     "output_type": "execute_result"
    }
   ],
   "source": [
    "df['type_of_meal_plan'].value_counts()"
   ]
  },
  {
   "cell_type": "code",
   "execution_count": 27,
   "id": "770ce183",
   "metadata": {},
   "outputs": [
    {
     "data": {
      "text/plain": [
       "{'Meal Plan 1': 27835,\n",
       " 'Not Selected': 5130,\n",
       " 'Meal Plan 2': 3305,\n",
       " 'Meal Plan 3': 5}"
      ]
     },
     "execution_count": 27,
     "metadata": {},
     "output_type": "execute_result"
    }
   ],
   "source": [
    "df['type_of_meal_plan'].value_counts().to_dict()"
   ]
  },
  {
   "cell_type": "code",
   "execution_count": 28,
   "id": "abc7da96",
   "metadata": {},
   "outputs": [],
   "source": [
    "df['type_of_meal_plan'] = df['type_of_meal_plan'].replace({'Meal Plan 1': 1,\n",
    "                                                             'Not Selected': 0,\n",
    "                                                             'Meal Plan 2': 2,\n",
    "                                                             'Meal Plan 3': 3})"
   ]
  },
  {
   "cell_type": "code",
   "execution_count": 29,
   "id": "963bee2e",
   "metadata": {},
   "outputs": [
    {
     "data": {
      "text/plain": [
       "1    27835\n",
       "0     5130\n",
       "2     3305\n",
       "3        5\n",
       "Name: type_of_meal_plan, dtype: int64"
      ]
     },
     "execution_count": 29,
     "metadata": {},
     "output_type": "execute_result"
    }
   ],
   "source": [
    "df['type_of_meal_plan'].value_counts()"
   ]
  },
  {
   "cell_type": "code",
   "execution_count": 30,
   "id": "51ad7802",
   "metadata": {},
   "outputs": [
    {
     "name": "stdout",
     "output_type": "stream",
     "text": [
      "<class 'pandas.core.frame.DataFrame'>\n",
      "RangeIndex: 36275 entries, 0 to 36274\n",
      "Data columns (total 18 columns):\n",
      " #   Column                                Non-Null Count  Dtype  \n",
      "---  ------                                --------------  -----  \n",
      " 0   no_of_adults                          36275 non-null  int64  \n",
      " 1   no_of_children                        36275 non-null  int64  \n",
      " 2   no_of_weekend_nights                  36275 non-null  int64  \n",
      " 3   no_of_week_nights                     36275 non-null  int64  \n",
      " 4   type_of_meal_plan                     36275 non-null  int64  \n",
      " 5   required_car_parking_space            36275 non-null  int64  \n",
      " 6   room_type_reserved                    36275 non-null  object \n",
      " 7   lead_time                             36275 non-null  int64  \n",
      " 8   arrival_year                          36275 non-null  int64  \n",
      " 9   arrival_month                         36275 non-null  int64  \n",
      " 10  arrival_date                          36275 non-null  int64  \n",
      " 11  market_segment_type                   36275 non-null  object \n",
      " 12  repeated_guest                        36275 non-null  int64  \n",
      " 13  no_of_previous_cancellations          36275 non-null  int64  \n",
      " 14  no_of_previous_bookings_not_canceled  36275 non-null  int64  \n",
      " 15  avg_price_per_room                    36275 non-null  float64\n",
      " 16  no_of_special_requests                36275 non-null  int64  \n",
      " 17  booking_status                        36275 non-null  object \n",
      "dtypes: float64(1), int64(14), object(3)\n",
      "memory usage: 5.0+ MB\n"
     ]
    }
   ],
   "source": [
    "df.info()"
   ]
  },
  {
   "cell_type": "markdown",
   "id": "214d647a",
   "metadata": {},
   "source": [
    "### 6.required_car_parking_space"
   ]
  },
  {
   "cell_type": "code",
   "execution_count": 31,
   "id": "3aa074b8",
   "metadata": {},
   "outputs": [
    {
     "data": {
      "text/plain": [
       "{0: 35151, 1: 1124}"
      ]
     },
     "execution_count": 31,
     "metadata": {},
     "output_type": "execute_result"
    }
   ],
   "source": [
    "df['required_car_parking_space'].value_counts().to_dict()"
   ]
  },
  {
   "cell_type": "code",
   "execution_count": 32,
   "id": "281ea6a7",
   "metadata": {},
   "outputs": [
    {
     "data": {
      "text/plain": [
       "<AxesSubplot: >"
      ]
     },
     "execution_count": 32,
     "metadata": {},
     "output_type": "execute_result"
    },
    {
     "data": {
      "image/png": "[encoded data removed]",
      "text/plain": [
       "<Figure size 640x480 with 1 Axes>"
      ]
     },
     "metadata": {},
     "output_type": "display_data"
    }
   ],
   "source": [
    "sns.boxplot(df['required_car_parking_space'])"
   ]
  },
  {
   "cell_type": "code",
   "execution_count": 33,
   "id": "56303876",
   "metadata": {},
   "outputs": [
    {
     "name": "stdout",
     "output_type": "stream",
     "text": [
      "<class 'pandas.core.frame.DataFrame'>\n",
      "RangeIndex: 36275 entries, 0 to 36274\n",
      "Data columns (total 18 columns):\n",
      " #   Column                                Non-Null Count  Dtype  \n",
      "---  ------                                --------------  -----  \n",
      " 0   no_of_adults                          36275 non-null  int64  \n",
      " 1   no_of_children                        36275 non-null  int64  \n",
      " 2   no_of_weekend_nights                  36275 non-null  int64  \n",
      " 3   no_of_week_nights                     36275 non-null  int64  \n",
      " 4   type_of_meal_plan                     36275 non-null  int64  \n",
      " 5   required_car_parking_space            36275 non-null  int64  \n",
      " 6   room_type_reserved                    36275 non-null  object \n",
      " 7   lead_time                             36275 non-null  int64  \n",
      " 8   arrival_year                          36275 non-null  int64  \n",
      " 9   arrival_month                         36275 non-null  int64  \n",
      " 10  arrival_date                          36275 non-null  int64  \n",
      " 11  market_segment_type                   36275 non-null  object \n",
      " 12  repeated_guest                        36275 non-null  int64  \n",
      " 13  no_of_previous_cancellations          36275 non-null  int64  \n",
      " 14  no_of_previous_bookings_not_canceled  36275 non-null  int64  \n",
      " 15  avg_price_per_room                    36275 non-null  float64\n",
      " 16  no_of_special_requests                36275 non-null  int64  \n",
      " 17  booking_status                        36275 non-null  object \n",
      "dtypes: float64(1), int64(14), object(3)\n",
      "memory usage: 5.0+ MB\n"
     ]
    }
   ],
   "source": [
    "df.info()"
   ]
  },
  {
   "cell_type": "markdown",
   "id": "e712950e",
   "metadata": {},
   "source": [
    "### 6.room_type_reserved                    "
   ]
  },
  {
   "cell_type": "code",
   "execution_count": 34,
   "id": "5ea8a46e",
   "metadata": {},
   "outputs": [
    {
     "data": {
      "text/plain": [
       "{'Room_Type 1': 28130,\n",
       " 'Room_Type 4': 6057,\n",
       " 'Room_Type 6': 966,\n",
       " 'Room_Type 2': 692,\n",
       " 'Room_Type 5': 265,\n",
       " 'Room_Type 7': 158,\n",
       " 'Room_Type 3': 7}"
      ]
     },
     "execution_count": 34,
     "metadata": {},
     "output_type": "execute_result"
    }
   ],
   "source": [
    "df['room_type_reserved'].value_counts().to_dict()"
   ]
  },
  {
   "cell_type": "code",
   "execution_count": 35,
   "id": "a15939aa",
   "metadata": {},
   "outputs": [],
   "source": [
    "df['room_type_reserved'] = df['room_type_reserved'].replace({'Room_Type 1': 1,\n",
    "                                                             'Room_Type 4': 4,\n",
    "                                                             'Room_Type 6': 6,\n",
    "                                                             'Room_Type 2': 2,\n",
    "                                                             'Room_Type 5': 5,\n",
    "                                                             'Room_Type 7': 7,\n",
    "                                                             'Room_Type 3': 3})"
   ]
  },
  {
   "cell_type": "code",
   "execution_count": 36,
   "id": "024f7c9c",
   "metadata": {},
   "outputs": [
    {
     "data": {
      "text/plain": [
       "1    28130\n",
       "4     6057\n",
       "6      966\n",
       "2      692\n",
       "5      265\n",
       "7      158\n",
       "3        7\n",
       "Name: room_type_reserved, dtype: int64"
      ]
     },
     "execution_count": 36,
     "metadata": {},
     "output_type": "execute_result"
    }
   ],
   "source": [
    "df['room_type_reserved'].value_counts()"
   ]
  },
  {
   "cell_type": "code",
   "execution_count": 37,
   "id": "3324cf0d",
   "metadata": {},
   "outputs": [
    {
     "name": "stdout",
     "output_type": "stream",
     "text": [
      "<class 'pandas.core.frame.DataFrame'>\n",
      "RangeIndex: 36275 entries, 0 to 36274\n",
      "Data columns (total 18 columns):\n",
      " #   Column                                Non-Null Count  Dtype  \n",
      "---  ------                                --------------  -----  \n",
      " 0   no_of_adults                          36275 non-null  int64  \n",
      " 1   no_of_children                        36275 non-null  int64  \n",
      " 2   no_of_weekend_nights                  36275 non-null  int64  \n",
      " 3   no_of_week_nights                     36275 non-null  int64  \n",
      " 4   type_of_meal_plan                     36275 non-null  int64  \n",
      " 5   required_car_parking_space            36275 non-null  int64  \n",
      " 6   room_type_reserved                    36275 non-null  int64  \n",
      " 7   lead_time                             36275 non-null  int64  \n",
      " 8   arrival_year                          36275 non-null  int64  \n",
      " 9   arrival_month                         36275 non-null  int64  \n",
      " 10  arrival_date                          36275 non-null  int64  \n",
      " 11  market_segment_type                   36275 non-null  object \n",
      " 12  repeated_guest                        36275 non-null  int64  \n",
      " 13  no_of_previous_cancellations          36275 non-null  int64  \n",
      " 14  no_of_previous_bookings_not_canceled  36275 non-null  int64  \n",
      " 15  avg_price_per_room                    36275 non-null  float64\n",
      " 16  no_of_special_requests                36275 non-null  int64  \n",
      " 17  booking_status                        36275 non-null  object \n",
      "dtypes: float64(1), int64(15), object(2)\n",
      "memory usage: 5.0+ MB\n"
     ]
    }
   ],
   "source": [
    "df.info()"
   ]
  },
  {
   "cell_type": "markdown",
   "id": "c6a2c721",
   "metadata": {},
   "source": [
    "### 7. lead_time                             "
   ]
  },
  {
   "cell_type": "code",
   "execution_count": 38,
   "id": "27522e96",
   "metadata": {},
   "outputs": [
    {
     "data": {
      "text/plain": [
       "0      1297\n",
       "1      1078\n",
       "2       643\n",
       "3       630\n",
       "4       628\n",
       "       ... \n",
       "300       1\n",
       "353       1\n",
       "328       1\n",
       "352       1\n",
       "351       1\n",
       "Name: lead_time, Length: 352, dtype: int64"
      ]
     },
     "execution_count": 38,
     "metadata": {},
     "output_type": "execute_result"
    }
   ],
   "source": [
    "df['lead_time'].value_counts()"
   ]
  },
  {
   "cell_type": "code",
   "execution_count": 39,
   "id": "3d862f8c",
   "metadata": {},
   "outputs": [
    {
     "data": {
      "text/plain": [
       "<AxesSubplot: xlabel='lead_time', ylabel='Density'>"
      ]
     },
     "execution_count": 39,
     "metadata": {},
     "output_type": "execute_result"
    },
    {
     "data": {
      "image/png": "[encoded data removed]",
      "text/plain": [
       "<Figure size 640x480 with 1 Axes>"
      ]
     },
     "metadata": {},
     "output_type": "display_data"
    }
   ],
   "source": [
    "sns.kdeplot(df['lead_time'])"
   ]
  },
  {
   "cell_type": "code",
   "execution_count": 40,
   "id": "16e456fa",
   "metadata": {},
   "outputs": [
    {
     "data": {
      "text/plain": [
       "<AxesSubplot: >"
      ]
     },
     "execution_count": 40,
     "metadata": {},
     "output_type": "execute_result"
    },
    {
     "data": {
      "image/png": "[encoded data removed]",
      "text/plain": [
       "<Figure size 640x480 with 1 Axes>"
      ]
     },
     "metadata": {},
     "output_type": "display_data"
    }
   ],
   "source": [
    "sns.boxplot(df['lead_time'])"
   ]
  },
  {
   "cell_type": "markdown",
   "id": "227d6175",
   "metadata": {},
   "source": [
    "### Outlier detection"
   ]
  },
  {
   "cell_type": "code",
   "execution_count": 41,
   "id": "090c6f9f",
   "metadata": {
    "scrolled": true
   },
   "outputs": [
    {
     "data": {
      "text/plain": [
       "126.0"
      ]
     },
     "execution_count": 41,
     "metadata": {},
     "output_type": "execute_result"
    }
   ],
   "source": [
    "q3 = df['lead_time'].quantile(0.75)\n",
    "q1 = df['lead_time'].quantile(0.25)\n",
    "\n",
    "q3"
   ]
  },
  {
   "cell_type": "code",
   "execution_count": 42,
   "id": "0e3f54f4",
   "metadata": {},
   "outputs": [
    {
     "data": {
      "text/plain": [
       "17.0"
      ]
     },
     "execution_count": 42,
     "metadata": {},
     "output_type": "execute_result"
    }
   ],
   "source": [
    "q1"
   ]
  },
  {
   "cell_type": "code",
   "execution_count": 43,
   "id": "f3150436",
   "metadata": {},
   "outputs": [
    {
     "data": {
      "text/plain": [
       "398.5"
      ]
     },
     "execution_count": 43,
     "metadata": {},
     "output_type": "execute_result"
    }
   ],
   "source": [
    "upper_tail = q3 + 2.5 * (q3-q1)\n",
    "upper_tail"
   ]
  },
  {
   "cell_type": "code",
   "execution_count": 44,
   "id": "a95a22fd",
   "metadata": {},
   "outputs": [],
   "source": [
    "df['lead_time'] = np.where(df['lead_time'] > upper_tail , upper_tail , df['lead_time'])"
   ]
  },
  {
   "cell_type": "code",
   "execution_count": 45,
   "id": "b3b8edaa",
   "metadata": {},
   "outputs": [
    {
     "data": {
      "text/plain": [
       "<AxesSubplot: xlabel='lead_time', ylabel='Density'>"
      ]
     },
     "execution_count": 45,
     "metadata": {},
     "output_type": "execute_result"
    },
    {
     "data": {
      "image/png": "[encoded data removed]",
      "text/plain": [
       "<Figure size 640x480 with 1 Axes>"
      ]
     },
     "metadata": {},
     "output_type": "display_data"
    }
   ],
   "source": [
    "sns.kdeplot(df['lead_time'])"
   ]
  },
  {
   "cell_type": "code",
   "execution_count": 46,
   "id": "8d8f6aa9",
   "metadata": {},
   "outputs": [
    {
     "data": {
      "text/plain": [
       "<AxesSubplot: >"
      ]
     },
     "execution_count": 46,
     "metadata": {},
     "output_type": "execute_result"
    },
    {
     "data": {
      "image/png": "[encoded data removed]",
      "text/plain": [
       "<Figure size 640x480 with 1 Axes>"
      ]
     },
     "metadata": {},
     "output_type": "display_data"
    }
   ],
   "source": [
    "sns.boxplot(df['lead_time'])"
   ]
  },
  {
   "cell_type": "code",
   "execution_count": 47,
   "id": "9b5e34a3",
   "metadata": {},
   "outputs": [
    {
     "name": "stdout",
     "output_type": "stream",
     "text": [
      "<class 'pandas.core.frame.DataFrame'>\n",
      "RangeIndex: 36275 entries, 0 to 36274\n",
      "Data columns (total 18 columns):\n",
      " #   Column                                Non-Null Count  Dtype  \n",
      "---  ------                                --------------  -----  \n",
      " 0   no_of_adults                          36275 non-null  int64  \n",
      " 1   no_of_children                        36275 non-null  int64  \n",
      " 2   no_of_weekend_nights                  36275 non-null  int64  \n",
      " 3   no_of_week_nights                     36275 non-null  int64  \n",
      " 4   type_of_meal_plan                     36275 non-null  int64  \n",
      " 5   required_car_parking_space            36275 non-null  int64  \n",
      " 6   room_type_reserved                    36275 non-null  int64  \n",
      " 7   lead_time                             36275 non-null  float64\n",
      " 8   arrival_year                          36275 non-null  int64  \n",
      " 9   arrival_month                         36275 non-null  int64  \n",
      " 10  arrival_date                          36275 non-null  int64  \n",
      " 11  market_segment_type                   36275 non-null  object \n",
      " 12  repeated_guest                        36275 non-null  int64  \n",
      " 13  no_of_previous_cancellations          36275 non-null  int64  \n",
      " 14  no_of_previous_bookings_not_canceled  36275 non-null  int64  \n",
      " 15  avg_price_per_room                    36275 non-null  float64\n",
      " 16  no_of_special_requests                36275 non-null  int64  \n",
      " 17  booking_status                        36275 non-null  object \n",
      "dtypes: float64(2), int64(14), object(2)\n",
      "memory usage: 5.0+ MB\n"
     ]
    }
   ],
   "source": [
    "df.info()"
   ]
  },
  {
   "cell_type": "markdown",
   "id": "7d8f1bae",
   "metadata": {},
   "source": [
    "### 8.arrival_year"
   ]
  },
  {
   "cell_type": "code",
   "execution_count": 48,
   "id": "e7644a74",
   "metadata": {},
   "outputs": [
    {
     "data": {
      "text/plain": [
       "2018    29761\n",
       "2017     6514\n",
       "Name: arrival_year, dtype: int64"
      ]
     },
     "execution_count": 48,
     "metadata": {},
     "output_type": "execute_result"
    }
   ],
   "source": [
    "df['arrival_year'].value_counts()"
   ]
  },
  {
   "cell_type": "markdown",
   "id": "8c02208f",
   "metadata": {},
   "source": [
    "### 9.arrival_month"
   ]
  },
  {
   "cell_type": "code",
   "execution_count": 49,
   "id": "46d3def7",
   "metadata": {},
   "outputs": [
    {
     "data": {
      "text/plain": [
       "10    5317\n",
       "9     4611\n",
       "8     3813\n",
       "6     3203\n",
       "12    3021\n",
       "11    2980\n",
       "7     2920\n",
       "4     2736\n",
       "5     2598\n",
       "3     2358\n",
       "2     1704\n",
       "1     1014\n",
       "Name: arrival_month, dtype: int64"
      ]
     },
     "execution_count": 49,
     "metadata": {},
     "output_type": "execute_result"
    }
   ],
   "source": [
    "df['arrival_month'].value_counts()"
   ]
  },
  {
   "cell_type": "markdown",
   "id": "c7a3b895",
   "metadata": {},
   "source": [
    "### 10. arrival_date"
   ]
  },
  {
   "cell_type": "code",
   "execution_count": 50,
   "id": "fe5a5603",
   "metadata": {},
   "outputs": [
    {
     "data": {
      "text/plain": [
       "13    1358\n",
       "17    1345\n",
       "2     1331\n",
       "4     1327\n",
       "19    1327\n",
       "16    1306\n",
       "20    1281\n",
       "15    1273\n",
       "6     1273\n",
       "18    1260\n",
       "14    1242\n",
       "30    1216\n",
       "12    1204\n",
       "8     1198\n",
       "29    1190\n",
       "21    1158\n",
       "5     1154\n",
       "26    1146\n",
       "25    1146\n",
       "1     1133\n",
       "9     1130\n",
       "28    1129\n",
       "7     1110\n",
       "24    1103\n",
       "11    1098\n",
       "3     1098\n",
       "10    1089\n",
       "27    1059\n",
       "22    1023\n",
       "23     990\n",
       "31     578\n",
       "Name: arrival_date, dtype: int64"
      ]
     },
     "execution_count": 50,
     "metadata": {},
     "output_type": "execute_result"
    }
   ],
   "source": [
    "df['arrival_date'].value_counts()"
   ]
  },
  {
   "cell_type": "code",
   "execution_count": 51,
   "id": "906a2817",
   "metadata": {},
   "outputs": [
    {
     "name": "stdout",
     "output_type": "stream",
     "text": [
      "<class 'pandas.core.frame.DataFrame'>\n",
      "RangeIndex: 36275 entries, 0 to 36274\n",
      "Data columns (total 18 columns):\n",
      " #   Column                                Non-Null Count  Dtype  \n",
      "---  ------                                --------------  -----  \n",
      " 0   no_of_adults                          36275 non-null  int64  \n",
      " 1   no_of_children                        36275 non-null  int64  \n",
      " 2   no_of_weekend_nights                  36275 non-null  int64  \n",
      " 3   no_of_week_nights                     36275 non-null  int64  \n",
      " 4   type_of_meal_plan                     36275 non-null  int64  \n",
      " 5   required_car_parking_space            36275 non-null  int64  \n",
      " 6   room_type_reserved                    36275 non-null  int64  \n",
      " 7   lead_time                             36275 non-null  float64\n",
      " 8   arrival_year                          36275 non-null  int64  \n",
      " 9   arrival_month                         36275 non-null  int64  \n",
      " 10  arrival_date                          36275 non-null  int64  \n",
      " 11  market_segment_type                   36275 non-null  object \n",
      " 12  repeated_guest                        36275 non-null  int64  \n",
      " 13  no_of_previous_cancellations          36275 non-null  int64  \n",
      " 14  no_of_previous_bookings_not_canceled  36275 non-null  int64  \n",
      " 15  avg_price_per_room                    36275 non-null  float64\n",
      " 16  no_of_special_requests                36275 non-null  int64  \n",
      " 17  booking_status                        36275 non-null  object \n",
      "dtypes: float64(2), int64(14), object(2)\n",
      "memory usage: 5.0+ MB\n"
     ]
    }
   ],
   "source": [
    "df.info()"
   ]
  },
  {
   "cell_type": "markdown",
   "id": "807639d1",
   "metadata": {},
   "source": [
    "### 11.market_segment_type"
   ]
  },
  {
   "cell_type": "code",
   "execution_count": 52,
   "id": "69fc3ca4",
   "metadata": {},
   "outputs": [
    {
     "data": {
      "text/plain": [
       "Online           23214\n",
       "Offline          10528\n",
       "Corporate         2017\n",
       "Complementary      391\n",
       "Aviation           125\n",
       "Name: market_segment_type, dtype: int64"
      ]
     },
     "execution_count": 52,
     "metadata": {},
     "output_type": "execute_result"
    }
   ],
   "source": [
    "df['market_segment_type'].value_counts()"
   ]
  },
  {
   "cell_type": "code",
   "execution_count": 53,
   "id": "5da14956",
   "metadata": {},
   "outputs": [
    {
     "data": {
      "text/html": [
       "<div>\n",
       "<style scoped>\n",
       "    .dataframe tbody tr th:only-of-type {\n",
       "        vertical-align: middle;\n",
       "    }\n",
       "\n",
       "    .dataframe tbody tr th {\n",
       "        vertical-align: top;\n",
       "    }\n",
       "\n",
       "    .dataframe thead th {\n",
       "        text-align: right;\n",
       "    }\n",
       "</style>\n",
       "<table border=\"1\" class=\"dataframe\">\n",
       "  <thead>\n",
       "    <tr style=\"text-align: right;\">\n",
       "      <th></th>\n",
       "      <th>no_of_adults</th>\n",
       "      <th>no_of_children</th>\n",
       "      <th>no_of_weekend_nights</th>\n",
       "      <th>no_of_week_nights</th>\n",
       "      <th>type_of_meal_plan</th>\n",
       "      <th>required_car_parking_space</th>\n",
       "      <th>room_type_reserved</th>\n",
       "      <th>lead_time</th>\n",
       "      <th>arrival_year</th>\n",
       "      <th>arrival_month</th>\n",
       "      <th>...</th>\n",
       "      <th>no_of_previous_cancellations</th>\n",
       "      <th>no_of_previous_bookings_not_canceled</th>\n",
       "      <th>avg_price_per_room</th>\n",
       "      <th>no_of_special_requests</th>\n",
       "      <th>booking_status</th>\n",
       "      <th>market_segment_type_Aviation</th>\n",
       "      <th>market_segment_type_Complementary</th>\n",
       "      <th>market_segment_type_Corporate</th>\n",
       "      <th>market_segment_type_Offline</th>\n",
       "      <th>market_segment_type_Online</th>\n",
       "    </tr>\n",
       "  </thead>\n",
       "  <tbody>\n",
       "    <tr>\n",
       "      <th>0</th>\n",
       "      <td>2</td>\n",
       "      <td>0</td>\n",
       "      <td>1</td>\n",
       "      <td>2</td>\n",
       "      <td>1</td>\n",
       "      <td>0</td>\n",
       "      <td>1</td>\n",
       "      <td>224.0</td>\n",
       "      <td>2017</td>\n",
       "      <td>10</td>\n",
       "      <td>...</td>\n",
       "      <td>0</td>\n",
       "      <td>0</td>\n",
       "      <td>65.00</td>\n",
       "      <td>0</td>\n",
       "      <td>Not_Canceled</td>\n",
       "      <td>0</td>\n",
       "      <td>0</td>\n",
       "      <td>0</td>\n",
       "      <td>1</td>\n",
       "      <td>0</td>\n",
       "    </tr>\n",
       "    <tr>\n",
       "      <th>1</th>\n",
       "      <td>2</td>\n",
       "      <td>0</td>\n",
       "      <td>2</td>\n",
       "      <td>3</td>\n",
       "      <td>0</td>\n",
       "      <td>0</td>\n",
       "      <td>1</td>\n",
       "      <td>5.0</td>\n",
       "      <td>2018</td>\n",
       "      <td>11</td>\n",
       "      <td>...</td>\n",
       "      <td>0</td>\n",
       "      <td>0</td>\n",
       "      <td>106.68</td>\n",
       "      <td>1</td>\n",
       "      <td>Not_Canceled</td>\n",
       "      <td>0</td>\n",
       "      <td>0</td>\n",
       "      <td>0</td>\n",
       "      <td>0</td>\n",
       "      <td>1</td>\n",
       "    </tr>\n",
       "    <tr>\n",
       "      <th>2</th>\n",
       "      <td>1</td>\n",
       "      <td>0</td>\n",
       "      <td>2</td>\n",
       "      <td>1</td>\n",
       "      <td>1</td>\n",
       "      <td>0</td>\n",
       "      <td>1</td>\n",
       "      <td>1.0</td>\n",
       "      <td>2018</td>\n",
       "      <td>2</td>\n",
       "      <td>...</td>\n",
       "      <td>0</td>\n",
       "      <td>0</td>\n",
       "      <td>60.00</td>\n",
       "      <td>0</td>\n",
       "      <td>Canceled</td>\n",
       "      <td>0</td>\n",
       "      <td>0</td>\n",
       "      <td>0</td>\n",
       "      <td>0</td>\n",
       "      <td>1</td>\n",
       "    </tr>\n",
       "    <tr>\n",
       "      <th>3</th>\n",
       "      <td>2</td>\n",
       "      <td>0</td>\n",
       "      <td>0</td>\n",
       "      <td>2</td>\n",
       "      <td>1</td>\n",
       "      <td>0</td>\n",
       "      <td>1</td>\n",
       "      <td>211.0</td>\n",
       "      <td>2018</td>\n",
       "      <td>5</td>\n",
       "      <td>...</td>\n",
       "      <td>0</td>\n",
       "      <td>0</td>\n",
       "      <td>100.00</td>\n",
       "      <td>0</td>\n",
       "      <td>Canceled</td>\n",
       "      <td>0</td>\n",
       "      <td>0</td>\n",
       "      <td>0</td>\n",
       "      <td>0</td>\n",
       "      <td>1</td>\n",
       "    </tr>\n",
       "    <tr>\n",
       "      <th>4</th>\n",
       "      <td>2</td>\n",
       "      <td>0</td>\n",
       "      <td>1</td>\n",
       "      <td>1</td>\n",
       "      <td>0</td>\n",
       "      <td>0</td>\n",
       "      <td>1</td>\n",
       "      <td>48.0</td>\n",
       "      <td>2018</td>\n",
       "      <td>4</td>\n",
       "      <td>...</td>\n",
       "      <td>0</td>\n",
       "      <td>0</td>\n",
       "      <td>94.50</td>\n",
       "      <td>0</td>\n",
       "      <td>Canceled</td>\n",
       "      <td>0</td>\n",
       "      <td>0</td>\n",
       "      <td>0</td>\n",
       "      <td>0</td>\n",
       "      <td>1</td>\n",
       "    </tr>\n",
       "    <tr>\n",
       "      <th>...</th>\n",
       "      <td>...</td>\n",
       "      <td>...</td>\n",
       "      <td>...</td>\n",
       "      <td>...</td>\n",
       "      <td>...</td>\n",
       "      <td>...</td>\n",
       "      <td>...</td>\n",
       "      <td>...</td>\n",
       "      <td>...</td>\n",
       "      <td>...</td>\n",
       "      <td>...</td>\n",
       "      <td>...</td>\n",
       "      <td>...</td>\n",
       "      <td>...</td>\n",
       "      <td>...</td>\n",
       "      <td>...</td>\n",
       "      <td>...</td>\n",
       "      <td>...</td>\n",
       "      <td>...</td>\n",
       "      <td>...</td>\n",
       "      <td>...</td>\n",
       "    </tr>\n",
       "    <tr>\n",
       "      <th>36270</th>\n",
       "      <td>3</td>\n",
       "      <td>0</td>\n",
       "      <td>2</td>\n",
       "      <td>6</td>\n",
       "      <td>1</td>\n",
       "      <td>0</td>\n",
       "      <td>4</td>\n",
       "      <td>85.0</td>\n",
       "      <td>2018</td>\n",
       "      <td>8</td>\n",
       "      <td>...</td>\n",
       "      <td>0</td>\n",
       "      <td>0</td>\n",
       "      <td>167.80</td>\n",
       "      <td>1</td>\n",
       "      <td>Not_Canceled</td>\n",
       "      <td>0</td>\n",
       "      <td>0</td>\n",
       "      <td>0</td>\n",
       "      <td>0</td>\n",
       "      <td>1</td>\n",
       "    </tr>\n",
       "    <tr>\n",
       "      <th>36271</th>\n",
       "      <td>2</td>\n",
       "      <td>0</td>\n",
       "      <td>1</td>\n",
       "      <td>3</td>\n",
       "      <td>1</td>\n",
       "      <td>0</td>\n",
       "      <td>1</td>\n",
       "      <td>228.0</td>\n",
       "      <td>2018</td>\n",
       "      <td>10</td>\n",
       "      <td>...</td>\n",
       "      <td>0</td>\n",
       "      <td>0</td>\n",
       "      <td>90.95</td>\n",
       "      <td>2</td>\n",
       "      <td>Canceled</td>\n",
       "      <td>0</td>\n",
       "      <td>0</td>\n",
       "      <td>0</td>\n",
       "      <td>0</td>\n",
       "      <td>1</td>\n",
       "    </tr>\n",
       "    <tr>\n",
       "      <th>36272</th>\n",
       "      <td>2</td>\n",
       "      <td>0</td>\n",
       "      <td>2</td>\n",
       "      <td>6</td>\n",
       "      <td>1</td>\n",
       "      <td>0</td>\n",
       "      <td>1</td>\n",
       "      <td>148.0</td>\n",
       "      <td>2018</td>\n",
       "      <td>7</td>\n",
       "      <td>...</td>\n",
       "      <td>0</td>\n",
       "      <td>0</td>\n",
       "      <td>98.39</td>\n",
       "      <td>2</td>\n",
       "      <td>Not_Canceled</td>\n",
       "      <td>0</td>\n",
       "      <td>0</td>\n",
       "      <td>0</td>\n",
       "      <td>0</td>\n",
       "      <td>1</td>\n",
       "    </tr>\n",
       "    <tr>\n",
       "      <th>36273</th>\n",
       "      <td>2</td>\n",
       "      <td>0</td>\n",
       "      <td>0</td>\n",
       "      <td>3</td>\n",
       "      <td>0</td>\n",
       "      <td>0</td>\n",
       "      <td>1</td>\n",
       "      <td>63.0</td>\n",
       "      <td>2018</td>\n",
       "      <td>4</td>\n",
       "      <td>...</td>\n",
       "      <td>0</td>\n",
       "      <td>0</td>\n",
       "      <td>94.50</td>\n",
       "      <td>0</td>\n",
       "      <td>Canceled</td>\n",
       "      <td>0</td>\n",
       "      <td>0</td>\n",
       "      <td>0</td>\n",
       "      <td>0</td>\n",
       "      <td>1</td>\n",
       "    </tr>\n",
       "    <tr>\n",
       "      <th>36274</th>\n",
       "      <td>2</td>\n",
       "      <td>0</td>\n",
       "      <td>1</td>\n",
       "      <td>2</td>\n",
       "      <td>1</td>\n",
       "      <td>0</td>\n",
       "      <td>1</td>\n",
       "      <td>207.0</td>\n",
       "      <td>2018</td>\n",
       "      <td>12</td>\n",
       "      <td>...</td>\n",
       "      <td>0</td>\n",
       "      <td>0</td>\n",
       "      <td>161.67</td>\n",
       "      <td>0</td>\n",
       "      <td>Not_Canceled</td>\n",
       "      <td>0</td>\n",
       "      <td>0</td>\n",
       "      <td>0</td>\n",
       "      <td>1</td>\n",
       "      <td>0</td>\n",
       "    </tr>\n",
       "  </tbody>\n",
       "</table>\n",
       "<p>36275 rows × 22 columns</p>\n",
       "</div>"
      ],
      "text/plain": [
       "       no_of_adults  no_of_children  no_of_weekend_nights  no_of_week_nights  \\\n",
       "0                 2               0                     1                  2   \n",
       "1                 2               0                     2                  3   \n",
       "2                 1               0                     2                  1   \n",
       "3                 2               0                     0                  2   \n",
       "4                 2               0                     1                  1   \n",
       "...             ...             ...                   ...                ...   \n",
       "36270             3               0                     2                  6   \n",
       "36271             2               0                     1                  3   \n",
       "36272             2               0                     2                  6   \n",
       "36273             2               0                     0                  3   \n",
       "36274             2               0                     1                  2   \n",
       "\n",
       "       type_of_meal_plan  required_car_parking_space  room_type_reserved  \\\n",
       "0                      1                           0                   1   \n",
       "1                      0                           0                   1   \n",
       "2                      1                           0                   1   \n",
       "3                      1                           0                   1   \n",
       "4                      0                           0                   1   \n",
       "...                  ...                         ...                 ...   \n",
       "36270                  1                           0                   4   \n",
       "36271                  1                           0                   1   \n",
       "36272                  1                           0                   1   \n",
       "36273                  0                           0                   1   \n",
       "36274                  1                           0                   1   \n",
       "\n",
       "       lead_time  arrival_year  arrival_month  ...  \\\n",
       "0          224.0          2017             10  ...   \n",
       "1            5.0          2018             11  ...   \n",
       "2            1.0          2018              2  ...   \n",
       "3          211.0          2018              5  ...   \n",
       "4           48.0          2018              4  ...   \n",
       "...          ...           ...            ...  ...   \n",
       "36270       85.0          2018              8  ...   \n",
       "36271      228.0          2018             10  ...   \n",
       "36272      148.0          2018              7  ...   \n",
       "36273       63.0          2018              4  ...   \n",
       "36274      207.0          2018             12  ...   \n",
       "\n",
       "       no_of_previous_cancellations  no_of_previous_bookings_not_canceled  \\\n",
       "0                                 0                                     0   \n",
       "1                                 0                                     0   \n",
       "2                                 0                                     0   \n",
       "3                                 0                                     0   \n",
       "4                                 0                                     0   \n",
       "...                             ...                                   ...   \n",
       "36270                             0                                     0   \n",
       "36271                             0                                     0   \n",
       "36272                             0                                     0   \n",
       "36273                             0                                     0   \n",
       "36274                             0                                     0   \n",
       "\n",
       "       avg_price_per_room  no_of_special_requests  booking_status  \\\n",
       "0                   65.00                       0    Not_Canceled   \n",
       "1                  106.68                       1    Not_Canceled   \n",
       "2                   60.00                       0        Canceled   \n",
       "3                  100.00                       0        Canceled   \n",
       "4                   94.50                       0        Canceled   \n",
       "...                   ...                     ...             ...   \n",
       "36270              167.80                       1    Not_Canceled   \n",
       "36271               90.95                       2        Canceled   \n",
       "36272               98.39                       2    Not_Canceled   \n",
       "36273               94.50                       0        Canceled   \n",
       "36274              161.67                       0    Not_Canceled   \n",
       "\n",
       "       market_segment_type_Aviation market_segment_type_Complementary  \\\n",
       "0                                 0                                 0   \n",
       "1                                 0                                 0   \n",
       "2                                 0                                 0   \n",
       "3                                 0                                 0   \n",
       "4                                 0                                 0   \n",
       "...                             ...                               ...   \n",
       "36270                             0                                 0   \n",
       "36271                             0                                 0   \n",
       "36272                             0                                 0   \n",
       "36273                             0                                 0   \n",
       "36274                             0                                 0   \n",
       "\n",
       "       market_segment_type_Corporate  market_segment_type_Offline  \\\n",
       "0                                  0                            1   \n",
       "1                                  0                            0   \n",
       "2                                  0                            0   \n",
       "3                                  0                            0   \n",
       "4                                  0                            0   \n",
       "...                              ...                          ...   \n",
       "36270                              0                            0   \n",
       "36271                              0                            0   \n",
       "36272                              0                            0   \n",
       "36273                              0                            0   \n",
       "36274                              0                            1   \n",
       "\n",
       "       market_segment_type_Online  \n",
       "0                               0  \n",
       "1                               1  \n",
       "2                               1  \n",
       "3                               1  \n",
       "4                               1  \n",
       "...                           ...  \n",
       "36270                           1  \n",
       "36271                           1  \n",
       "36272                           1  \n",
       "36273                           1  \n",
       "36274                           0  \n",
       "\n",
       "[36275 rows x 22 columns]"
      ]
     },
     "execution_count": 53,
     "metadata": {},
     "output_type": "execute_result"
    }
   ],
   "source": [
    "df = pd.get_dummies(df,columns=['market_segment_type'])\n",
    "df"
   ]
  },
  {
   "cell_type": "code",
   "execution_count": 54,
   "id": "2bb4e33b",
   "metadata": {},
   "outputs": [
    {
     "name": "stdout",
     "output_type": "stream",
     "text": [
      "<class 'pandas.core.frame.DataFrame'>\n",
      "RangeIndex: 36275 entries, 0 to 36274\n",
      "Data columns (total 22 columns):\n",
      " #   Column                                Non-Null Count  Dtype  \n",
      "---  ------                                --------------  -----  \n",
      " 0   no_of_adults                          36275 non-null  int64  \n",
      " 1   no_of_children                        36275 non-null  int64  \n",
      " 2   no_of_weekend_nights                  36275 non-null  int64  \n",
      " 3   no_of_week_nights                     36275 non-null  int64  \n",
      " 4   type_of_meal_plan                     36275 non-null  int64  \n",
      " 5   required_car_parking_space            36275 non-null  int64  \n",
      " 6   room_type_reserved                    36275 non-null  int64  \n",
      " 7   lead_time                             36275 non-null  float64\n",
      " 8   arrival_year                          36275 non-null  int64  \n",
      " 9   arrival_month                         36275 non-null  int64  \n",
      " 10  arrival_date                          36275 non-null  int64  \n",
      " 11  repeated_guest                        36275 non-null  int64  \n",
      " 12  no_of_previous_cancellations          36275 non-null  int64  \n",
      " 13  no_of_previous_bookings_not_canceled  36275 non-null  int64  \n",
      " 14  avg_price_per_room                    36275 non-null  float64\n",
      " 15  no_of_special_requests                36275 non-null  int64  \n",
      " 16  booking_status                        36275 non-null  object \n",
      " 17  market_segment_type_Aviation          36275 non-null  uint8  \n",
      " 18  market_segment_type_Complementary     36275 non-null  uint8  \n",
      " 19  market_segment_type_Corporate         36275 non-null  uint8  \n",
      " 20  market_segment_type_Offline           36275 non-null  uint8  \n",
      " 21  market_segment_type_Online            36275 non-null  uint8  \n",
      "dtypes: float64(2), int64(14), object(1), uint8(5)\n",
      "memory usage: 4.9+ MB\n"
     ]
    }
   ],
   "source": [
    "df.info()"
   ]
  },
  {
   "cell_type": "markdown",
   "id": "b9bf621c",
   "metadata": {},
   "source": [
    "### 12.repeated_guest"
   ]
  },
  {
   "cell_type": "code",
   "execution_count": 55,
   "id": "926d0e9e",
   "metadata": {},
   "outputs": [
    {
     "data": {
      "text/plain": [
       "0    35345\n",
       "1      930\n",
       "Name: repeated_guest, dtype: int64"
      ]
     },
     "execution_count": 55,
     "metadata": {},
     "output_type": "execute_result"
    }
   ],
   "source": [
    "df['repeated_guest'].value_counts()"
   ]
  },
  {
   "cell_type": "markdown",
   "id": "bff8efca",
   "metadata": {},
   "source": [
    "### 13.no_of_previous_cancellations"
   ]
  },
  {
   "cell_type": "code",
   "execution_count": 56,
   "id": "537c18a5",
   "metadata": {},
   "outputs": [
    {
     "data": {
      "text/plain": [
       "0     35937\n",
       "1       198\n",
       "2        46\n",
       "3        43\n",
       "11       25\n",
       "5        11\n",
       "4        10\n",
       "13        4\n",
       "6         1\n",
       "Name: no_of_previous_cancellations, dtype: int64"
      ]
     },
     "execution_count": 56,
     "metadata": {},
     "output_type": "execute_result"
    }
   ],
   "source": [
    "df['no_of_previous_cancellations'].value_counts()"
   ]
  },
  {
   "cell_type": "code",
   "execution_count": 57,
   "id": "b4534cb7",
   "metadata": {},
   "outputs": [
    {
     "data": {
      "text/plain": [
       "<AxesSubplot: >"
      ]
     },
     "execution_count": 57,
     "metadata": {},
     "output_type": "execute_result"
    },
    {
     "data": {
      "image/png": "[encoded data removed]",
      "text/plain": [
       "<Figure size 640x480 with 1 Axes>"
      ]
     },
     "metadata": {},
     "output_type": "display_data"
    }
   ],
   "source": [
    "sns.boxplot(df['no_of_previous_cancellations'])"
   ]
  },
  {
   "cell_type": "code",
   "execution_count": 58,
   "id": "fb95dc4f",
   "metadata": {},
   "outputs": [
    {
     "data": {
      "text/plain": [
       "0        0\n",
       "1        0\n",
       "2        0\n",
       "3        0\n",
       "4        0\n",
       "        ..\n",
       "36270    0\n",
       "36271    0\n",
       "36272    0\n",
       "36273    0\n",
       "36274    0\n",
       "Name: no_of_previous_cancellations, Length: 36275, dtype: int64"
      ]
     },
     "execution_count": 58,
     "metadata": {},
     "output_type": "execute_result"
    }
   ],
   "source": [
    "df['no_of_previous_cancellations'] = np.where(df['no_of_previous_cancellations'] >= 2 , 2 , df['no_of_previous_cancellations'])\n",
    "df['no_of_previous_cancellations']"
   ]
  },
  {
   "cell_type": "code",
   "execution_count": 59,
   "id": "54239996",
   "metadata": {},
   "outputs": [
    {
     "data": {
      "text/plain": [
       "0    35937\n",
       "1      198\n",
       "2      140\n",
       "Name: no_of_previous_cancellations, dtype: int64"
      ]
     },
     "execution_count": 59,
     "metadata": {},
     "output_type": "execute_result"
    }
   ],
   "source": [
    "df['no_of_previous_cancellations'].value_counts()"
   ]
  },
  {
   "cell_type": "code",
   "execution_count": 60,
   "id": "076d2dcd",
   "metadata": {},
   "outputs": [
    {
     "name": "stdout",
     "output_type": "stream",
     "text": [
      "<class 'pandas.core.frame.DataFrame'>\n",
      "RangeIndex: 36275 entries, 0 to 36274\n",
      "Data columns (total 22 columns):\n",
      " #   Column                                Non-Null Count  Dtype  \n",
      "---  ------                                --------------  -----  \n",
      " 0   no_of_adults                          36275 non-null  int64  \n",
      " 1   no_of_children                        36275 non-null  int64  \n",
      " 2   no_of_weekend_nights                  36275 non-null  int64  \n",
      " 3   no_of_week_nights                     36275 non-null  int64  \n",
      " 4   type_of_meal_plan                     36275 non-null  int64  \n",
      " 5   required_car_parking_space            36275 non-null  int64  \n",
      " 6   room_type_reserved                    36275 non-null  int64  \n",
      " 7   lead_time                             36275 non-null  float64\n",
      " 8   arrival_year                          36275 non-null  int64  \n",
      " 9   arrival_month                         36275 non-null  int64  \n",
      " 10  arrival_date                          36275 non-null  int64  \n",
      " 11  repeated_guest                        36275 non-null  int64  \n",
      " 12  no_of_previous_cancellations          36275 non-null  int64  \n",
      " 13  no_of_previous_bookings_not_canceled  36275 non-null  int64  \n",
      " 14  avg_price_per_room                    36275 non-null  float64\n",
      " 15  no_of_special_requests                36275 non-null  int64  \n",
      " 16  booking_status                        36275 non-null  object \n",
      " 17  market_segment_type_Aviation          36275 non-null  uint8  \n",
      " 18  market_segment_type_Complementary     36275 non-null  uint8  \n",
      " 19  market_segment_type_Corporate         36275 non-null  uint8  \n",
      " 20  market_segment_type_Offline           36275 non-null  uint8  \n",
      " 21  market_segment_type_Online            36275 non-null  uint8  \n",
      "dtypes: float64(2), int64(14), object(1), uint8(5)\n",
      "memory usage: 4.9+ MB\n"
     ]
    }
   ],
   "source": [
    "df.info()"
   ]
  },
  {
   "cell_type": "markdown",
   "id": "fb05b895",
   "metadata": {},
   "source": [
    "### 13.  no_of_previous_bookings_not_canceled"
   ]
  },
  {
   "cell_type": "code",
   "execution_count": 61,
   "id": "ce8b7f7e",
   "metadata": {},
   "outputs": [
    {
     "data": {
      "text/plain": [
       "0     35463\n",
       "1       228\n",
       "2       112\n",
       "3        80\n",
       "4        65\n",
       "5        60\n",
       "6        36\n",
       "7        24\n",
       "8        23\n",
       "10       19\n",
       "9        19\n",
       "11       15\n",
       "12       12\n",
       "14        9\n",
       "15        8\n",
       "16        7\n",
       "13        7\n",
       "18        6\n",
       "20        6\n",
       "21        6\n",
       "17        6\n",
       "19        6\n",
       "22        6\n",
       "25        3\n",
       "27        3\n",
       "24        3\n",
       "23        3\n",
       "44        2\n",
       "29        2\n",
       "48        2\n",
       "28        2\n",
       "30        2\n",
       "32        2\n",
       "31        2\n",
       "26        2\n",
       "46        1\n",
       "55        1\n",
       "45        1\n",
       "57        1\n",
       "53        1\n",
       "54        1\n",
       "58        1\n",
       "41        1\n",
       "40        1\n",
       "43        1\n",
       "35        1\n",
       "50        1\n",
       "56        1\n",
       "33        1\n",
       "37        1\n",
       "42        1\n",
       "51        1\n",
       "38        1\n",
       "34        1\n",
       "39        1\n",
       "52        1\n",
       "49        1\n",
       "47        1\n",
       "36        1\n",
       "Name: no_of_previous_bookings_not_canceled, dtype: int64"
      ]
     },
     "execution_count": 61,
     "metadata": {},
     "output_type": "execute_result"
    }
   ],
   "source": [
    "df['no_of_previous_bookings_not_canceled'].value_counts()"
   ]
  },
  {
   "cell_type": "code",
   "execution_count": 62,
   "id": "e1a0f762",
   "metadata": {},
   "outputs": [
    {
     "data": {
      "text/plain": [
       "<AxesSubplot: >"
      ]
     },
     "execution_count": 62,
     "metadata": {},
     "output_type": "execute_result"
    },
    {
     "data": {
      "image/png": "[encoded data removed]",
      "text/plain": [
       "<Figure size 640x480 with 1 Axes>"
      ]
     },
     "metadata": {},
     "output_type": "display_data"
    }
   ],
   "source": [
    "sns.boxplot(df['no_of_previous_bookings_not_canceled'])"
   ]
  },
  {
   "cell_type": "code",
   "execution_count": 63,
   "id": "91b8b1d4",
   "metadata": {},
   "outputs": [
    {
     "data": {
      "text/plain": [
       "0    35463\n",
       "6      267\n",
       "1      228\n",
       "2      112\n",
       "3       80\n",
       "4       65\n",
       "5       60\n",
       "Name: no_of_previous_bookings_not_canceled, dtype: int64"
      ]
     },
     "execution_count": 63,
     "metadata": {},
     "output_type": "execute_result"
    }
   ],
   "source": [
    "df['no_of_previous_bookings_not_canceled'] = np.where(df['no_of_previous_bookings_not_canceled'] >= 6 , 6 , df['no_of_previous_bookings_not_canceled'])\n",
    "df['no_of_previous_bookings_not_canceled'].value_counts()"
   ]
  },
  {
   "cell_type": "code",
   "execution_count": 64,
   "id": "96da7567",
   "metadata": {},
   "outputs": [
    {
     "name": "stdout",
     "output_type": "stream",
     "text": [
      "<class 'pandas.core.frame.DataFrame'>\n",
      "RangeIndex: 36275 entries, 0 to 36274\n",
      "Data columns (total 22 columns):\n",
      " #   Column                                Non-Null Count  Dtype  \n",
      "---  ------                                --------------  -----  \n",
      " 0   no_of_adults                          36275 non-null  int64  \n",
      " 1   no_of_children                        36275 non-null  int64  \n",
      " 2   no_of_weekend_nights                  36275 non-null  int64  \n",
      " 3   no_of_week_nights                     36275 non-null  int64  \n",
      " 4   type_of_meal_plan                     36275 non-null  int64  \n",
      " 5   required_car_parking_space            36275 non-null  int64  \n",
      " 6   room_type_reserved                    36275 non-null  int64  \n",
      " 7   lead_time                             36275 non-null  float64\n",
      " 8   arrival_year                          36275 non-null  int64  \n",
      " 9   arrival_month                         36275 non-null  int64  \n",
      " 10  arrival_date                          36275 non-null  int64  \n",
      " 11  repeated_guest                        36275 non-null  int64  \n",
      " 12  no_of_previous_cancellations          36275 non-null  int64  \n",
      " 13  no_of_previous_bookings_not_canceled  36275 non-null  int64  \n",
      " 14  avg_price_per_room                    36275 non-null  float64\n",
      " 15  no_of_special_requests                36275 non-null  int64  \n",
      " 16  booking_status                        36275 non-null  object \n",
      " 17  market_segment_type_Aviation          36275 non-null  uint8  \n",
      " 18  market_segment_type_Complementary     36275 non-null  uint8  \n",
      " 19  market_segment_type_Corporate         36275 non-null  uint8  \n",
      " 20  market_segment_type_Offline           36275 non-null  uint8  \n",
      " 21  market_segment_type_Online            36275 non-null  uint8  \n",
      "dtypes: float64(2), int64(14), object(1), uint8(5)\n",
      "memory usage: 4.9+ MB\n"
     ]
    }
   ],
   "source": [
    "df.info()"
   ]
  },
  {
   "cell_type": "markdown",
   "id": "017f0458",
   "metadata": {},
   "source": [
    "### 14.  avg_price_per_room"
   ]
  },
  {
   "cell_type": "code",
   "execution_count": 65,
   "id": "e45a013e",
   "metadata": {},
   "outputs": [
    {
     "data": {
      "text/plain": [
       "65.00     848\n",
       "75.00     826\n",
       "90.00     703\n",
       "95.00     669\n",
       "115.00    662\n",
       "         ... \n",
       "212.42      1\n",
       "83.48       1\n",
       "70.42       1\n",
       "130.99      1\n",
       "167.80      1\n",
       "Name: avg_price_per_room, Length: 3930, dtype: int64"
      ]
     },
     "execution_count": 65,
     "metadata": {},
     "output_type": "execute_result"
    }
   ],
   "source": [
    "df['avg_price_per_room'].value_counts()"
   ]
  },
  {
   "cell_type": "code",
   "execution_count": 66,
   "id": "a2f0de58",
   "metadata": {},
   "outputs": [
    {
     "data": {
      "text/plain": [
       "<AxesSubplot: >"
      ]
     },
     "execution_count": 66,
     "metadata": {},
     "output_type": "execute_result"
    },
    {
     "data": {
      "image/png": "[encoded data removed]",
      "text/plain": [
       "<Figure size 640x480 with 1 Axes>"
      ]
     },
     "metadata": {},
     "output_type": "display_data"
    }
   ],
   "source": [
    "sns.boxplot(df['avg_price_per_room'])"
   ]
  },
  {
   "cell_type": "code",
   "execution_count": 67,
   "id": "8c3619b5",
   "metadata": {},
   "outputs": [
    {
     "data": {
      "text/plain": [
       "<AxesSubplot: xlabel='avg_price_per_room', ylabel='Density'>"
      ]
     },
     "execution_count": 67,
     "metadata": {},
     "output_type": "execute_result"
    },
    {
     "data": {
      "image/png": "[encoded data removed]",
      "text/plain": [
       "<Figure size 640x480 with 1 Axes>"
      ]
     },
     "metadata": {},
     "output_type": "display_data"
    }
   ],
   "source": [
    "sns.kdeplot(df['avg_price_per_room'])"
   ]
  },
  {
   "cell_type": "markdown",
   "id": "5b14608f",
   "metadata": {},
   "source": [
    "### Outlier detection"
   ]
  },
  {
   "cell_type": "code",
   "execution_count": 68,
   "id": "85c7d8a5",
   "metadata": {
    "scrolled": true
   },
   "outputs": [
    {
     "data": {
      "text/plain": [
       "120.0"
      ]
     },
     "execution_count": 68,
     "metadata": {},
     "output_type": "execute_result"
    }
   ],
   "source": [
    "q3 = df['avg_price_per_room'].quantile(0.75)\n",
    "q1 = df['avg_price_per_room'].quantile(0.25)\n",
    "\n",
    "q3"
   ]
  },
  {
   "cell_type": "code",
   "execution_count": 69,
   "id": "b5253672",
   "metadata": {},
   "outputs": [
    {
     "data": {
      "text/plain": [
       "179.55"
      ]
     },
     "execution_count": 69,
     "metadata": {},
     "output_type": "execute_result"
    }
   ],
   "source": [
    "upper_tail = q3 + 1.5 * (q3 - q1)\n",
    "upper_tail"
   ]
  },
  {
   "cell_type": "code",
   "execution_count": 70,
   "id": "e31e78b7",
   "metadata": {},
   "outputs": [
    {
     "data": {
      "text/plain": [
       "20.749999999999993"
      ]
     },
     "execution_count": 70,
     "metadata": {},
     "output_type": "execute_result"
    }
   ],
   "source": [
    "lower_tail = q1 - 1.5 * (q3-q1)\n",
    "lower_tail"
   ]
  },
  {
   "cell_type": "code",
   "execution_count": 71,
   "id": "cdbb7704",
   "metadata": {},
   "outputs": [],
   "source": [
    "df['avg_price_per_room'] = np.where(df['avg_price_per_room'] > upper_tail , upper_tail , df['avg_price_per_room'])\n",
    "df['avg_price_per_room'] = np.where(df['avg_price_per_room'] < lower_tail , lower_tail , df['avg_price_per_room'])\n"
   ]
  },
  {
   "cell_type": "code",
   "execution_count": 72,
   "id": "d39c12b7",
   "metadata": {},
   "outputs": [
    {
     "data": {
      "text/plain": [
       "<AxesSubplot: >"
      ]
     },
     "execution_count": 72,
     "metadata": {},
     "output_type": "execute_result"
    },
    {
     "data": {
      "image/png": "[encoded data removed]",
      "text/plain": [
       "<Figure size 640x480 with 1 Axes>"
      ]
     },
     "metadata": {},
     "output_type": "display_data"
    }
   ],
   "source": [
    "sns.boxplot(df['avg_price_per_room'])"
   ]
  },
  {
   "cell_type": "code",
   "execution_count": 73,
   "id": "0d58c0e3",
   "metadata": {},
   "outputs": [
    {
     "name": "stdout",
     "output_type": "stream",
     "text": [
      "<class 'pandas.core.frame.DataFrame'>\n",
      "RangeIndex: 36275 entries, 0 to 36274\n",
      "Data columns (total 22 columns):\n",
      " #   Column                                Non-Null Count  Dtype  \n",
      "---  ------                                --------------  -----  \n",
      " 0   no_of_adults                          36275 non-null  int64  \n",
      " 1   no_of_children                        36275 non-null  int64  \n",
      " 2   no_of_weekend_nights                  36275 non-null  int64  \n",
      " 3   no_of_week_nights                     36275 non-null  int64  \n",
      " 4   type_of_meal_plan                     36275 non-null  int64  \n",
      " 5   required_car_parking_space            36275 non-null  int64  \n",
      " 6   room_type_reserved                    36275 non-null  int64  \n",
      " 7   lead_time                             36275 non-null  float64\n",
      " 8   arrival_year                          36275 non-null  int64  \n",
      " 9   arrival_month                         36275 non-null  int64  \n",
      " 10  arrival_date                          36275 non-null  int64  \n",
      " 11  repeated_guest                        36275 non-null  int64  \n",
      " 12  no_of_previous_cancellations          36275 non-null  int64  \n",
      " 13  no_of_previous_bookings_not_canceled  36275 non-null  int64  \n",
      " 14  avg_price_per_room                    36275 non-null  float64\n",
      " 15  no_of_special_requests                36275 non-null  int64  \n",
      " 16  booking_status                        36275 non-null  object \n",
      " 17  market_segment_type_Aviation          36275 non-null  uint8  \n",
      " 18  market_segment_type_Complementary     36275 non-null  uint8  \n",
      " 19  market_segment_type_Corporate         36275 non-null  uint8  \n",
      " 20  market_segment_type_Offline           36275 non-null  uint8  \n",
      " 21  market_segment_type_Online            36275 non-null  uint8  \n",
      "dtypes: float64(2), int64(14), object(1), uint8(5)\n",
      "memory usage: 4.9+ MB\n"
     ]
    }
   ],
   "source": [
    "df.info()"
   ]
  },
  {
   "cell_type": "markdown",
   "id": "cd245acb",
   "metadata": {},
   "source": [
    "### 15.  no_of_special_requests"
   ]
  },
  {
   "cell_type": "code",
   "execution_count": 74,
   "id": "03baf137",
   "metadata": {},
   "outputs": [
    {
     "data": {
      "text/plain": [
       "0    19777\n",
       "1    11373\n",
       "2     4364\n",
       "3      675\n",
       "4       78\n",
       "5        8\n",
       "Name: no_of_special_requests, dtype: int64"
      ]
     },
     "execution_count": 74,
     "metadata": {},
     "output_type": "execute_result"
    }
   ],
   "source": [
    "df['no_of_special_requests'].value_counts()"
   ]
  },
  {
   "cell_type": "code",
   "execution_count": 75,
   "id": "eced0515",
   "metadata": {},
   "outputs": [
    {
     "data": {
      "text/plain": [
       "0    19777\n",
       "1    11373\n",
       "2     4364\n",
       "3      761\n",
       "Name: no_of_special_requests, dtype: int64"
      ]
     },
     "execution_count": 75,
     "metadata": {},
     "output_type": "execute_result"
    }
   ],
   "source": [
    "df['no_of_special_requests'] = np.where(df['no_of_special_requests'] >= 3 , 3 , df['no_of_special_requests'])\n",
    "df['no_of_special_requests'].value_counts()"
   ]
  },
  {
   "cell_type": "code",
   "execution_count": 76,
   "id": "ecdf50ce",
   "metadata": {},
   "outputs": [
    {
     "name": "stdout",
     "output_type": "stream",
     "text": [
      "<class 'pandas.core.frame.DataFrame'>\n",
      "RangeIndex: 36275 entries, 0 to 36274\n",
      "Data columns (total 22 columns):\n",
      " #   Column                                Non-Null Count  Dtype  \n",
      "---  ------                                --------------  -----  \n",
      " 0   no_of_adults                          36275 non-null  int64  \n",
      " 1   no_of_children                        36275 non-null  int64  \n",
      " 2   no_of_weekend_nights                  36275 non-null  int64  \n",
      " 3   no_of_week_nights                     36275 non-null  int64  \n",
      " 4   type_of_meal_plan                     36275 non-null  int64  \n",
      " 5   required_car_parking_space            36275 non-null  int64  \n",
      " 6   room_type_reserved                    36275 non-null  int64  \n",
      " 7   lead_time                             36275 non-null  float64\n",
      " 8   arrival_year                          36275 non-null  int64  \n",
      " 9   arrival_month                         36275 non-null  int64  \n",
      " 10  arrival_date                          36275 non-null  int64  \n",
      " 11  repeated_guest                        36275 non-null  int64  \n",
      " 12  no_of_previous_cancellations          36275 non-null  int64  \n",
      " 13  no_of_previous_bookings_not_canceled  36275 non-null  int64  \n",
      " 14  avg_price_per_room                    36275 non-null  float64\n",
      " 15  no_of_special_requests                36275 non-null  int64  \n",
      " 16  booking_status                        36275 non-null  object \n",
      " 17  market_segment_type_Aviation          36275 non-null  uint8  \n",
      " 18  market_segment_type_Complementary     36275 non-null  uint8  \n",
      " 19  market_segment_type_Corporate         36275 non-null  uint8  \n",
      " 20  market_segment_type_Offline           36275 non-null  uint8  \n",
      " 21  market_segment_type_Online            36275 non-null  uint8  \n",
      "dtypes: float64(2), int64(14), object(1), uint8(5)\n",
      "memory usage: 4.9+ MB\n"
     ]
    }
   ],
   "source": [
    "df.info()"
   ]
  },
  {
   "cell_type": "markdown",
   "id": "c9f70f34",
   "metadata": {},
   "source": [
    "### 16.  booking_status"
   ]
  },
  {
   "cell_type": "code",
   "execution_count": 77,
   "id": "2e43bc95",
   "metadata": {},
   "outputs": [
    {
     "data": {
      "text/plain": [
       "{'Not_Canceled': 24390, 'Canceled': 11885}"
      ]
     },
     "execution_count": 77,
     "metadata": {},
     "output_type": "execute_result"
    }
   ],
   "source": [
    "df['booking_status'].value_counts().to_dict()"
   ]
  },
  {
   "cell_type": "code",
   "execution_count": 78,
   "id": "4370ae8b",
   "metadata": {},
   "outputs": [
    {
     "data": {
      "text/plain": [
       "1    24390\n",
       "0    11885\n",
       "Name: booking_status, dtype: int64"
      ]
     },
     "execution_count": 78,
     "metadata": {},
     "output_type": "execute_result"
    }
   ],
   "source": [
    "df['booking_status'] = df['booking_status'].replace({'Not_Canceled': 1, 'Canceled': 0})\n",
    "df['booking_status'].value_counts()"
   ]
  },
  {
   "cell_type": "code",
   "execution_count": 79,
   "id": "947b281d",
   "metadata": {},
   "outputs": [
    {
     "name": "stdout",
     "output_type": "stream",
     "text": [
      "<class 'pandas.core.frame.DataFrame'>\n",
      "RangeIndex: 36275 entries, 0 to 36274\n",
      "Data columns (total 22 columns):\n",
      " #   Column                                Non-Null Count  Dtype  \n",
      "---  ------                                --------------  -----  \n",
      " 0   no_of_adults                          36275 non-null  int64  \n",
      " 1   no_of_children                        36275 non-null  int64  \n",
      " 2   no_of_weekend_nights                  36275 non-null  int64  \n",
      " 3   no_of_week_nights                     36275 non-null  int64  \n",
      " 4   type_of_meal_plan                     36275 non-null  int64  \n",
      " 5   required_car_parking_space            36275 non-null  int64  \n",
      " 6   room_type_reserved                    36275 non-null  int64  \n",
      " 7   lead_time                             36275 non-null  float64\n",
      " 8   arrival_year                          36275 non-null  int64  \n",
      " 9   arrival_month                         36275 non-null  int64  \n",
      " 10  arrival_date                          36275 non-null  int64  \n",
      " 11  repeated_guest                        36275 non-null  int64  \n",
      " 12  no_of_previous_cancellations          36275 non-null  int64  \n",
      " 13  no_of_previous_bookings_not_canceled  36275 non-null  int64  \n",
      " 14  avg_price_per_room                    36275 non-null  float64\n",
      " 15  no_of_special_requests                36275 non-null  int64  \n",
      " 16  booking_status                        36275 non-null  int64  \n",
      " 17  market_segment_type_Aviation          36275 non-null  uint8  \n",
      " 18  market_segment_type_Complementary     36275 non-null  uint8  \n",
      " 19  market_segment_type_Corporate         36275 non-null  uint8  \n",
      " 20  market_segment_type_Offline           36275 non-null  uint8  \n",
      " 21  market_segment_type_Online            36275 non-null  uint8  \n",
      "dtypes: float64(2), int64(15), uint8(5)\n",
      "memory usage: 4.9 MB\n"
     ]
    }
   ],
   "source": [
    "df.info()"
   ]
  },
  {
   "cell_type": "code",
   "execution_count": 80,
   "id": "d45d9e25",
   "metadata": {},
   "outputs": [
    {
     "data": {
      "text/html": [
       "<div>\n",
       "<style scoped>\n",
       "    .dataframe tbody tr th:only-of-type {\n",
       "        vertical-align: middle;\n",
       "    }\n",
       "\n",
       "    .dataframe tbody tr th {\n",
       "        vertical-align: top;\n",
       "    }\n",
       "\n",
       "    .dataframe thead th {\n",
       "        text-align: right;\n",
       "    }\n",
       "</style>\n",
       "<table border=\"1\" class=\"dataframe\">\n",
       "  <thead>\n",
       "    <tr style=\"text-align: right;\">\n",
       "      <th></th>\n",
       "      <th>no_of_adults</th>\n",
       "      <th>no_of_children</th>\n",
       "      <th>no_of_weekend_nights</th>\n",
       "      <th>no_of_week_nights</th>\n",
       "      <th>type_of_meal_plan</th>\n",
       "      <th>required_car_parking_space</th>\n",
       "      <th>room_type_reserved</th>\n",
       "      <th>lead_time</th>\n",
       "      <th>arrival_year</th>\n",
       "      <th>arrival_month</th>\n",
       "      <th>...</th>\n",
       "      <th>no_of_previous_cancellations</th>\n",
       "      <th>no_of_previous_bookings_not_canceled</th>\n",
       "      <th>avg_price_per_room</th>\n",
       "      <th>no_of_special_requests</th>\n",
       "      <th>booking_status</th>\n",
       "      <th>market_segment_type_Aviation</th>\n",
       "      <th>market_segment_type_Complementary</th>\n",
       "      <th>market_segment_type_Corporate</th>\n",
       "      <th>market_segment_type_Offline</th>\n",
       "      <th>market_segment_type_Online</th>\n",
       "    </tr>\n",
       "  </thead>\n",
       "  <tbody>\n",
       "    <tr>\n",
       "      <th>count</th>\n",
       "      <td>36275.000000</td>\n",
       "      <td>36275.000000</td>\n",
       "      <td>36275.000000</td>\n",
       "      <td>36275.000000</td>\n",
       "      <td>36275.000000</td>\n",
       "      <td>36275.000000</td>\n",
       "      <td>36275.000000</td>\n",
       "      <td>36275.000000</td>\n",
       "      <td>36275.000000</td>\n",
       "      <td>36275.000000</td>\n",
       "      <td>...</td>\n",
       "      <td>36275.000000</td>\n",
       "      <td>36275.000000</td>\n",
       "      <td>36275.000000</td>\n",
       "      <td>36275.000000</td>\n",
       "      <td>36275.000000</td>\n",
       "      <td>36275.000000</td>\n",
       "      <td>36275.000000</td>\n",
       "      <td>36275.000000</td>\n",
       "      <td>36275.000000</td>\n",
       "      <td>36275.000000</td>\n",
       "    </tr>\n",
       "    <tr>\n",
       "      <th>mean</th>\n",
       "      <td>1.844521</td>\n",
       "      <td>0.104755</td>\n",
       "      <td>0.808601</td>\n",
       "      <td>2.199862</td>\n",
       "      <td>0.949966</td>\n",
       "      <td>0.030986</td>\n",
       "      <td>1.708890</td>\n",
       "      <td>85.154294</td>\n",
       "      <td>2017.820427</td>\n",
       "      <td>7.423653</td>\n",
       "      <td>...</td>\n",
       "      <td>0.013177</td>\n",
       "      <td>0.078677</td>\n",
       "      <td>102.970177</td>\n",
       "      <td>0.617064</td>\n",
       "      <td>0.672364</td>\n",
       "      <td>0.003446</td>\n",
       "      <td>0.010779</td>\n",
       "      <td>0.055603</td>\n",
       "      <td>0.290227</td>\n",
       "      <td>0.639945</td>\n",
       "    </tr>\n",
       "    <tr>\n",
       "      <th>std</th>\n",
       "      <td>0.517305</td>\n",
       "      <td>0.394661</td>\n",
       "      <td>0.860863</td>\n",
       "      <td>1.379389</td>\n",
       "      <td>0.480191</td>\n",
       "      <td>0.173281</td>\n",
       "      <td>1.399851</td>\n",
       "      <td>85.630467</td>\n",
       "      <td>0.383836</td>\n",
       "      <td>3.069894</td>\n",
       "      <td>...</td>\n",
       "      <td>0.143954</td>\n",
       "      <td>0.606053</td>\n",
       "      <td>31.681213</td>\n",
       "      <td>0.776396</td>\n",
       "      <td>0.469358</td>\n",
       "      <td>0.058601</td>\n",
       "      <td>0.103261</td>\n",
       "      <td>0.229157</td>\n",
       "      <td>0.453873</td>\n",
       "      <td>0.480023</td>\n",
       "    </tr>\n",
       "    <tr>\n",
       "      <th>min</th>\n",
       "      <td>0.000000</td>\n",
       "      <td>0.000000</td>\n",
       "      <td>0.000000</td>\n",
       "      <td>0.000000</td>\n",
       "      <td>0.000000</td>\n",
       "      <td>0.000000</td>\n",
       "      <td>1.000000</td>\n",
       "      <td>0.000000</td>\n",
       "      <td>2017.000000</td>\n",
       "      <td>1.000000</td>\n",
       "      <td>...</td>\n",
       "      <td>0.000000</td>\n",
       "      <td>0.000000</td>\n",
       "      <td>20.750000</td>\n",
       "      <td>0.000000</td>\n",
       "      <td>0.000000</td>\n",
       "      <td>0.000000</td>\n",
       "      <td>0.000000</td>\n",
       "      <td>0.000000</td>\n",
       "      <td>0.000000</td>\n",
       "      <td>0.000000</td>\n",
       "    </tr>\n",
       "    <tr>\n",
       "      <th>25%</th>\n",
       "      <td>2.000000</td>\n",
       "      <td>0.000000</td>\n",
       "      <td>0.000000</td>\n",
       "      <td>1.000000</td>\n",
       "      <td>1.000000</td>\n",
       "      <td>0.000000</td>\n",
       "      <td>1.000000</td>\n",
       "      <td>17.000000</td>\n",
       "      <td>2018.000000</td>\n",
       "      <td>5.000000</td>\n",
       "      <td>...</td>\n",
       "      <td>0.000000</td>\n",
       "      <td>0.000000</td>\n",
       "      <td>80.300000</td>\n",
       "      <td>0.000000</td>\n",
       "      <td>0.000000</td>\n",
       "      <td>0.000000</td>\n",
       "      <td>0.000000</td>\n",
       "      <td>0.000000</td>\n",
       "      <td>0.000000</td>\n",
       "      <td>0.000000</td>\n",
       "    </tr>\n",
       "    <tr>\n",
       "      <th>50%</th>\n",
       "      <td>2.000000</td>\n",
       "      <td>0.000000</td>\n",
       "      <td>1.000000</td>\n",
       "      <td>2.000000</td>\n",
       "      <td>1.000000</td>\n",
       "      <td>0.000000</td>\n",
       "      <td>1.000000</td>\n",
       "      <td>57.000000</td>\n",
       "      <td>2018.000000</td>\n",
       "      <td>8.000000</td>\n",
       "      <td>...</td>\n",
       "      <td>0.000000</td>\n",
       "      <td>0.000000</td>\n",
       "      <td>99.450000</td>\n",
       "      <td>0.000000</td>\n",
       "      <td>1.000000</td>\n",
       "      <td>0.000000</td>\n",
       "      <td>0.000000</td>\n",
       "      <td>0.000000</td>\n",
       "      <td>0.000000</td>\n",
       "      <td>1.000000</td>\n",
       "    </tr>\n",
       "    <tr>\n",
       "      <th>75%</th>\n",
       "      <td>2.000000</td>\n",
       "      <td>0.000000</td>\n",
       "      <td>2.000000</td>\n",
       "      <td>3.000000</td>\n",
       "      <td>1.000000</td>\n",
       "      <td>0.000000</td>\n",
       "      <td>1.000000</td>\n",
       "      <td>126.000000</td>\n",
       "      <td>2018.000000</td>\n",
       "      <td>10.000000</td>\n",
       "      <td>...</td>\n",
       "      <td>0.000000</td>\n",
       "      <td>0.000000</td>\n",
       "      <td>120.000000</td>\n",
       "      <td>1.000000</td>\n",
       "      <td>1.000000</td>\n",
       "      <td>0.000000</td>\n",
       "      <td>0.000000</td>\n",
       "      <td>0.000000</td>\n",
       "      <td>1.000000</td>\n",
       "      <td>1.000000</td>\n",
       "    </tr>\n",
       "    <tr>\n",
       "      <th>max</th>\n",
       "      <td>3.000000</td>\n",
       "      <td>3.000000</td>\n",
       "      <td>4.000000</td>\n",
       "      <td>10.000000</td>\n",
       "      <td>3.000000</td>\n",
       "      <td>1.000000</td>\n",
       "      <td>7.000000</td>\n",
       "      <td>398.500000</td>\n",
       "      <td>2018.000000</td>\n",
       "      <td>12.000000</td>\n",
       "      <td>...</td>\n",
       "      <td>2.000000</td>\n",
       "      <td>6.000000</td>\n",
       "      <td>179.550000</td>\n",
       "      <td>3.000000</td>\n",
       "      <td>1.000000</td>\n",
       "      <td>1.000000</td>\n",
       "      <td>1.000000</td>\n",
       "      <td>1.000000</td>\n",
       "      <td>1.000000</td>\n",
       "      <td>1.000000</td>\n",
       "    </tr>\n",
       "  </tbody>\n",
       "</table>\n",
       "<p>8 rows × 22 columns</p>\n",
       "</div>"
      ],
      "text/plain": [
       "       no_of_adults  no_of_children  no_of_weekend_nights  no_of_week_nights  \\\n",
       "count  36275.000000    36275.000000          36275.000000       36275.000000   \n",
       "mean       1.844521        0.104755              0.808601           2.199862   \n",
       "std        0.517305        0.394661              0.860863           1.379389   \n",
       "min        0.000000        0.000000              0.000000           0.000000   \n",
       "25%        2.000000        0.000000              0.000000           1.000000   \n",
       "50%        2.000000        0.000000              1.000000           2.000000   \n",
       "75%        2.000000        0.000000              2.000000           3.000000   \n",
       "max        3.000000        3.000000              4.000000          10.000000   \n",
       "\n",
       "       type_of_meal_plan  required_car_parking_space  room_type_reserved  \\\n",
       "count       36275.000000                36275.000000        36275.000000   \n",
       "mean            0.949966                    0.030986            1.708890   \n",
       "std             0.480191                    0.173281            1.399851   \n",
       "min             0.000000                    0.000000            1.000000   \n",
       "25%             1.000000                    0.000000            1.000000   \n",
       "50%             1.000000                    0.000000            1.000000   \n",
       "75%             1.000000                    0.000000            1.000000   \n",
       "max             3.000000                    1.000000            7.000000   \n",
       "\n",
       "          lead_time  arrival_year  arrival_month  ...  \\\n",
       "count  36275.000000  36275.000000   36275.000000  ...   \n",
       "mean      85.154294   2017.820427       7.423653  ...   \n",
       "std       85.630467      0.383836       3.069894  ...   \n",
       "min        0.000000   2017.000000       1.000000  ...   \n",
       "25%       17.000000   2018.000000       5.000000  ...   \n",
       "50%       57.000000   2018.000000       8.000000  ...   \n",
       "75%      126.000000   2018.000000      10.000000  ...   \n",
       "max      398.500000   2018.000000      12.000000  ...   \n",
       "\n",
       "       no_of_previous_cancellations  no_of_previous_bookings_not_canceled  \\\n",
       "count                  36275.000000                          36275.000000   \n",
       "mean                       0.013177                              0.078677   \n",
       "std                        0.143954                              0.606053   \n",
       "min                        0.000000                              0.000000   \n",
       "25%                        0.000000                              0.000000   \n",
       "50%                        0.000000                              0.000000   \n",
       "75%                        0.000000                              0.000000   \n",
       "max                        2.000000                              6.000000   \n",
       "\n",
       "       avg_price_per_room  no_of_special_requests  booking_status  \\\n",
       "count        36275.000000            36275.000000    36275.000000   \n",
       "mean           102.970177                0.617064        0.672364   \n",
       "std             31.681213                0.776396        0.469358   \n",
       "min             20.750000                0.000000        0.000000   \n",
       "25%             80.300000                0.000000        0.000000   \n",
       "50%             99.450000                0.000000        1.000000   \n",
       "75%            120.000000                1.000000        1.000000   \n",
       "max            179.550000                3.000000        1.000000   \n",
       "\n",
       "       market_segment_type_Aviation  market_segment_type_Complementary  \\\n",
       "count                  36275.000000                       36275.000000   \n",
       "mean                       0.003446                           0.010779   \n",
       "std                        0.058601                           0.103261   \n",
       "min                        0.000000                           0.000000   \n",
       "25%                        0.000000                           0.000000   \n",
       "50%                        0.000000                           0.000000   \n",
       "75%                        0.000000                           0.000000   \n",
       "max                        1.000000                           1.000000   \n",
       "\n",
       "       market_segment_type_Corporate  market_segment_type_Offline  \\\n",
       "count                   36275.000000                 36275.000000   \n",
       "mean                        0.055603                     0.290227   \n",
       "std                         0.229157                     0.453873   \n",
       "min                         0.000000                     0.000000   \n",
       "25%                         0.000000                     0.000000   \n",
       "50%                         0.000000                     0.000000   \n",
       "75%                         0.000000                     1.000000   \n",
       "max                         1.000000                     1.000000   \n",
       "\n",
       "       market_segment_type_Online  \n",
       "count                36275.000000  \n",
       "mean                     0.639945  \n",
       "std                      0.480023  \n",
       "min                      0.000000  \n",
       "25%                      0.000000  \n",
       "50%                      1.000000  \n",
       "75%                      1.000000  \n",
       "max                      1.000000  \n",
       "\n",
       "[8 rows x 22 columns]"
      ]
     },
     "execution_count": 80,
     "metadata": {},
     "output_type": "execute_result"
    }
   ],
   "source": [
    "df.describe()"
   ]
  },
  {
   "cell_type": "code",
   "execution_count": null,
   "id": "a12dee97",
   "metadata": {},
   "outputs": [],
   "source": []
  },
  {
   "cell_type": "code",
   "execution_count": null,
   "id": "2dfe62fc",
   "metadata": {},
   "outputs": [],
   "source": []
  },
  {
   "cell_type": "markdown",
   "id": "b8d8ce0a",
   "metadata": {},
   "source": [
    "### Feature Engineering"
   ]
  },
  {
   "cell_type": "code",
   "execution_count": 83,
   "id": "8057f68f",
   "metadata": {},
   "outputs": [],
   "source": [
    "scaler = StandardScaler()\n",
    "array = scaler.fit_transform(x)\n",
    "x_scaled = pd.DataFrame(array,columns=x.columns)"
   ]
  },
  {
   "cell_type": "code",
   "execution_count": 84,
   "id": "3626b5b7",
   "metadata": {},
   "outputs": [
    {
     "data": {
      "text/html": [
       "<div>\n",
       "<style scoped>\n",
       "    .dataframe tbody tr th:only-of-type {\n",
       "        vertical-align: middle;\n",
       "    }\n",
       "\n",
       "    .dataframe tbody tr th {\n",
       "        vertical-align: top;\n",
       "    }\n",
       "\n",
       "    .dataframe thead th {\n",
       "        text-align: right;\n",
       "    }\n",
       "</style>\n",
       "<table border=\"1\" class=\"dataframe\">\n",
       "  <thead>\n",
       "    <tr style=\"text-align: right;\">\n",
       "      <th></th>\n",
       "      <th>no_of_adults</th>\n",
       "      <th>no_of_children</th>\n",
       "      <th>no_of_weekend_nights</th>\n",
       "      <th>no_of_week_nights</th>\n",
       "      <th>type_of_meal_plan</th>\n",
       "      <th>required_car_parking_space</th>\n",
       "      <th>room_type_reserved</th>\n",
       "      <th>lead_time</th>\n",
       "      <th>arrival_year</th>\n",
       "      <th>arrival_month</th>\n",
       "      <th>...</th>\n",
       "      <th>repeated_guest</th>\n",
       "      <th>no_of_previous_cancellations</th>\n",
       "      <th>no_of_previous_bookings_not_canceled</th>\n",
       "      <th>avg_price_per_room</th>\n",
       "      <th>no_of_special_requests</th>\n",
       "      <th>market_segment_type_Aviation</th>\n",
       "      <th>market_segment_type_Complementary</th>\n",
       "      <th>market_segment_type_Corporate</th>\n",
       "      <th>market_segment_type_Offline</th>\n",
       "      <th>market_segment_type_Online</th>\n",
       "    </tr>\n",
       "  </thead>\n",
       "  <tbody>\n",
       "    <tr>\n",
       "      <th>0</th>\n",
       "      <td>0.300560</td>\n",
       "      <td>-0.265435</td>\n",
       "      <td>0.222337</td>\n",
       "      <td>-0.144894</td>\n",
       "      <td>0.104198</td>\n",
       "      <td>-0.178819</td>\n",
       "      <td>-0.506411</td>\n",
       "      <td>1.621475</td>\n",
       "      <td>-2.137469</td>\n",
       "      <td>0.839242</td>\n",
       "      <td>...</td>\n",
       "      <td>-0.16221</td>\n",
       "      <td>-0.091538</td>\n",
       "      <td>-0.12982</td>\n",
       "      <td>-1.198524</td>\n",
       "      <td>-0.794791</td>\n",
       "      <td>-0.058803</td>\n",
       "      <td>-0.104385</td>\n",
       "      <td>-0.242645</td>\n",
       "      <td>1.563833</td>\n",
       "      <td>-1.333174</td>\n",
       "    </tr>\n",
       "    <tr>\n",
       "      <th>1</th>\n",
       "      <td>0.300560</td>\n",
       "      <td>-0.265435</td>\n",
       "      <td>1.383978</td>\n",
       "      <td>0.580075</td>\n",
       "      <td>-1.978334</td>\n",
       "      <td>-0.178819</td>\n",
       "      <td>-0.506411</td>\n",
       "      <td>-0.936062</td>\n",
       "      <td>0.467843</td>\n",
       "      <td>1.164990</td>\n",
       "      <td>...</td>\n",
       "      <td>-0.16221</td>\n",
       "      <td>-0.091538</td>\n",
       "      <td>-0.12982</td>\n",
       "      <td>0.117100</td>\n",
       "      <td>0.493229</td>\n",
       "      <td>-0.058803</td>\n",
       "      <td>-0.104385</td>\n",
       "      <td>-0.242645</td>\n",
       "      <td>-0.639454</td>\n",
       "      <td>0.750090</td>\n",
       "    </tr>\n",
       "    <tr>\n",
       "      <th>2</th>\n",
       "      <td>-1.632561</td>\n",
       "      <td>-0.265435</td>\n",
       "      <td>1.383978</td>\n",
       "      <td>-0.869863</td>\n",
       "      <td>0.104198</td>\n",
       "      <td>-0.178819</td>\n",
       "      <td>-0.506411</td>\n",
       "      <td>-0.982775</td>\n",
       "      <td>0.467843</td>\n",
       "      <td>-1.766747</td>\n",
       "      <td>...</td>\n",
       "      <td>-0.16221</td>\n",
       "      <td>-0.091538</td>\n",
       "      <td>-0.12982</td>\n",
       "      <td>-1.356349</td>\n",
       "      <td>-0.794791</td>\n",
       "      <td>-0.058803</td>\n",
       "      <td>-0.104385</td>\n",
       "      <td>-0.242645</td>\n",
       "      <td>-0.639454</td>\n",
       "      <td>0.750090</td>\n",
       "    </tr>\n",
       "    <tr>\n",
       "      <th>3</th>\n",
       "      <td>0.300560</td>\n",
       "      <td>-0.265435</td>\n",
       "      <td>-0.939304</td>\n",
       "      <td>-0.144894</td>\n",
       "      <td>0.104198</td>\n",
       "      <td>-0.178819</td>\n",
       "      <td>-0.506411</td>\n",
       "      <td>1.469657</td>\n",
       "      <td>0.467843</td>\n",
       "      <td>-0.789501</td>\n",
       "      <td>...</td>\n",
       "      <td>-0.16221</td>\n",
       "      <td>-0.091538</td>\n",
       "      <td>-0.12982</td>\n",
       "      <td>-0.093753</td>\n",
       "      <td>-0.794791</td>\n",
       "      <td>-0.058803</td>\n",
       "      <td>-0.104385</td>\n",
       "      <td>-0.242645</td>\n",
       "      <td>-0.639454</td>\n",
       "      <td>0.750090</td>\n",
       "    </tr>\n",
       "    <tr>\n",
       "      <th>4</th>\n",
       "      <td>0.300560</td>\n",
       "      <td>-0.265435</td>\n",
       "      <td>0.222337</td>\n",
       "      <td>-0.869863</td>\n",
       "      <td>-1.978334</td>\n",
       "      <td>-0.178819</td>\n",
       "      <td>-0.506411</td>\n",
       "      <td>-0.433897</td>\n",
       "      <td>0.467843</td>\n",
       "      <td>-1.115250</td>\n",
       "      <td>...</td>\n",
       "      <td>-0.16221</td>\n",
       "      <td>-0.091538</td>\n",
       "      <td>-0.12982</td>\n",
       "      <td>-0.267360</td>\n",
       "      <td>-0.794791</td>\n",
       "      <td>-0.058803</td>\n",
       "      <td>-0.104385</td>\n",
       "      <td>-0.242645</td>\n",
       "      <td>-0.639454</td>\n",
       "      <td>0.750090</td>\n",
       "    </tr>\n",
       "    <tr>\n",
       "      <th>...</th>\n",
       "      <td>...</td>\n",
       "      <td>...</td>\n",
       "      <td>...</td>\n",
       "      <td>...</td>\n",
       "      <td>...</td>\n",
       "      <td>...</td>\n",
       "      <td>...</td>\n",
       "      <td>...</td>\n",
       "      <td>...</td>\n",
       "      <td>...</td>\n",
       "      <td>...</td>\n",
       "      <td>...</td>\n",
       "      <td>...</td>\n",
       "      <td>...</td>\n",
       "      <td>...</td>\n",
       "      <td>...</td>\n",
       "      <td>...</td>\n",
       "      <td>...</td>\n",
       "      <td>...</td>\n",
       "      <td>...</td>\n",
       "      <td>...</td>\n",
       "    </tr>\n",
       "    <tr>\n",
       "      <th>36270</th>\n",
       "      <td>2.233680</td>\n",
       "      <td>-0.265435</td>\n",
       "      <td>1.383978</td>\n",
       "      <td>2.754982</td>\n",
       "      <td>0.104198</td>\n",
       "      <td>-0.178819</td>\n",
       "      <td>1.636704</td>\n",
       "      <td>-0.001802</td>\n",
       "      <td>0.467843</td>\n",
       "      <td>0.187744</td>\n",
       "      <td>...</td>\n",
       "      <td>-0.16221</td>\n",
       "      <td>-0.091538</td>\n",
       "      <td>-0.12982</td>\n",
       "      <td>2.046346</td>\n",
       "      <td>0.493229</td>\n",
       "      <td>-0.058803</td>\n",
       "      <td>-0.104385</td>\n",
       "      <td>-0.242645</td>\n",
       "      <td>-0.639454</td>\n",
       "      <td>0.750090</td>\n",
       "    </tr>\n",
       "    <tr>\n",
       "      <th>36271</th>\n",
       "      <td>0.300560</td>\n",
       "      <td>-0.265435</td>\n",
       "      <td>0.222337</td>\n",
       "      <td>0.580075</td>\n",
       "      <td>0.104198</td>\n",
       "      <td>-0.178819</td>\n",
       "      <td>-0.506411</td>\n",
       "      <td>1.668188</td>\n",
       "      <td>0.467843</td>\n",
       "      <td>0.839242</td>\n",
       "      <td>...</td>\n",
       "      <td>-0.16221</td>\n",
       "      <td>-0.091538</td>\n",
       "      <td>-0.12982</td>\n",
       "      <td>-0.379415</td>\n",
       "      <td>1.781249</td>\n",
       "      <td>-0.058803</td>\n",
       "      <td>-0.104385</td>\n",
       "      <td>-0.242645</td>\n",
       "      <td>-0.639454</td>\n",
       "      <td>0.750090</td>\n",
       "    </tr>\n",
       "    <tr>\n",
       "      <th>36272</th>\n",
       "      <td>0.300560</td>\n",
       "      <td>-0.265435</td>\n",
       "      <td>1.383978</td>\n",
       "      <td>2.754982</td>\n",
       "      <td>0.104198</td>\n",
       "      <td>-0.178819</td>\n",
       "      <td>-0.506411</td>\n",
       "      <td>0.733928</td>\n",
       "      <td>0.467843</td>\n",
       "      <td>-0.138004</td>\n",
       "      <td>...</td>\n",
       "      <td>-0.16221</td>\n",
       "      <td>-0.091538</td>\n",
       "      <td>-0.12982</td>\n",
       "      <td>-0.144573</td>\n",
       "      <td>1.781249</td>\n",
       "      <td>-0.058803</td>\n",
       "      <td>-0.104385</td>\n",
       "      <td>-0.242645</td>\n",
       "      <td>-0.639454</td>\n",
       "      <td>0.750090</td>\n",
       "    </tr>\n",
       "    <tr>\n",
       "      <th>36273</th>\n",
       "      <td>0.300560</td>\n",
       "      <td>-0.265435</td>\n",
       "      <td>-0.939304</td>\n",
       "      <td>0.580075</td>\n",
       "      <td>-1.978334</td>\n",
       "      <td>-0.178819</td>\n",
       "      <td>-0.506411</td>\n",
       "      <td>-0.258723</td>\n",
       "      <td>0.467843</td>\n",
       "      <td>-1.115250</td>\n",
       "      <td>...</td>\n",
       "      <td>-0.16221</td>\n",
       "      <td>-0.091538</td>\n",
       "      <td>-0.12982</td>\n",
       "      <td>-0.267360</td>\n",
       "      <td>-0.794791</td>\n",
       "      <td>-0.058803</td>\n",
       "      <td>-0.104385</td>\n",
       "      <td>-0.242645</td>\n",
       "      <td>-0.639454</td>\n",
       "      <td>0.750090</td>\n",
       "    </tr>\n",
       "    <tr>\n",
       "      <th>36274</th>\n",
       "      <td>0.300560</td>\n",
       "      <td>-0.265435</td>\n",
       "      <td>0.222337</td>\n",
       "      <td>-0.144894</td>\n",
       "      <td>0.104198</td>\n",
       "      <td>-0.178819</td>\n",
       "      <td>-0.506411</td>\n",
       "      <td>1.422944</td>\n",
       "      <td>0.467843</td>\n",
       "      <td>1.490739</td>\n",
       "      <td>...</td>\n",
       "      <td>-0.16221</td>\n",
       "      <td>-0.091538</td>\n",
       "      <td>-0.12982</td>\n",
       "      <td>1.852853</td>\n",
       "      <td>-0.794791</td>\n",
       "      <td>-0.058803</td>\n",
       "      <td>-0.104385</td>\n",
       "      <td>-0.242645</td>\n",
       "      <td>1.563833</td>\n",
       "      <td>-1.333174</td>\n",
       "    </tr>\n",
       "  </tbody>\n",
       "</table>\n",
       "<p>36275 rows × 21 columns</p>\n",
       "</div>"
      ],
      "text/plain": [
       "       no_of_adults  no_of_children  no_of_weekend_nights  no_of_week_nights  \\\n",
       "0          0.300560       -0.265435              0.222337          -0.144894   \n",
       "1          0.300560       -0.265435              1.383978           0.580075   \n",
       "2         -1.632561       -0.265435              1.383978          -0.869863   \n",
       "3          0.300560       -0.265435             -0.939304          -0.144894   \n",
       "4          0.300560       -0.265435              0.222337          -0.869863   \n",
       "...             ...             ...                   ...                ...   \n",
       "36270      2.233680       -0.265435              1.383978           2.754982   \n",
       "36271      0.300560       -0.265435              0.222337           0.580075   \n",
       "36272      0.300560       -0.265435              1.383978           2.754982   \n",
       "36273      0.300560       -0.265435             -0.939304           0.580075   \n",
       "36274      0.300560       -0.265435              0.222337          -0.144894   \n",
       "\n",
       "       type_of_meal_plan  required_car_parking_space  room_type_reserved  \\\n",
       "0               0.104198                   -0.178819           -0.506411   \n",
       "1              -1.978334                   -0.178819           -0.506411   \n",
       "2               0.104198                   -0.178819           -0.506411   \n",
       "3               0.104198                   -0.178819           -0.506411   \n",
       "4              -1.978334                   -0.178819           -0.506411   \n",
       "...                  ...                         ...                 ...   \n",
       "36270           0.104198                   -0.178819            1.636704   \n",
       "36271           0.104198                   -0.178819           -0.506411   \n",
       "36272           0.104198                   -0.178819           -0.506411   \n",
       "36273          -1.978334                   -0.178819           -0.506411   \n",
       "36274           0.104198                   -0.178819           -0.506411   \n",
       "\n",
       "       lead_time  arrival_year  arrival_month  ...  repeated_guest  \\\n",
       "0       1.621475     -2.137469       0.839242  ...        -0.16221   \n",
       "1      -0.936062      0.467843       1.164990  ...        -0.16221   \n",
       "2      -0.982775      0.467843      -1.766747  ...        -0.16221   \n",
       "3       1.469657      0.467843      -0.789501  ...        -0.16221   \n",
       "4      -0.433897      0.467843      -1.115250  ...        -0.16221   \n",
       "...          ...           ...            ...  ...             ...   \n",
       "36270  -0.001802      0.467843       0.187744  ...        -0.16221   \n",
       "36271   1.668188      0.467843       0.839242  ...        -0.16221   \n",
       "36272   0.733928      0.467843      -0.138004  ...        -0.16221   \n",
       "36273  -0.258723      0.467843      -1.115250  ...        -0.16221   \n",
       "36274   1.422944      0.467843       1.490739  ...        -0.16221   \n",
       "\n",
       "       no_of_previous_cancellations  no_of_previous_bookings_not_canceled  \\\n",
       "0                         -0.091538                              -0.12982   \n",
       "1                         -0.091538                              -0.12982   \n",
       "2                         -0.091538                              -0.12982   \n",
       "3                         -0.091538                              -0.12982   \n",
       "4                         -0.091538                              -0.12982   \n",
       "...                             ...                                   ...   \n",
       "36270                     -0.091538                              -0.12982   \n",
       "36271                     -0.091538                              -0.12982   \n",
       "36272                     -0.091538                              -0.12982   \n",
       "36273                     -0.091538                              -0.12982   \n",
       "36274                     -0.091538                              -0.12982   \n",
       "\n",
       "       avg_price_per_room  no_of_special_requests  \\\n",
       "0               -1.198524               -0.794791   \n",
       "1                0.117100                0.493229   \n",
       "2               -1.356349               -0.794791   \n",
       "3               -0.093753               -0.794791   \n",
       "4               -0.267360               -0.794791   \n",
       "...                   ...                     ...   \n",
       "36270            2.046346                0.493229   \n",
       "36271           -0.379415                1.781249   \n",
       "36272           -0.144573                1.781249   \n",
       "36273           -0.267360               -0.794791   \n",
       "36274            1.852853               -0.794791   \n",
       "\n",
       "       market_segment_type_Aviation  market_segment_type_Complementary  \\\n",
       "0                         -0.058803                          -0.104385   \n",
       "1                         -0.058803                          -0.104385   \n",
       "2                         -0.058803                          -0.104385   \n",
       "3                         -0.058803                          -0.104385   \n",
       "4                         -0.058803                          -0.104385   \n",
       "...                             ...                                ...   \n",
       "36270                     -0.058803                          -0.104385   \n",
       "36271                     -0.058803                          -0.104385   \n",
       "36272                     -0.058803                          -0.104385   \n",
       "36273                     -0.058803                          -0.104385   \n",
       "36274                     -0.058803                          -0.104385   \n",
       "\n",
       "       market_segment_type_Corporate  market_segment_type_Offline  \\\n",
       "0                          -0.242645                     1.563833   \n",
       "1                          -0.242645                    -0.639454   \n",
       "2                          -0.242645                    -0.639454   \n",
       "3                          -0.242645                    -0.639454   \n",
       "4                          -0.242645                    -0.639454   \n",
       "...                              ...                          ...   \n",
       "36270                      -0.242645                    -0.639454   \n",
       "36271                      -0.242645                    -0.639454   \n",
       "36272                      -0.242645                    -0.639454   \n",
       "36273                      -0.242645                    -0.639454   \n",
       "36274                      -0.242645                     1.563833   \n",
       "\n",
       "       market_segment_type_Online  \n",
       "0                       -1.333174  \n",
       "1                        0.750090  \n",
       "2                        0.750090  \n",
       "3                        0.750090  \n",
       "4                        0.750090  \n",
       "...                           ...  \n",
       "36270                    0.750090  \n",
       "36271                    0.750090  \n",
       "36272                    0.750090  \n",
       "36273                    0.750090  \n",
       "36274                   -1.333174  \n",
       "\n",
       "[36275 rows x 21 columns]"
      ]
     },
     "execution_count": 84,
     "metadata": {},
     "output_type": "execute_result"
    }
   ],
   "source": [
    "x_scaled"
   ]
  },
  {
   "cell_type": "code",
   "execution_count": null,
   "id": "ecb815c9",
   "metadata": {},
   "outputs": [],
   "source": []
  },
  {
   "cell_type": "code",
   "execution_count": null,
   "id": "833d4b86",
   "metadata": {},
   "outputs": [],
   "source": []
  },
  {
   "cell_type": "code",
   "execution_count": null,
   "id": "96b0bbca",
   "metadata": {},
   "outputs": [],
   "source": []
  },
  {
   "cell_type": "code",
   "execution_count": null,
   "id": "dba93f36",
   "metadata": {},
   "outputs": [],
   "source": []
  },
  {
   "cell_type": "code",
   "execution_count": null,
   "id": "64cc1eda",
   "metadata": {},
   "outputs": [],
   "source": []
  },
  {
   "cell_type": "markdown",
   "id": "0d638128",
   "metadata": {},
   "source": [
    "### Feature Selection"
   ]
  },
  {
   "cell_type": "code",
   "execution_count": null,
   "id": "19f1e532",
   "metadata": {},
   "outputs": [],
   "source": []
  },
  {
   "cell_type": "code",
   "execution_count": null,
   "id": "5040aa99",
   "metadata": {},
   "outputs": [],
   "source": []
  },
  {
   "cell_type": "markdown",
   "id": "539129b6",
   "metadata": {},
   "source": [
    "### Model training"
   ]
  },
  {
   "cell_type": "code",
   "execution_count": 82,
   "id": "0bf838c2",
   "metadata": {},
   "outputs": [],
   "source": [
    "x = df.drop('booking_status',axis=1)\n",
    "y = df['booking_status']"
   ]
  },
  {
   "cell_type": "code",
   "execution_count": 85,
   "id": "fbec9058",
   "metadata": {},
   "outputs": [],
   "source": [
    "x_train,x_test,y_train,y_test = train_test_split(x_scaled,y,test_size=0.2,random_state=7,stratify=y)"
   ]
  },
  {
   "cell_type": "code",
   "execution_count": 86,
   "id": "3c49964b",
   "metadata": {},
   "outputs": [
    {
     "data": {
      "text/plain": [
       "(29020, 21)"
      ]
     },
     "execution_count": 86,
     "metadata": {},
     "output_type": "execute_result"
    }
   ],
   "source": [
    "x_train.shape"
   ]
  },
  {
   "cell_type": "code",
   "execution_count": 87,
   "id": "4b80cb3f",
   "metadata": {
    "scrolled": false
   },
   "outputs": [
    {
     "data": {
      "text/plain": [
       "(7255, 21)"
      ]
     },
     "execution_count": 87,
     "metadata": {},
     "output_type": "execute_result"
    }
   ],
   "source": [
    "x_test.shape"
   ]
  },
  {
   "cell_type": "markdown",
   "id": "4d789867",
   "metadata": {},
   "source": [
    "### 1.Logistic Regression"
   ]
  },
  {
   "cell_type": "code",
   "execution_count": 88,
   "id": "68346f9f",
   "metadata": {
    "scrolled": true
   },
   "outputs": [
    {
     "data": {
      "text/plain": [
       "LogisticRegression()"
      ]
     },
     "execution_count": 88,
     "metadata": {},
     "output_type": "execute_result"
    }
   ],
   "source": [
    "log_clf = LogisticRegression()\n",
    "log_clf.fit(x_train,y_train)"
   ]
  },
  {
   "cell_type": "code",
   "execution_count": 89,
   "id": "1e1a3cc9",
   "metadata": {},
   "outputs": [
    {
     "name": "stdout",
     "output_type": "stream",
     "text": [
      "Training Accuracy:  0.8030323914541695\n",
      "Testing Accuracy:  0.8115782219159201\n"
     ]
    }
   ],
   "source": [
    "print(\"Training Accuracy: \",log_clf.score(x_train,y_train))\n",
    "print(\"Testing Accuracy: \",log_clf.score(x_test,y_test))"
   ]
  },
  {
   "cell_type": "code",
   "execution_count": 90,
   "id": "a421ba2a",
   "metadata": {},
   "outputs": [],
   "source": [
    "#x_test"
   ]
  },
  {
   "cell_type": "markdown",
   "id": "ad0ca97c",
   "metadata": {},
   "source": [
    "##### Hyperparameter tuning"
   ]
  },
  {
   "cell_type": "code",
   "execution_count": 91,
   "id": "c52bd843",
   "metadata": {},
   "outputs": [
    {
     "data": {
      "text/plain": [
       "LogisticRegression()"
      ]
     },
     "execution_count": 91,
     "metadata": {},
     "output_type": "execute_result"
    }
   ],
   "source": [
    "LogisticRegression()"
   ]
  },
  {
   "cell_type": "code",
   "execution_count": 93,
   "id": "63181536",
   "metadata": {},
   "outputs": [],
   "source": [
    "hyper = {'penalty' : ['l2','l1'],\n",
    "        'C': np.arange(0,10,0.1),\n",
    "        'solver': ['lbfgs','newton-cg','liblinear', 'sag', 'saga'],\n",
    "        }"
   ]
  },
  {
   "cell_type": "code",
   "execution_count": null,
   "id": "3a90cea9",
   "metadata": {},
   "outputs": [],
   "source": [
    "gscv_log_clf = GridSearchCV(log_clf,hyper,cv=5,n_jobs=-1)\n",
    "gscv_log_clf.fit(x_train,y_train)"
   ]
  },
  {
   "cell_type": "code",
   "execution_count": null,
   "id": "b98479c2",
   "metadata": {},
   "outputs": [],
   "source": [
    "gscv_log_clf.best_estimator_"
   ]
  },
  {
   "cell_type": "code",
   "execution_count": null,
   "id": "d5d33f67",
   "metadata": {},
   "outputs": [],
   "source": []
  },
  {
   "cell_type": "code",
   "execution_count": null,
   "id": "efdb8810",
   "metadata": {},
   "outputs": [],
   "source": []
  },
  {
   "cell_type": "code",
   "execution_count": null,
   "id": "bd94f3a4",
   "metadata": {},
   "outputs": [],
   "source": []
  },
  {
   "cell_type": "code",
   "execution_count": null,
   "id": "ca4b3353",
   "metadata": {},
   "outputs": [],
   "source": []
  },
  {
   "cell_type": "code",
   "execution_count": null,
   "id": "cfcd272f",
   "metadata": {},
   "outputs": [],
   "source": []
  },
  {
   "cell_type": "markdown",
   "id": "efb93677",
   "metadata": {},
   "source": [
    "### 2.KNeighborsClassifier"
   ]
  },
  {
   "cell_type": "code",
   "execution_count": 95,
   "id": "cd4c06d7",
   "metadata": {
    "scrolled": true
   },
   "outputs": [
    {
     "name": "stdout",
     "output_type": "stream",
     "text": [
      "Training Accuracy:  0.893762922122674\n",
      "Testing Accuracy:  0.8521019986216403\n"
     ]
    }
   ],
   "source": [
    "knn_clf = KNeighborsClassifier()\n",
    "knn_clf.fit(x_train,y_train)\n",
    "\n",
    "print(\"Training Accuracy: \",knn_clf.score(x_train,y_train))\n",
    "print(\"Testing Accuracy: \",knn_clf.score(x_test,y_test))"
   ]
  },
  {
   "cell_type": "markdown",
   "id": "b20d9141",
   "metadata": {},
   "source": [
    "### Hyperparameter tuning"
   ]
  },
  {
   "cell_type": "markdown",
   "id": "3598c7de",
   "metadata": {},
   "source": [
    "###### 1.diff k with Euclidean distance(p=2)"
   ]
  },
  {
   "cell_type": "code",
   "execution_count": 96,
   "id": "fcda901f",
   "metadata": {
    "scrolled": false
   },
   "outputs": [
    {
     "data": {
      "text/plain": [
       "Text(0, 0.5, 'Accuracy')"
      ]
     },
     "execution_count": 96,
     "metadata": {},
     "output_type": "execute_result"
    },
    {
     "data": {
      "image/png": "[encoded data removed]",
      "text/plain": [
       "<Figure size 640x480 with 1 Axes>"
      ]
     },
     "metadata": {},
     "output_type": "display_data"
    }
   ],
   "source": [
    "train_accuracy_list = []\n",
    "test_accuracy_list = []\n",
    "k_values = np.arange(1,30)\n",
    "\n",
    "for k in k_values :\n",
    "    model = KNeighborsClassifier(n_neighbors = k , p =2)\n",
    "    model.fit(x_train,y_train)\n",
    "    \n",
    "    train_accuracy = model.score(x_train,y_train)\n",
    "    train_accuracy_list.append(train_accuracy)\n",
    "    \n",
    "    test_accuracy = model.score(x_test,y_test)\n",
    "    test_accuracy_list.append(test_accuracy)\n",
    "    \n",
    "plt.plot(k_values,train_accuracy_list)\n",
    "plt.plot(k_values,test_accuracy_list)\n",
    "plt.xlabel('k values')\n",
    "plt.ylabel('Accuracy')"
   ]
  },
  {
   "cell_type": "markdown",
   "id": "cbb6e870",
   "metadata": {},
   "source": [
    "###### 2.diff k with Manhatten distance(p=1)"
   ]
  },
  {
   "cell_type": "code",
   "execution_count": 97,
   "id": "0e06e07d",
   "metadata": {},
   "outputs": [
    {
     "data": {
      "text/plain": [
       "Text(0, 0.5, 'Accuracy')"
      ]
     },
     "execution_count": 97,
     "metadata": {},
     "output_type": "execute_result"
    },
    {
     "data": {
      "image/png": "[encoded data removed]",
      "text/plain": [
       "<Figure size 640x480 with 1 Axes>"
      ]
     },
     "metadata": {},
     "output_type": "display_data"
    }
   ],
   "source": [
    "train_accuracy_list = []\n",
    "test_accuracy_list = []\n",
    "k_values = np.arange(1,30)\n",
    "\n",
    "for k in k_values :\n",
    "    model = KNeighborsClassifier(n_neighbors = k , p =1)\n",
    "    model.fit(x_train,y_train)\n",
    "    \n",
    "    train_accuracy = model.score(x_train,y_train)\n",
    "    train_accuracy_list.append(train_accuracy)\n",
    "    \n",
    "    test_accuracy = model.score(x_test,y_test)\n",
    "    test_accuracy_list.append(test_accuracy)\n",
    "    \n",
    "plt.plot(k_values,train_accuracy_list)\n",
    "plt.plot(k_values,test_accuracy_list)\n",
    "plt.xlabel('k values')\n",
    "plt.ylabel('Accuracy')"
   ]
  },
  {
   "cell_type": "code",
   "execution_count": 98,
   "id": "308ef5df",
   "metadata": {
    "scrolled": false
   },
   "outputs": [
    {
     "data": {
      "text/plain": [
       "[0.8519641626464507,\n",
       " 0.8190213645761544,\n",
       " 0.8560992419021365,\n",
       " 0.8457615437629221,\n",
       " 0.8598208132322536,\n",
       " 0.8543073742246726,\n",
       " 0.8609235010337698,\n",
       " 0.8558235699517575,\n",
       " 0.8592694693314955,\n",
       " 0.8605099931082012,\n",
       " 0.8595451412818745,\n",
       " 0.8610613370089594,\n",
       " 0.8583046175051688,\n",
       " 0.8594073053066851,\n",
       " 0.859131633356306,\n",
       " 0.8569262577532736,\n",
       " 0.8569262577532736,\n",
       " 0.8552722260509993,\n",
       " 0.8552722260509993,\n",
       " 0.8559614059269469,\n",
       " 0.8555478980013783,\n",
       " 0.8552722260509993,\n",
       " 0.8544452101998622,\n",
       " 0.8521019986216403,\n",
       " 0.850723638869745,\n",
       " 0.8500344589937974,\n",
       " 0.8512749827705031,\n",
       " 0.8508614748449346,\n",
       " 0.8486560992419021]"
      ]
     },
     "execution_count": 98,
     "metadata": {},
     "output_type": "execute_result"
    }
   ],
   "source": [
    "test_accuracy_list"
   ]
  },
  {
   "cell_type": "code",
   "execution_count": 99,
   "id": "261dc328",
   "metadata": {
    "scrolled": true
   },
   "outputs": [
    {
     "name": "stdout",
     "output_type": "stream",
     "text": [
      "Training Accuracy:  0.8846657477601654\n",
      "Testing Accuracy:  0.8609235010337698\n"
     ]
    }
   ],
   "source": [
    "knn_clf = KNeighborsClassifier(n_neighbors=7,p=1)\n",
    "knn_clf.fit(x_train,y_train)\n",
    "\n",
    "print(\"Training Accuracy: \",knn_clf.score(x_train,y_train))\n",
    "print(\"Testing Accuracy: \",knn_clf.score(x_test,y_test))"
   ]
  },
  {
   "cell_type": "markdown",
   "id": "0422307a",
   "metadata": {},
   "source": [
    "### 3.Decision Tree"
   ]
  },
  {
   "cell_type": "code",
   "execution_count": 100,
   "id": "a209279c",
   "metadata": {},
   "outputs": [
    {
     "name": "stdout",
     "output_type": "stream",
     "text": [
      "Training Accuracy:  0.9941075120606478\n",
      "Testing Accuracy:  0.867263955892488\n"
     ]
    }
   ],
   "source": [
    "dt_clf = DecisionTreeClassifier()\n",
    "dt_clf.fit(x_train,y_train)\n",
    "\n",
    "print(\"Training Accuracy: \",dt_clf.score(x_train,y_train))\n",
    "print(\"Testing Accuracy: \",dt_clf.score(x_test,y_test))"
   ]
  },
  {
   "cell_type": "markdown",
   "id": "7dc645bd",
   "metadata": {},
   "source": [
    "### Hyperparameter tuning"
   ]
  },
  {
   "cell_type": "code",
   "execution_count": 101,
   "id": "22747c1e",
   "metadata": {},
   "outputs": [
    {
     "data": {
      "text/plain": [
       "DecisionTreeClassifier(random_state=7)"
      ]
     },
     "execution_count": 101,
     "metadata": {},
     "output_type": "execute_result"
    }
   ],
   "source": [
    "dt_clf = DecisionTreeClassifier(random_state=7,max_features=None)\n",
    "dt_clf.fit(x_train,y_train)"
   ]
  },
  {
   "cell_type": "code",
   "execution_count": 102,
   "id": "54f0dbca",
   "metadata": {},
   "outputs": [],
   "source": [
    "hyper = {'criterion':['gini','entropy'],\n",
    "        'max_depth' : np.arange(3,10),\n",
    "        'min_samples_split':np.arange(2,30),\n",
    "        'min_samples_leaf' : np.arange(3,30),}"
   ]
  },
  {
   "cell_type": "code",
   "execution_count": 103,
   "id": "0b3728ab",
   "metadata": {},
   "outputs": [],
   "source": [
    "from sklearn.model_selection import RandomizedSearchCV"
   ]
  },
  {
   "cell_type": "code",
   "execution_count": 104,
   "id": "ec94be48",
   "metadata": {},
   "outputs": [
    {
     "data": {
      "text/plain": [
       "RandomizedSearchCV(cv=5, estimator=DecisionTreeClassifier(random_state=7),\n",
       "                   n_jobs=-1,\n",
       "                   param_distributions={'criterion': ['gini', 'entropy'],\n",
       "                                        'max_depth': array([3, 4, 5, 6, 7, 8, 9]),\n",
       "                                        'min_samples_leaf': array([ 3,  4,  5,  6,  7,  8,  9, 10, 11, 12, 13, 14, 15, 16, 17, 18, 19,\n",
       "       20, 21, 22, 23, 24, 25, 26, 27, 28, 29]),\n",
       "                                        'min_samples_split': array([ 2,  3,  4,  5,  6,  7,  8,  9, 10, 11, 12, 13, 14, 15, 16, 17, 18,\n",
       "       19, 20, 21, 22, 23, 24, 25, 26, 27, 28, 29])})"
      ]
     },
     "execution_count": 104,
     "metadata": {},
     "output_type": "execute_result"
    }
   ],
   "source": [
    "rscv_df_clf = RandomizedSearchCV(dt_clf,hyper,cv=5,n_jobs=-1)\n",
    "rscv_df_clf.fit(x_train,y_train)"
   ]
  },
  {
   "cell_type": "code",
   "execution_count": 105,
   "id": "d05419ae",
   "metadata": {},
   "outputs": [
    {
     "data": {
      "text/plain": [
       "DecisionTreeClassifier(max_depth=9, min_samples_leaf=28, min_samples_split=21,\n",
       "                       random_state=7)"
      ]
     },
     "execution_count": 105,
     "metadata": {},
     "output_type": "execute_result"
    }
   ],
   "source": [
    "rscv_df_clf.best_estimator_"
   ]
  },
  {
   "cell_type": "code",
   "execution_count": 106,
   "id": "39c5768e",
   "metadata": {},
   "outputs": [
    {
     "name": "stdout",
     "output_type": "stream",
     "text": [
      "Training Accuracy:  0.8640937284631289\n",
      "Testing Accuracy:  0.8640937284631289\n"
     ]
    }
   ],
   "source": [
    "model = rscv_df_clf.best_estimator_\n",
    "model.fit(x_train,y_train)\n",
    "\n",
    "print(\"Training Accuracy: \",model.score(x_train,y_train))\n",
    "print(\"Testing Accuracy: \",model.score(x_test,y_test))"
   ]
  },
  {
   "cell_type": "markdown",
   "id": "3c615fbc",
   "metadata": {},
   "source": [
    "### Pruning"
   ]
  },
  {
   "cell_type": "code",
   "execution_count": 107,
   "id": "b286f97f",
   "metadata": {},
   "outputs": [
    {
     "data": {
      "text/plain": [
       "DecisionTreeClassifier(random_state=7)"
      ]
     },
     "execution_count": 107,
     "metadata": {},
     "output_type": "execute_result"
    }
   ],
   "source": [
    "dt_clf"
   ]
  },
  {
   "cell_type": "code",
   "execution_count": 108,
   "id": "d9e6b386",
   "metadata": {},
   "outputs": [],
   "source": [
    "ccp_alphas_list = dt_clf.cost_complexity_pruning_path(x_train,y_train)['ccp_alphas']"
   ]
  },
  {
   "cell_type": "code",
   "execution_count": 109,
   "id": "dd424c8a",
   "metadata": {},
   "outputs": [
    {
     "data": {
      "text/plain": [
       "1500"
      ]
     },
     "execution_count": 109,
     "metadata": {},
     "output_type": "execute_result"
    }
   ],
   "source": [
    "len(ccp_alphas_list)"
   ]
  },
  {
   "cell_type": "code",
   "execution_count": null,
   "id": "80f599da",
   "metadata": {},
   "outputs": [],
   "source": []
  },
  {
   "cell_type": "code",
   "execution_count": 110,
   "id": "de87176c",
   "metadata": {},
   "outputs": [
    {
     "data": {
      "text/plain": [
       "Text(0, 0.5, 'Accuracy')"
      ]
     },
     "execution_count": 110,
     "metadata": {},
     "output_type": "execute_result"
    },
    {
     "data": {
      "image/png": "[encoded data removed]",
      "text/plain": [
       "<Figure size 640x480 with 1 Axes>"
      ]
     },
     "metadata": {},
     "output_type": "display_data"
    }
   ],
   "source": [
    "train_accuracy_list = []\n",
    "test_accuracy_list = []\n",
    "\n",
    "for i in ccp_alphas_list :\n",
    "    model = DecisionTreeClassifier(random_state=7, ccp_alpha=i)\n",
    "    model.fit(x_train,y_train)\n",
    "    \n",
    "    train_accuracy = model.score(x_train,y_train)\n",
    "    train_accuracy_list.append(train_accuracy)\n",
    "    \n",
    "    test_accuracy = model.score(x_test,y_test)\n",
    "    test_accuracy_list.append(test_accuracy)\n",
    "    \n",
    "plt.plot(ccp_alphas_list,train_accuracy_list)\n",
    "plt.plot(ccp_alphas_list,test_accuracy_list)\n",
    "plt.xlabel('ccp alpha value')\n",
    "plt.ylabel('Accuracy')"
   ]
  },
  {
   "cell_type": "code",
   "execution_count": 111,
   "id": "39acd8c8",
   "metadata": {},
   "outputs": [],
   "source": [
    "maximum = np.max(test_accuracy_list)"
   ]
  },
  {
   "cell_type": "code",
   "execution_count": 112,
   "id": "5fbc858a",
   "metadata": {},
   "outputs": [],
   "source": [
    "ind = np.where(test_accuracy_list == maximum)[0][0]"
   ]
  },
  {
   "cell_type": "code",
   "execution_count": 113,
   "id": "5769132d",
   "metadata": {},
   "outputs": [
    {
     "data": {
      "text/plain": [
       "0.912026188835286"
      ]
     },
     "execution_count": 113,
     "metadata": {},
     "output_type": "execute_result"
    }
   ],
   "source": [
    "train_accuracy_list[ind]"
   ]
  },
  {
   "cell_type": "code",
   "execution_count": 114,
   "id": "b86de2e2",
   "metadata": {},
   "outputs": [
    {
     "data": {
      "text/plain": [
       "0.8898690558235699"
      ]
     },
     "execution_count": 114,
     "metadata": {},
     "output_type": "execute_result"
    }
   ],
   "source": [
    "test_accuracy_list[ind]"
   ]
  },
  {
   "cell_type": "code",
   "execution_count": 115,
   "id": "f398fa6a",
   "metadata": {},
   "outputs": [
    {
     "data": {
      "text/plain": [
       "9.088086276232383e-05"
      ]
     },
     "execution_count": 115,
     "metadata": {},
     "output_type": "execute_result"
    }
   ],
   "source": [
    "ccp_alphas_list[ind]"
   ]
  },
  {
   "cell_type": "markdown",
   "id": "c0b40722",
   "metadata": {},
   "source": [
    "### Best model "
   ]
  },
  {
   "cell_type": "code",
   "execution_count": 116,
   "id": "ece33cea",
   "metadata": {},
   "outputs": [
    {
     "name": "stdout",
     "output_type": "stream",
     "text": [
      "Training Accuracy:  0.912026188835286\n",
      "Testing Accuracy:  0.8898690558235699\n"
     ]
    }
   ],
   "source": [
    "dt_clf = DecisionTreeClassifier(random_state=7,ccp_alpha=ccp_alphas_list[ind])\n",
    "dt_clf.fit(x_train,y_train)\n",
    "\n",
    "print(\"Training Accuracy: \",dt_clf.score(x_train,y_train))\n",
    "print(\"Testing Accuracy: \",dt_clf.score(x_test,y_test))"
   ]
  },
  {
   "cell_type": "markdown",
   "id": "7bfa8293",
   "metadata": {},
   "source": [
    "### 4.Random Forest"
   ]
  },
  {
   "cell_type": "code",
   "execution_count": 117,
   "id": "70634388",
   "metadata": {
    "scrolled": true
   },
   "outputs": [
    {
     "name": "stdout",
     "output_type": "stream",
     "text": [
      "Training Accuracy:  0.9941075120606478\n",
      "Testing Accuracy:  0.9059958649207444\n"
     ]
    }
   ],
   "source": [
    "rf_clf = RandomForestClassifier(n_jobs=-1,random_state=7)\n",
    "rf_clf.fit(x_train,y_train)\n",
    "\n",
    "print(\"Training Accuracy: \",rf_clf.score(x_train,y_train))\n",
    "print(\"Testing Accuracy: \",rf_clf.score(x_test,y_test))"
   ]
  },
  {
   "cell_type": "markdown",
   "id": "77bd1a90",
   "metadata": {},
   "source": [
    "### Hyperparameter tuning"
   ]
  },
  {
   "cell_type": "code",
   "execution_count": 118,
   "id": "5010692c",
   "metadata": {},
   "outputs": [
    {
     "data": {
      "text/plain": [
       "RandomForestClassifier(n_jobs=-1, oob_score=True, random_state=7)"
      ]
     },
     "execution_count": 118,
     "metadata": {},
     "output_type": "execute_result"
    }
   ],
   "source": [
    "rf_clf = RandomForestClassifier(random_state=7,n_jobs=-1,oob_score=True)\n",
    "rf_clf.fit(x_train,y_train)"
   ]
  },
  {
   "cell_type": "code",
   "execution_count": 119,
   "id": "38fe1f98",
   "metadata": {},
   "outputs": [],
   "source": [
    "hyper = { 'n_estimators' : np.arange(10,100,5),\n",
    "        'criterion' : ['gini','entropy'],\n",
    "        'max_depth': np.arange(2,10),\n",
    "        'min_samples_split' : np.arange(5,20),\n",
    "        'min_samples_leaf' : np.arange(3,30)}"
   ]
  },
  {
   "cell_type": "code",
   "execution_count": 120,
   "id": "5b9f0276",
   "metadata": {
    "scrolled": false
   },
   "outputs": [
    {
     "data": {
      "text/plain": [
       "RandomizedSearchCV(cv=5,\n",
       "                   estimator=RandomForestClassifier(n_jobs=-1, oob_score=True,\n",
       "                                                    random_state=7),\n",
       "                   n_jobs=-1,\n",
       "                   param_distributions={'criterion': ['gini', 'entropy'],\n",
       "                                        'max_depth': array([2, 3, 4, 5, 6, 7, 8, 9]),\n",
       "                                        'min_samples_leaf': array([ 3,  4,  5,  6,  7,  8,  9, 10, 11, 12, 13, 14, 15, 16, 17, 18, 19,\n",
       "       20, 21, 22, 23, 24, 25, 26, 27, 28, 29]),\n",
       "                                        'min_samples_split': array([ 5,  6,  7,  8,  9, 10, 11, 12, 13, 14, 15, 16, 17, 18, 19]),\n",
       "                                        'n_estimators': array([10, 15, 20, 25, 30, 35, 40, 45, 50, 55, 60, 65, 70, 75, 80, 85, 90,\n",
       "       95])})"
      ]
     },
     "execution_count": 120,
     "metadata": {},
     "output_type": "execute_result"
    }
   ],
   "source": [
    "rscv_rf_clf = RandomizedSearchCV(rf_clf,hyper,cv=5,n_jobs=-1)\n",
    "rscv_rf_clf.fit(x_train,y_train)"
   ]
  },
  {
   "cell_type": "code",
   "execution_count": 121,
   "id": "e56078f3",
   "metadata": {
    "scrolled": false
   },
   "outputs": [
    {
     "data": {
      "text/plain": [
       "RandomForestClassifier(criterion='entropy', max_depth=9, min_samples_leaf=16,\n",
       "                       min_samples_split=9, n_estimators=15, n_jobs=-1,\n",
       "                       oob_score=True, random_state=7)"
      ]
     },
     "execution_count": 121,
     "metadata": {},
     "output_type": "execute_result"
    }
   ],
   "source": [
    "rscv_rf_clf.best_estimator_"
   ]
  },
  {
   "cell_type": "code",
   "execution_count": 123,
   "id": "abccd0cf",
   "metadata": {},
   "outputs": [
    {
     "name": "stdout",
     "output_type": "stream",
     "text": [
      "Training Accuracy:  0.8575465196416264\n",
      "Testing Accuracy:  0.8628532046864231\n"
     ]
    }
   ],
   "source": [
    "model = rscv_rf_clf.best_estimator_\n",
    "model.fit(x_train,y_train)\n",
    "\n",
    "print(\"Training Accuracy: \",model.score(x_train,y_train))\n",
    "print(\"Testing Accuracy: \",model.score(x_test,y_test))"
   ]
  },
  {
   "cell_type": "markdown",
   "id": "7978f13b",
   "metadata": {},
   "source": [
    "### 5.AdaBoost"
   ]
  },
  {
   "cell_type": "code",
   "execution_count": 127,
   "id": "fcd6528a",
   "metadata": {},
   "outputs": [
    {
     "data": {
      "text/plain": [
       "AdaBoostClassifier(random_state=7)"
      ]
     },
     "execution_count": 127,
     "metadata": {},
     "output_type": "execute_result"
    }
   ],
   "source": [
    "adaboost_clf = AdaBoostClassifier(random_state=7)\n",
    "adaboost_clf.fit(x_train,y_train)"
   ]
  },
  {
   "cell_type": "code",
   "execution_count": 128,
   "id": "e0fa81ed",
   "metadata": {},
   "outputs": [
    {
     "name": "stdout",
     "output_type": "stream",
     "text": [
      "Training Accuracy:  0.8186767746381806\n",
      "Testing Accuracy:  0.8270158511371468\n"
     ]
    }
   ],
   "source": [
    "print(\"Training Accuracy: \",adaboost_clf.score(x_train,y_train))\n",
    "print(\"Testing Accuracy: \",adaboost_clf.score(x_test,y_test))"
   ]
  },
  {
   "cell_type": "markdown",
   "id": "1009137a",
   "metadata": {},
   "source": [
    "### Hyperparameter tuning"
   ]
  },
  {
   "cell_type": "code",
   "execution_count": null,
   "id": "4642216c",
   "metadata": {},
   "outputs": [],
   "source": [
    "AdaBoostClassifier()"
   ]
  },
  {
   "cell_type": "code",
   "execution_count": 131,
   "id": "3cbabe77",
   "metadata": {},
   "outputs": [],
   "source": [
    "hyper = {'n_estimators': np.arange(10,50,10),\n",
    "    \t'learning_rate' : np.arange(0,1.0,0.1),}"
   ]
  },
  {
   "cell_type": "code",
   "execution_count": 132,
   "id": "6add0660",
   "metadata": {},
   "outputs": [
    {
     "data": {
      "text/plain": [
       "GridSearchCV(cv=5, estimator=AdaBoostClassifier(random_state=7), n_jobs=-1,\n",
       "             param_grid={'learning_rate': array([0. , 0.1, 0.2, 0.3, 0.4, 0.5, 0.6, 0.7, 0.8, 0.9]),\n",
       "                         'n_estimators': array([10, 20, 30, 40])})"
      ]
     },
     "execution_count": 132,
     "metadata": {},
     "output_type": "execute_result"
    }
   ],
   "source": [
    "gscv_adaboost_clf = GridSearchCV(adaboost_clf,hyper,cv=5,n_jobs=-1)\n",
    "gscv_adaboost_clf.fit(x_train,y_train)"
   ]
  },
  {
   "cell_type": "code",
   "execution_count": 133,
   "id": "78e784fd",
   "metadata": {
    "scrolled": true
   },
   "outputs": [
    {
     "data": {
      "text/plain": [
       "AdaBoostClassifier(learning_rate=0.7000000000000001, n_estimators=30,\n",
       "                   random_state=7)"
      ]
     },
     "execution_count": 133,
     "metadata": {},
     "output_type": "execute_result"
    }
   ],
   "source": [
    "gscv_adaboost_clf.best_estimator_"
   ]
  },
  {
   "cell_type": "code",
   "execution_count": 134,
   "id": "e62dc0e9",
   "metadata": {},
   "outputs": [
    {
     "name": "stdout",
     "output_type": "stream",
     "text": [
      "Training Accuracy:  0.8176085458304617\n",
      "Testing Accuracy:  0.8267401791867678\n"
     ]
    }
   ],
   "source": [
    "adaboost_clf = gscv_adaboost_clf.best_estimator_\n",
    "adaboost_clf.fit(x_train,y_train)\n",
    "\n",
    "print(\"Training Accuracy: \",adaboost_clf.score(x_train,y_train))\n",
    "print(\"Testing Accuracy: \",adaboost_clf.score(x_test,y_test))"
   ]
  },
  {
   "cell_type": "code",
   "execution_count": null,
   "id": "d5c0db84",
   "metadata": {},
   "outputs": [],
   "source": []
  },
  {
   "cell_type": "markdown",
   "id": "e02b83bd",
   "metadata": {},
   "source": [
    "### Best model with high testing data accuracy"
   ]
  },
  {
   "cell_type": "code",
   "execution_count": 135,
   "id": "36b1671e",
   "metadata": {},
   "outputs": [
    {
     "data": {
      "text/plain": [
       "DecisionTreeClassifier(ccp_alpha=9.088086276232383e-05, random_state=7)"
      ]
     },
     "execution_count": 135,
     "metadata": {},
     "output_type": "execute_result"
    }
   ],
   "source": [
    "dt_clf"
   ]
  },
  {
   "cell_type": "code",
   "execution_count": null,
   "id": "88550840",
   "metadata": {},
   "outputs": [],
   "source": []
  },
  {
   "cell_type": "markdown",
   "id": "fdc16333",
   "metadata": {},
   "source": [
    "### Model evaluation"
   ]
  },
  {
   "cell_type": "code",
   "execution_count": 137,
   "id": "c2c88f89",
   "metadata": {},
   "outputs": [
    {
     "name": "stdout",
     "output_type": "stream",
     "text": [
      "Train Accuracy:  0.912026188835286\n",
      "Classification report:\n",
      "               precision    recall  f1-score   support\n",
      "\n",
      "           0       0.89      0.83      0.86      9508\n",
      "           1       0.92      0.95      0.94     19512\n",
      "\n",
      "    accuracy                           0.91     29020\n",
      "   macro avg       0.91      0.89      0.90     29020\n",
      "weighted avg       0.91      0.91      0.91     29020\n",
      "\n",
      "Confusion matrix:\n",
      " [[ 7887  1621]\n",
      " [  932 18580]]\n"
     ]
    },
    {
     "data": {
      "text/plain": [
       "<sklearn.metrics._plot.confusion_matrix.ConfusionMatrixDisplay at 0x16f43fde580>"
      ]
     },
     "execution_count": 137,
     "metadata": {},
     "output_type": "execute_result"
    },
    {
     "data": {
      "image/png": "[encoded data removed]",
      "text/plain": [
       "<Figure size 640x480 with 2 Axes>"
      ]
     },
     "metadata": {},
     "output_type": "display_data"
    }
   ],
   "source": [
    "#train data evaluation\n",
    "\n",
    "y_pred_train = dt_clf.predict(x_train)\n",
    "\n",
    "\n",
    "accuracy = accuracy_score(y_train,y_pred_train)\n",
    "print(\"Train Accuracy: \",accuracy)\n",
    "\n",
    "clf_report = classification_report(y_train,y_pred_train)\n",
    "print(\"Classification report:\\n\",clf_report)\n",
    "\n",
    "\n",
    "cnf_matrix = confusion_matrix(y_train,y_pred_train)\n",
    "print(\"Confusion matrix:\\n\",cnf_matrix)\n",
    "\n",
    "ConfusionMatrixDisplay(cnf_matrix).plot()"
   ]
  },
  {
   "cell_type": "code",
   "execution_count": 138,
   "id": "55353ec7",
   "metadata": {},
   "outputs": [
    {
     "name": "stdout",
     "output_type": "stream",
     "text": [
      "test Accuracy:  0.8898690558235699\n",
      "Classification report:\n",
      "               precision    recall  f1-score   support\n",
      "\n",
      "           0       0.86      0.80      0.83      2377\n",
      "           1       0.90      0.94      0.92      4878\n",
      "\n",
      "    accuracy                           0.89      7255\n",
      "   macro avg       0.88      0.87      0.87      7255\n",
      "weighted avg       0.89      0.89      0.89      7255\n",
      "\n",
      "Confusion matrix:\n",
      " [[1894  483]\n",
      " [ 316 4562]]\n"
     ]
    },
    {
     "data": {
      "text/plain": [
       "<sklearn.metrics._plot.confusion_matrix.ConfusionMatrixDisplay at 0x16f43fde250>"
      ]
     },
     "execution_count": 138,
     "metadata": {},
     "output_type": "execute_result"
    },
    {
     "data": {
      "image/png": "[encoded data removed]",
      "text/plain": [
       "<Figure size 640x480 with 2 Axes>"
      ]
     },
     "metadata": {},
     "output_type": "display_data"
    }
   ],
   "source": [
    "#test data evaluation\n",
    "\n",
    "y_pred_test = dt_clf.predict(x_test)\n",
    "\n",
    "\n",
    "accuracy = accuracy_score(y_test,y_pred_test)\n",
    "print(\"test Accuracy: \",accuracy)\n",
    "\n",
    "clf_report = classification_report(y_test,y_pred_test)\n",
    "print(\"Classification report:\\n\",clf_report)\n",
    "\n",
    "\n",
    "cnf_matrix = confusion_matrix(y_test,y_pred_test)\n",
    "print(\"Confusion matrix:\\n\",cnf_matrix)\n",
    "\n",
    "ConfusionMatrixDisplay(cnf_matrix).plot()"
   ]
  },
  {
   "cell_type": "markdown",
   "id": "456cfdd8",
   "metadata": {},
   "source": [
    "### Save model"
   ]
  },
  {
   "cell_type": "code",
   "execution_count": 139,
   "id": "943cf3e0",
   "metadata": {},
   "outputs": [],
   "source": [
    "import pickle\n",
    "import json"
   ]
  },
  {
   "cell_type": "code",
   "execution_count": 149,
   "id": "9b3b2ccf",
   "metadata": {},
   "outputs": [],
   "source": [
    "with open(r'artifacts/model.pkl','wb') as file:\n",
    "    pickle.dump(dt_clf,file)\n",
    "    \n",
    "with open(r'artifacts/scaler.pkl','wb') as file:\n",
    "    pickle.dump(scaler,file)\n",
    "    "
   ]
  },
  {
   "cell_type": "markdown",
   "id": "abdc1c74",
   "metadata": {},
   "source": [
    "### Save data"
   ]
  },
  {
   "cell_type": "code",
   "execution_count": 144,
   "id": "39495d3f",
   "metadata": {},
   "outputs": [
    {
     "data": {
      "text/plain": [
       "['no_of_adults',\n",
       " 'no_of_children',\n",
       " 'no_of_weekend_nights',\n",
       " 'no_of_week_nights',\n",
       " 'type_of_meal_plan',\n",
       " 'required_car_parking_space',\n",
       " 'room_type_reserved',\n",
       " 'lead_time',\n",
       " 'arrival_year',\n",
       " 'arrival_month',\n",
       " 'arrival_date',\n",
       " 'repeated_guest',\n",
       " 'no_of_previous_cancellations',\n",
       " 'no_of_previous_bookings_not_canceled',\n",
       " 'avg_price_per_room',\n",
       " 'no_of_special_requests',\n",
       " 'market_segment_type_Aviation',\n",
       " 'market_segment_type_Complementary',\n",
       " 'market_segment_type_Corporate',\n",
       " 'market_segment_type_Offline',\n",
       " 'market_segment_type_Online']"
      ]
     },
     "execution_count": 144,
     "metadata": {},
     "output_type": "execute_result"
    }
   ],
   "source": [
    "list(x_train.columns)"
   ]
  },
  {
   "cell_type": "code",
   "execution_count": 145,
   "id": "32152670",
   "metadata": {},
   "outputs": [],
   "source": [
    "data = {'features':['no_of_adults',\n",
    "         'no_of_children',\n",
    "         'no_of_weekend_nights',\n",
    "         'no_of_week_nights',\n",
    "         'type_of_meal_plan',\n",
    "         'required_car_parking_space',\n",
    "         'room_type_reserved',\n",
    "         'lead_time',\n",
    "         'arrival_year',\n",
    "         'arrival_month',\n",
    "         'arrival_date',\n",
    "         'repeated_guest',\n",
    "         'no_of_previous_cancellations',\n",
    "         'no_of_previous_bookings_not_canceled',\n",
    "         'avg_price_per_room',\n",
    "         'no_of_special_requests',\n",
    "         'market_segment_type_Aviation',\n",
    "         'market_segment_type_Complementary',\n",
    "         'market_segment_type_Corporate',\n",
    "         'market_segment_type_Offline',\n",
    "         'market_segment_type_Online'],\n",
    "       'type_of_meal_plan':{'Meal Plan 1': 1,\n",
    "           'Not Selected': 0,\n",
    "           'Meal Plan 2': 2,\n",
    "           'Meal Plan 3': 3},\n",
    "       'room_type_reserved':{'Room_Type 1': 1,\n",
    "           'Room_Type 4': 4,\n",
    "           'Room_Type 6': 6,\n",
    "           'Room_Type 2': 2,\n",
    "           'Room_Type 5': 5,\n",
    "           'Room_Type 7': 7,\n",
    "           'Room_Type 3': 3},\n",
    "       }"
   ]
  },
  {
   "cell_type": "code",
   "execution_count": 147,
   "id": "a9c4bce2",
   "metadata": {},
   "outputs": [
    {
     "data": {
      "text/plain": [
       "{'Meal Plan 1': 1, 'Not Selected': 0, 'Meal Plan 2': 2, 'Meal Plan 3': 3}"
      ]
     },
     "execution_count": 147,
     "metadata": {},
     "output_type": "execute_result"
    }
   ],
   "source": [
    "data['room_type_reserved']\n",
    "data['type_of_meal_plan']"
   ]
  },
  {
   "cell_type": "code",
   "execution_count": 150,
   "id": "7bee26da",
   "metadata": {},
   "outputs": [],
   "source": [
    "with open(r'artifacts/model_data.json','w') as file:\n",
    "    json.dump(data,file)"
   ]
  },
  {
   "cell_type": "code",
   "execution_count": 152,
   "id": "b2ded77f",
   "metadata": {},
   "outputs": [
    {
     "data": {
      "text/html": [
       "<div>\n",
       "<style scoped>\n",
       "    .dataframe tbody tr th:only-of-type {\n",
       "        vertical-align: middle;\n",
       "    }\n",
       "\n",
       "    .dataframe tbody tr th {\n",
       "        vertical-align: top;\n",
       "    }\n",
       "\n",
       "    .dataframe thead th {\n",
       "        text-align: right;\n",
       "    }\n",
       "</style>\n",
       "<table border=\"1\" class=\"dataframe\">\n",
       "  <thead>\n",
       "    <tr style=\"text-align: right;\">\n",
       "      <th></th>\n",
       "      <th>0</th>\n",
       "    </tr>\n",
       "  </thead>\n",
       "  <tbody>\n",
       "    <tr>\n",
       "      <th>no_of_adults</th>\n",
       "      <td>2.0</td>\n",
       "    </tr>\n",
       "    <tr>\n",
       "      <th>no_of_children</th>\n",
       "      <td>0.0</td>\n",
       "    </tr>\n",
       "    <tr>\n",
       "      <th>no_of_weekend_nights</th>\n",
       "      <td>1.0</td>\n",
       "    </tr>\n",
       "    <tr>\n",
       "      <th>no_of_week_nights</th>\n",
       "      <td>2.0</td>\n",
       "    </tr>\n",
       "    <tr>\n",
       "      <th>type_of_meal_plan</th>\n",
       "      <td>1.0</td>\n",
       "    </tr>\n",
       "    <tr>\n",
       "      <th>required_car_parking_space</th>\n",
       "      <td>0.0</td>\n",
       "    </tr>\n",
       "    <tr>\n",
       "      <th>room_type_reserved</th>\n",
       "      <td>1.0</td>\n",
       "    </tr>\n",
       "    <tr>\n",
       "      <th>lead_time</th>\n",
       "      <td>224.0</td>\n",
       "    </tr>\n",
       "    <tr>\n",
       "      <th>arrival_year</th>\n",
       "      <td>2017.0</td>\n",
       "    </tr>\n",
       "    <tr>\n",
       "      <th>arrival_month</th>\n",
       "      <td>10.0</td>\n",
       "    </tr>\n",
       "    <tr>\n",
       "      <th>arrival_date</th>\n",
       "      <td>2.0</td>\n",
       "    </tr>\n",
       "    <tr>\n",
       "      <th>repeated_guest</th>\n",
       "      <td>0.0</td>\n",
       "    </tr>\n",
       "    <tr>\n",
       "      <th>no_of_previous_cancellations</th>\n",
       "      <td>0.0</td>\n",
       "    </tr>\n",
       "    <tr>\n",
       "      <th>no_of_previous_bookings_not_canceled</th>\n",
       "      <td>0.0</td>\n",
       "    </tr>\n",
       "    <tr>\n",
       "      <th>avg_price_per_room</th>\n",
       "      <td>65.0</td>\n",
       "    </tr>\n",
       "    <tr>\n",
       "      <th>no_of_special_requests</th>\n",
       "      <td>0.0</td>\n",
       "    </tr>\n",
       "    <tr>\n",
       "      <th>booking_status</th>\n",
       "      <td>1.0</td>\n",
       "    </tr>\n",
       "    <tr>\n",
       "      <th>market_segment_type_Aviation</th>\n",
       "      <td>0.0</td>\n",
       "    </tr>\n",
       "    <tr>\n",
       "      <th>market_segment_type_Complementary</th>\n",
       "      <td>0.0</td>\n",
       "    </tr>\n",
       "    <tr>\n",
       "      <th>market_segment_type_Corporate</th>\n",
       "      <td>0.0</td>\n",
       "    </tr>\n",
       "    <tr>\n",
       "      <th>market_segment_type_Offline</th>\n",
       "      <td>1.0</td>\n",
       "    </tr>\n",
       "    <tr>\n",
       "      <th>market_segment_type_Online</th>\n",
       "      <td>0.0</td>\n",
       "    </tr>\n",
       "  </tbody>\n",
       "</table>\n",
       "</div>"
      ],
      "text/plain": [
       "                                           0\n",
       "no_of_adults                             2.0\n",
       "no_of_children                           0.0\n",
       "no_of_weekend_nights                     1.0\n",
       "no_of_week_nights                        2.0\n",
       "type_of_meal_plan                        1.0\n",
       "required_car_parking_space               0.0\n",
       "room_type_reserved                       1.0\n",
       "lead_time                              224.0\n",
       "arrival_year                          2017.0\n",
       "arrival_month                           10.0\n",
       "arrival_date                             2.0\n",
       "repeated_guest                           0.0\n",
       "no_of_previous_cancellations             0.0\n",
       "no_of_previous_bookings_not_canceled     0.0\n",
       "avg_price_per_room                      65.0\n",
       "no_of_special_requests                   0.0\n",
       "booking_status                           1.0\n",
       "market_segment_type_Aviation             0.0\n",
       "market_segment_type_Complementary        0.0\n",
       "market_segment_type_Corporate            0.0\n",
       "market_segment_type_Offline              1.0\n",
       "market_segment_type_Online               0.0"
      ]
     },
     "execution_count": 152,
     "metadata": {},
     "output_type": "execute_result"
    }
   ],
   "source": [
    "df.head(1).T"
   ]
  },
  {
   "cell_type": "code",
   "execution_count": null,
   "id": "b33b8704",
   "metadata": {},
   "outputs": [],
   "source": [
    "2\n",
    "0\n",
    "1\n",
    "1\n",
    "Not Selected\n",
    "0\n",
    "Room_Type 1\n",
    "48\n",
    "2018\n",
    "4\n",
    "11\n",
    "Online\n",
    "0\n",
    "0\n",
    "0\n",
    "94.5\n",
    "0\n",
    "Canceled"
   ]
  }
 ],
 "metadata": {
  "kernelspec": {
   "display_name": "Python 3 (ipykernel)",
   "language": "python",
   "name": "python3"
  },
  "language_info": {
   "codemirror_mode": {
    "name": "ipython",
    "version": 3
   },
   "file_extension": ".py",
   "mimetype": "text/x-python",
   "name": "python",
   "nbconvert_exporter": "python",
   "pygments_lexer": "ipython3",
   "version": "3.9.16"
  }
 },
 "nbformat": 4,
 "nbformat_minor": 5
}
